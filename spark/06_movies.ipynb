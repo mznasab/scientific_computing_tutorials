{
 "metadata": {
  "name": "",
  "signature": "sha256:2a987e2fbc95bc3256b2bca8da0f385a00113425035d4e954ca5a047b2c0a74c"
 },
 "nbformat": 3,
 "nbformat_minor": 0,
 "worksheets": [
  {
   "cells": [
    {
     "cell_type": "code",
     "collapsed": false,
     "input": [
      "import awsdata\n",
      "reload(awsdata)\n",
      "\n",
      "awsdata.get('https://s3.amazonaws.com/research_computing_tutorials/movies.dat')\n",
      "awsdata.get('https://s3.amazonaws.com/research_computing_tutorials/ratings.dat')\n",
      "awsdata.get('https://s3.amazonaws.com/research_computing_tutorials/users.dat')"
     ],
     "language": "python",
     "metadata": {},
     "outputs": [],
     "prompt_number": 1
    },
    {
     "cell_type": "heading",
     "level": 2,
     "metadata": {},
     "source": [
      "Pandas"
     ]
    },
    {
     "cell_type": "code",
     "collapsed": false,
     "input": [
      "import pandas as pd\n",
      "\n",
      "def get_movie_data():\n",
      "    \n",
      "    unames = ['user_id','gender','age','occupation','zip']\n",
      "    users = pd.read_table('users.dat', \n",
      "                          sep='::', header=None, names=unames)\n",
      "    \n",
      "    rnames = ['user_id', 'movie_id', 'rating', 'timestamp']\n",
      "    ratings = pd.read_table('ratings.dat', \n",
      "                            sep='::', header=None, names=rnames)\n",
      "    \n",
      "    mnames = ['movie_id', 'title','genres']\n",
      "    movies = pd.read_table('movies.dat', \n",
      "                           sep='::', header=None, names=mnames)\n",
      "\n",
      "    return users, ratings, movies"
     ],
     "language": "python",
     "metadata": {},
     "outputs": [],
     "prompt_number": 10
    },
    {
     "cell_type": "code",
     "collapsed": false,
     "input": [
      "users, ratings, movies = get_movie_data()"
     ],
     "language": "python",
     "metadata": {},
     "outputs": [],
     "prompt_number": 11
    },
    {
     "cell_type": "code",
     "collapsed": false,
     "input": [
      "print users.head()"
     ],
     "language": "python",
     "metadata": {},
     "outputs": [
      {
       "output_type": "stream",
       "stream": "stdout",
       "text": [
        "   user_id gender  age  occupation    zip\n",
        "0        1      F    1          10  48067\n",
        "1        2      M   56          16  70072\n",
        "2        3      M   25          15  55117\n",
        "3        4      M   45           7  02460\n",
        "4        5      M   25          20  55455\n",
        "\n",
        "[5 rows x 5 columns]\n"
       ]
      }
     ],
     "prompt_number": 12
    },
    {
     "cell_type": "code",
     "collapsed": false,
     "input": [
      "print ratings.head()"
     ],
     "language": "python",
     "metadata": {},
     "outputs": [
      {
       "output_type": "stream",
       "stream": "stdout",
       "text": [
        "   user_id  movie_id  rating  timestamp\n",
        "0        1      1193       5  978300760\n",
        "1        1       661       3  978302109\n",
        "2        1       914       3  978301968\n",
        "3        1      3408       4  978300275\n",
        "4        1      2355       5  978824291\n",
        "\n",
        "[5 rows x 4 columns]\n"
       ]
      }
     ],
     "prompt_number": 13
    },
    {
     "cell_type": "code",
     "collapsed": false,
     "input": [
      "print movies.head()"
     ],
     "language": "python",
     "metadata": {},
     "outputs": [
      {
       "output_type": "stream",
       "stream": "stdout",
       "text": [
        "   movie_id                               title                        genres\n",
        "0         1                    Toy Story (1995)   Animation|Children's|Comedy\n",
        "1         2                      Jumanji (1995)  Adventure|Children's|Fantasy\n",
        "2         3             Grumpier Old Men (1995)                Comedy|Romance\n",
        "3         4            Waiting to Exhale (1995)                  Comedy|Drama\n",
        "4         5  Father of the Bride Part II (1995)                        Comedy\n",
        "\n",
        "[5 rows x 3 columns]\n"
       ]
      }
     ],
     "prompt_number": 14
    },
    {
     "cell_type": "heading",
     "level": 3,
     "metadata": {},
     "source": [
      "Clean up"
     ]
    },
    {
     "cell_type": "code",
     "collapsed": false,
     "input": [
      "tmp = movies.title.str.match('(.*) \\(([0-9]+)\\)')\n",
      "movies['year'] = tmp.map(lambda x: x[1] if len(x) > 0 else None)\n",
      "movies['short_title'] = tmp.map(lambda x: x[0][:40] if len(x) > 0 else None)"
     ],
     "language": "python",
     "metadata": {},
     "outputs": [],
     "prompt_number": 23
    },
    {
     "cell_type": "heading",
     "level": 3,
     "metadata": {},
     "source": [
      "Join"
     ]
    },
    {
     "cell_type": "code",
     "collapsed": false,
     "input": [
      "data = pd.merge(pd.merge(ratings, users), movies)"
     ],
     "language": "python",
     "metadata": {},
     "outputs": [],
     "prompt_number": 24
    },
    {
     "cell_type": "heading",
     "level": 3,
     "metadata": {},
     "source": [
      "Compute"
     ]
    },
    {
     "cell_type": "code",
     "collapsed": false,
     "input": [
      "tmp = data[['short_title','rating']]\n",
      "grp = tmp.groupby('short_title')\n",
      "mean_rating = grp['rating'].agg(['mean','count'])\n",
      "print mean_rating.sort('mean', ascending=False).head(10)"
     ],
     "language": "python",
     "metadata": {},
     "outputs": [
      {
       "output_type": "stream",
       "stream": "stdout",
       "text": [
        "                                        mean  count\n",
        "short_title                                        \n",
        "Bittersweet Motel                   5.000000      1\n",
        "Baby, The                           5.000000      1\n",
        "Schlafes Bruder (Brother of Sleep)  5.000000      1\n",
        "Hour of the Pig, The                5.000000      1\n",
        "Ulysses (Ulisse)                    5.000000      1\n",
        "Follow the Bitch                    5.000000      1\n",
        "Smashing Time                       5.000000      2\n",
        "Gate of Heavenly Peace, The         5.000000      3\n",
        "I Am Cuba (Soy Cuba/Ya Kuba)        4.750000      4\n",
        "Lamerica                            4.666667      6\n",
        "\n",
        "[10 rows x 2 columns]\n"
       ]
      }
     ],
     "prompt_number": 27
    },
    {
     "cell_type": "code",
     "collapsed": false,
     "input": [
      "mask = mean_rating['count'] > 1000\n",
      "print mean_rating.ix[mask].sort('mean', ascending=False).head(10)"
     ],
     "language": "python",
     "metadata": {},
     "outputs": [
      {
       "output_type": "stream",
       "stream": "stdout",
       "text": [
        "                                              mean  count\n",
        "short_title                                              \n",
        "Shawshank Redemption, The                 4.554005   1935\n",
        "Godfather, The                            4.527091   1901\n",
        "Usual Suspects, The                       4.517949   1560\n",
        "Schindler's List                          4.504985   2006\n",
        "Raiders of the Lost Ark                   4.492847   2167\n",
        "Star Wars: Episode IV - A New Hope        4.459961   2585\n",
        "Dr. Strangelove or: How I Learned to Sto  4.443590   1170\n",
        "Sixth Sense, The                          4.417228   2078\n",
        "Casablanca                                4.409283   1422\n",
        "One Flew Over the Cuckoo's Nest           4.390866   1489\n",
        "\n",
        "[10 rows x 2 columns]\n"
       ]
      }
     ],
     "prompt_number": 28
    },
    {
     "cell_type": "heading",
     "level": 2,
     "metadata": {},
     "source": [
      "Spark"
     ]
    },
    {
     "cell_type": "code",
     "collapsed": false,
     "input": [
      "from pyspark import  SparkContext\n",
      "SparkContext.setSystemProperty('spark.executor.memory', '20g')\n",
      "\n",
      "if 'sc' not in globals():\n",
      "    sc = SparkContext( CLUSTER_URL, 'pyspark')"
     ],
     "language": "python",
     "metadata": {},
     "outputs": [],
     "prompt_number": 5
    },
    {
     "cell_type": "code",
     "collapsed": false,
     "input": [
      "users = sc.textFile('users.dat').map(lambda x: (int(x.split('::')[0]), x))\n",
      "print users.count()\n",
      "users.take(5)"
     ],
     "language": "python",
     "metadata": {},
     "outputs": [
      {
       "output_type": "stream",
       "stream": "stdout",
       "text": [
        "6040\n"
       ]
      },
      {
       "metadata": {},
       "output_type": "pyout",
       "prompt_number": 6,
       "text": [
        "[(1, u'1::F::1::10::48067'),\n",
        " (2, u'2::M::56::16::70072'),\n",
        " (3, u'3::M::25::15::55117'),\n",
        " (4, u'4::M::45::7::02460'),\n",
        " (5, u'5::M::25::20::55455')]"
       ]
      }
     ],
     "prompt_number": 6
    },
    {
     "cell_type": "code",
     "collapsed": false,
     "input": [
      "ratings = sc.textFile('ratings.dat').map(lambda x: (int(x.split('::')[0]), x))\n",
      "print ratings.count()\n",
      "ratings.take(5)"
     ],
     "language": "python",
     "metadata": {},
     "outputs": [
      {
       "output_type": "stream",
       "stream": "stdout",
       "text": [
        "875657\n"
       ]
      },
      {
       "metadata": {},
       "output_type": "pyout",
       "prompt_number": 7,
       "text": [
        "[(1, u'1::1193::5::978300760'),\n",
        " (1, u'1::661::3::978302109'),\n",
        " (1, u'1::914::3::978301968'),\n",
        " (1, u'1::3408::4::978300275'),\n",
        " (1, u'1::2355::5::978824291')]"
       ]
      }
     ],
     "prompt_number": 7
    },
    {
     "cell_type": "code",
     "collapsed": false,
     "input": [
      "movies = sc.textFile('movies.dat').map(lambda x: (int(x.split('::')[0]), x))\n",
      "print movies.count()\n",
      "movies.take(5)"
     ],
     "language": "python",
     "metadata": {},
     "outputs": [
      {
       "output_type": "stream",
       "stream": "stdout",
       "text": [
        "3883\n"
       ]
      },
      {
       "metadata": {},
       "output_type": "pyout",
       "prompt_number": 8,
       "text": [
        "[(1, u\"1::Toy Story (1995)::Animation|Children's|Comedy\"),\n",
        " (2, u\"2::Jumanji (1995)::Adventure|Children's|Fantasy\"),\n",
        " (3, u'3::Grumpier Old Men (1995)::Comedy|Romance'),\n",
        " (4, u'4::Waiting to Exhale (1995)::Comedy|Drama'),\n",
        " (5, u'5::Father of the Bride Part II (1995)::Comedy')]"
       ]
      }
     ],
     "prompt_number": 8
    },
    {
     "cell_type": "heading",
     "level": 3,
     "metadata": {},
     "source": [
      "Join"
     ]
    },
    {
     "cell_type": "code",
     "collapsed": false,
     "input": [
      "data = ratings.join(users)\n",
      "data.take(10)"
     ],
     "language": "python",
     "metadata": {},
     "outputs": [
      {
       "metadata": {},
       "output_type": "pyout",
       "prompt_number": 13,
       "text": [
        "[(2052, (u'2052::2997::1::974661754', u'2052::M::1::10::46033')),\n",
        " (2052, (u'2052::3005::3::974661796', u'2052::M::1::10::46033')),\n",
        " (2052, (u'2052::3016::3::974661930', u'2052::M::1::10::46033')),\n",
        " (2052, (u'2052::3248::3::974661507', u'2052::M::1::10::46033')),\n",
        " (2052, (u'2052::3285::1::974661754', u'2052::M::1::10::46033')),\n",
        " (2052, (u'2052::1831::1::974661443', u'2052::M::1::10::46033')),\n",
        " (2052, (u'2052::223::4::974661479', u'2052::M::1::10::46033')),\n",
        " (2052, (u'2052::2826::1::974661685', u'2052::M::1::10::46033')),\n",
        " (2052, (u'2052::2827::2::974661754', u'2052::M::1::10::46033')),\n",
        " (2052, (u'2052::2683::4::974661754', u'2052::M::1::10::46033'))]"
       ]
      }
     ],
     "prompt_number": 13
    },
    {
     "cell_type": "code",
     "collapsed": false,
     "input": [
      "tmp = data.map( lambda x: '::'.join(x[1]))\n",
      "tmp = tmp.map( lambda x: (int(x.split('::')[1]), x))\n",
      "tmp.take(5)"
     ],
     "language": "python",
     "metadata": {},
     "outputs": [
      {
       "metadata": {},
       "output_type": "pyout",
       "prompt_number": 14,
       "text": [
        "[(2997, u'2052::2997::1::974661754::2052::M::1::10::46033'),\n",
        " (3005, u'2052::3005::3::974661796::2052::M::1::10::46033'),\n",
        " (3016, u'2052::3016::3::974661930::2052::M::1::10::46033'),\n",
        " (3248, u'2052::3248::3::974661507::2052::M::1::10::46033'),\n",
        " (3285, u'2052::3285::1::974661754::2052::M::1::10::46033')]"
       ]
      }
     ],
     "prompt_number": 14
    },
    {
     "cell_type": "code",
     "collapsed": false,
     "input": [
      "data = tmp.join(movies)\n",
      "data.count()\n",
      "data.take(5)"
     ],
     "language": "python",
     "metadata": {},
     "outputs": [
      {
       "metadata": {},
       "output_type": "pyout",
       "prompt_number": 19,
       "text": [
        "[(3072,\n",
        "  (u'24::3072::4::978132276::24::F::25::7::10023',\n",
        "   u'3072::Moonstruck (1987)::Comedy')),\n",
        " (3072,\n",
        "  (u'36::3072::4::978063192::36::M::25::3::94123',\n",
        "   u'3072::Moonstruck (1987)::Comedy')),\n",
        " (3072,\n",
        "  (u'2124::3072::5::974649244::2124::M::25::0::12306',\n",
        "   u'3072::Moonstruck (1987)::Comedy')),\n",
        " (3072,\n",
        "  (u'132::3072::4::977428857::132::M::25::17::99709',\n",
        "   u'3072::Moonstruck (1987)::Comedy')),\n",
        " (3072,\n",
        "  (u'4296::3072::5::965270114::4296::M::56::6::33030',\n",
        "   u'3072::Moonstruck (1987)::Comedy'))]"
       ]
      }
     ],
     "prompt_number": 19
    },
    {
     "cell_type": "code",
     "collapsed": false,
     "input": [
      "data = data.map(lambda x: '::'.join(x[1]))\n",
      "data.take(5)"
     ],
     "language": "python",
     "metadata": {},
     "outputs": [
      {
       "metadata": {},
       "output_type": "pyout",
       "prompt_number": 20,
       "text": [
        "[u'24::3072::4::978132276::24::F::25::7::10023::3072::Moonstruck (1987)::Comedy',\n",
        " u'36::3072::4::978063192::36::M::25::3::94123::3072::Moonstruck (1987)::Comedy',\n",
        " u'2124::3072::5::974649244::2124::M::25::0::12306::3072::Moonstruck (1987)::Comedy',\n",
        " u'132::3072::4::977428857::132::M::25::17::99709::3072::Moonstruck (1987)::Comedy',\n",
        " u'4296::3072::5::965270114::4296::M::56::6::33030::3072::Moonstruck (1987)::Comedy']"
       ]
      }
     ],
     "prompt_number": 20
    },
    {
     "cell_type": "heading",
     "level": 3,
     "metadata": {},
     "source": [
      "Cleaning"
     ]
    },
    {
     "cell_type": "code",
     "collapsed": false,
     "input": [
      "def keep_cols(x):\n",
      "    values = x.split('::')\n",
      "    return (values[2], values[5], values[10], 1) #add 1 for the count"
     ],
     "language": "python",
     "metadata": {},
     "outputs": [],
     "prompt_number": 21
    },
    {
     "cell_type": "code",
     "collapsed": false,
     "input": [
      "clean = data.map(keep_cols)\n",
      "clean.take(5)"
     ],
     "language": "python",
     "metadata": {},
     "outputs": [
      {
       "metadata": {},
       "output_type": "pyout",
       "prompt_number": 22,
       "text": [
        "[(u'4', u'F', u'Moonstruck (1987)', 1),\n",
        " (u'4', u'M', u'Moonstruck (1987)', 1),\n",
        " (u'5', u'M', u'Moonstruck (1987)', 1),\n",
        " (u'4', u'M', u'Moonstruck (1987)', 1),\n",
        " (u'5', u'M', u'Moonstruck (1987)', 1)]"
       ]
      }
     ],
     "prompt_number": 22
    },
    {
     "cell_type": "heading",
     "level": 3,
     "metadata": {},
     "source": [
      "Compute"
     ]
    },
    {
     "cell_type": "markdown",
     "metadata": {},
     "source": [
      "Groupby movie"
     ]
    },
    {
     "cell_type": "code",
     "collapsed": false,
     "input": [
      "tmp = clean.map(lambda x: (x[2], x)).groupByKey()\n",
      "print tmp.count()"
     ],
     "language": "python",
     "metadata": {},
     "outputs": [
      {
       "output_type": "stream",
       "stream": "stdout",
       "text": [
        "3693\n"
       ]
      }
     ],
     "prompt_number": 29
    },
    {
     "cell_type": "markdown",
     "metadata": {},
     "source": [
      "Compute the mean rating and count."
     ]
    },
    {
     "cell_type": "code",
     "collapsed": false,
     "input": [
      "def movie_count_rating(x):\n",
      "    title = x[0]\n",
      "    mean_rating = 0.\n",
      "    count = len(x[1])\n",
      "    for rating in x[1]:\n",
      "        mean_rating += int(rating[0])\n",
      "    return (title, count, mean_rating/float(count))"
     ],
     "language": "python",
     "metadata": {},
     "outputs": [],
     "prompt_number": 30
    },
    {
     "cell_type": "code",
     "collapsed": false,
     "input": [
      "results = tmp.map(movie_count_rating)\n",
      "results.take(3)"
     ],
     "language": "python",
     "metadata": {},
     "outputs": [
      {
       "metadata": {},
       "output_type": "pyout",
       "prompt_number": 31,
       "text": [
        "[(u'Harriet the Spy (1996)', 104, 3.0961538461538463),\n",
        " (u'Mad Love (1995)', 41, 2.1219512195121952),\n",
        " (u'Smoke (1995)', 180, 3.7222222222222223)]"
       ]
      }
     ],
     "prompt_number": 31
    },
    {
     "cell_type": "markdown",
     "metadata": {},
     "source": [
      "Highest rated movies?"
     ]
    },
    {
     "cell_type": "code",
     "collapsed": false,
     "input": [
      "results.map(lambda x: (x[2], x)).sortByKey(False).take(10)"
     ],
     "language": "python",
     "metadata": {},
     "outputs": [
      {
       "metadata": {},
       "output_type": "pyout",
       "prompt_number": 32,
       "text": [
        "[(5.0, (u'Schlafes Bruder (Brother of Sleep) (1995)', 1, 5.0)),\n",
        " (5.0, (u'Smashing Time (1967)', 2, 5.0)),\n",
        " (5.0, (u'Baby, The (1973)', 1, 5.0)),\n",
        " (5.0, (u'Bittersweet Motel (2000)', 1, 5.0)),\n",
        " (5.0, (u'Gate of Heavenly Peace, The (1995)', 3, 5.0)),\n",
        " (5.0, (u'Follow the Bitch (1998)', 1, 5.0)),\n",
        " (5.0, (u'Ulysses (Ulisse) (1954)', 1, 5.0)),\n",
        " (5.0, (u'Hour of the Pig, The (1993)', 1, 5.0)),\n",
        " (4.75, (u'I Am Cuba (Soy Cuba/Ya Kuba) (1964)', 4, 4.75)),\n",
        " (4.666666666666667, (u'Lamerica (1994)', 6, 4.666666666666667))]"
       ]
      }
     ],
     "prompt_number": 32
    },
    {
     "cell_type": "markdown",
     "metadata": {},
     "source": [
      "Highest rated with more than `1000` ratings?"
     ]
    },
    {
     "cell_type": "code",
     "collapsed": false,
     "input": [
      "top = results.filter(lambda x: x[1] > 1000).map(lambda x: (x[2], x)).sortByKey(False).take(10)"
     ],
     "language": "python",
     "metadata": {},
     "outputs": [],
     "prompt_number": 33
    },
    {
     "cell_type": "code",
     "collapsed": false,
     "input": [
      "top"
     ],
     "language": "python",
     "metadata": {},
     "outputs": [
      {
       "metadata": {},
       "output_type": "pyout",
       "prompt_number": 34,
       "text": [
        "[(4.554005167958656,\n",
        "  (u'Shawshank Redemption, The (1994)', 1935, 4.554005167958656)),\n",
        " (4.52709100473435, (u'Godfather, The (1972)', 1901, 4.52709100473435)),\n",
        " (4.517948717948718, (u'Usual Suspects, The (1995)', 1560, 4.517948717948718)),\n",
        " (4.504985044865403, (u\"Schindler's List (1993)\", 2006, 4.504985044865403)),\n",
        " (4.4928472542685745,\n",
        "  (u'Raiders of the Lost Ark (1981)', 2167, 4.4928472542685745)),\n",
        " (4.459961315280464,\n",
        "  (u'Star Wars: Episode IV - A New Hope (1977)', 2585, 4.459961315280464)),\n",
        " (4.443589743589744,\n",
        "  (u'Dr. Strangelove or: How I Learned to Stop Worrying and Love the Bomb (1963)',\n",
        "   1170,\n",
        "   4.443589743589744)),\n",
        " (4.417228103946102, (u'Sixth Sense, The (1999)', 2078, 4.417228103946102)),\n",
        " (4.409282700421941, (u'Casablanca (1942)', 1422, 4.409282700421941)),\n",
        " (4.39086635325722,\n",
        "  (u\"One Flew Over the Cuckoo's Nest (1975)\", 1489, 4.39086635325722))]"
       ]
      }
     ],
     "prompt_number": 34
    },
    {
     "cell_type": "code",
     "collapsed": false,
     "input": [
      "for m in top:\n",
      "    print m[1][2], m[1][0][:30]"
     ],
     "language": "python",
     "metadata": {},
     "outputs": [
      {
       "output_type": "stream",
       "stream": "stdout",
       "text": [
        "4.55400516796 Shawshank Redemption, The (199\n",
        "4.52709100473 Godfather, The (1972)\n",
        "4.51794871795 Usual Suspects, The (1995)\n",
        "4.50498504487 Schindler's List (1993)\n",
        "4.49284725427 Raiders of the Lost Ark (1981)\n",
        "4.45996131528 Star Wars: Episode IV - A New \n",
        "4.44358974359 Dr. Strangelove or: How I Lear\n",
        "4.41722810395 Sixth Sense, The (1999)\n",
        "4.40928270042 Casablanca (1942)\n",
        "4.39086635326 One Flew Over the Cuckoo's Nes\n"
       ]
      }
     ],
     "prompt_number": 35
    },
    {
     "cell_type": "code",
     "collapsed": false,
     "input": [],
     "language": "python",
     "metadata": {},
     "outputs": []
    }
   ],
   "metadata": {}
  }
 ]
}