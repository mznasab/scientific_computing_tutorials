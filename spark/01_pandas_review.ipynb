{
 "metadata": {
  "name": "",
  "signature": "sha256:27a80042fed8a87251ee8a1fa747e7cae7ef0d3e56ed44f5a832454f98635be9"
 },
 "nbformat": 3,
 "nbformat_minor": 0,
 "worksheets": [
  {
   "cells": [
    {
     "cell_type": "heading",
     "level": 1,
     "metadata": {},
     "source": [
      "Data Analysis with Pandas"
     ]
    },
    {
     "cell_type": "code",
     "collapsed": false,
     "input": [
      "import os\n",
      "import pandas as pd"
     ],
     "language": "python",
     "metadata": {},
     "outputs": [],
     "prompt_number": 10
    },
    {
     "cell_type": "code",
     "collapsed": false,
     "input": [
      "def get_movie_data():\n",
      "    dpath = '../data'\n",
      "    unames = ['user_id','gender','age','occupation','zip']\n",
      "    users = pd.read_table(os.path.join(dpath,'movies','users.dat'), \n",
      "                          sep='::', header=None, names=unames)\n",
      "    \n",
      "    rnames = ['user_id', 'movie_id', 'rating', 'timestamp']\n",
      "    ratings = pd.read_table(os.path.join(dpath,'movies','ratings.dat'), \n",
      "                            sep='::', header=None, names=rnames)\n",
      "    \n",
      "    mnames = ['movie_id', 'title','genres']\n",
      "    movies = pd.read_table(os.path.join(dpath,'movies','movies.dat'), \n",
      "                           sep='::', header=None, names=mnames)\n",
      "\n",
      "    return users, ratings, movies"
     ],
     "language": "python",
     "metadata": {},
     "outputs": [],
     "prompt_number": 4
    },
    {
     "cell_type": "heading",
     "level": 2,
     "metadata": {},
     "source": [
      "Load"
     ]
    },
    {
     "cell_type": "code",
     "collapsed": false,
     "input": [
      "users, ratings, movies = get_movie_data()"
     ],
     "language": "python",
     "metadata": {},
     "outputs": [],
     "prompt_number": 29
    },
    {
     "cell_type": "heading",
     "level": 2,
     "metadata": {},
     "source": [
      "Clean and create"
     ]
    },
    {
     "cell_type": "code",
     "collapsed": false,
     "input": [
      "tmp = movies.title.str.match('(.*) \\(([0-9]+)\\)')\n",
      "print tmp.head()"
     ],
     "language": "python",
     "metadata": {},
     "outputs": [
      {
       "output_type": "stream",
       "stream": "stdout",
       "text": [
        "0                      (Toy Story, 1995)\n",
        "1                        (Jumanji, 1995)\n",
        "2               (Grumpier Old Men, 1995)\n",
        "3              (Waiting to Exhale, 1995)\n",
        "4    (Father of the Bride Part II, 1995)\n",
        "Name: title, dtype: object\n"
       ]
      }
     ],
     "prompt_number": 30
    },
    {
     "cell_type": "markdown",
     "metadata": {},
     "source": [
      "Clean up **title** and **year**"
     ]
    },
    {
     "cell_type": "code",
     "collapsed": false,
     "input": [
      "movies['year'] = tmp.map(lambda x: x[1] if len(x) > 0 else None)\n",
      "movies['short_title'] = tmp.map(lambda x: x[0][:40] if len(x) > 0 else None)\n",
      "movies.drop('title', axis=1, inplace=True)\n",
      "movies.head()"
     ],
     "language": "python",
     "metadata": {},
     "outputs": [
      {
       "html": [
        "<div style=\"max-height:1000px;max-width:1500px;overflow:auto;\">\n",
        "<table border=\"1\" class=\"dataframe\">\n",
        "  <thead>\n",
        "    <tr style=\"text-align: right;\">\n",
        "      <th></th>\n",
        "      <th>movie_id</th>\n",
        "      <th>genres</th>\n",
        "      <th>year</th>\n",
        "      <th>short_title</th>\n",
        "    </tr>\n",
        "  </thead>\n",
        "  <tbody>\n",
        "    <tr>\n",
        "      <th>0</th>\n",
        "      <td> 1</td>\n",
        "      <td>  Animation|Children's|Comedy</td>\n",
        "      <td> 1995</td>\n",
        "      <td>                   Toy Story</td>\n",
        "    </tr>\n",
        "    <tr>\n",
        "      <th>1</th>\n",
        "      <td> 2</td>\n",
        "      <td> Adventure|Children's|Fantasy</td>\n",
        "      <td> 1995</td>\n",
        "      <td>                     Jumanji</td>\n",
        "    </tr>\n",
        "    <tr>\n",
        "      <th>2</th>\n",
        "      <td> 3</td>\n",
        "      <td>               Comedy|Romance</td>\n",
        "      <td> 1995</td>\n",
        "      <td>            Grumpier Old Men</td>\n",
        "    </tr>\n",
        "    <tr>\n",
        "      <th>3</th>\n",
        "      <td> 4</td>\n",
        "      <td>                 Comedy|Drama</td>\n",
        "      <td> 1995</td>\n",
        "      <td>           Waiting to Exhale</td>\n",
        "    </tr>\n",
        "    <tr>\n",
        "      <th>4</th>\n",
        "      <td> 5</td>\n",
        "      <td>                       Comedy</td>\n",
        "      <td> 1995</td>\n",
        "      <td> Father of the Bride Part II</td>\n",
        "    </tr>\n",
        "  </tbody>\n",
        "</table>\n",
        "<p>5 rows \u00d7 4 columns</p>\n",
        "</div>"
       ],
       "metadata": {},
       "output_type": "pyout",
       "prompt_number": 31,
       "text": [
        "   movie_id                        genres  year                  short_title\n",
        "0         1   Animation|Children's|Comedy  1995                    Toy Story\n",
        "1         2  Adventure|Children's|Fantasy  1995                      Jumanji\n",
        "2         3                Comedy|Romance  1995             Grumpier Old Men\n",
        "3         4                  Comedy|Drama  1995            Waiting to Exhale\n",
        "4         5                        Comedy  1995  Father of the Bride Part II\n",
        "\n",
        "[5 rows x 4 columns]"
       ]
      }
     ],
     "prompt_number": 31
    },
    {
     "cell_type": "markdown",
     "metadata": {},
     "source": [
      "Clean up **genres**"
     ]
    },
    {
     "cell_type": "code",
     "collapsed": false,
     "input": [
      "def separate_genres(df):\n",
      "    tmp = []\n",
      "    for t, g in zip(df['short_title'], df['genres']):\n",
      "        for x in g.split('|'):\n",
      "            tmp.append((t, x))\n",
      "    return pd.DataFrame(tmp, columns=['short_title','genre'])\n",
      "\n",
      "#grp = movies.ix[:10].groupby('movie_id')\n",
      "grp = movies.groupby('movie_id')\n",
      "tmp = grp.apply(separate_genres)\n",
      "genre = pd.merge(tmp, movies)\n",
      "genre.drop('genres', axis=1, inplace=True)\n",
      "genre.shape"
     ],
     "language": "python",
     "metadata": {},
     "outputs": [
      {
       "metadata": {},
       "output_type": "pyout",
       "prompt_number": 98,
       "text": [
        "(6569, 4)"
       ]
      }
     ],
     "prompt_number": 98
    },
    {
     "cell_type": "heading",
     "level": 2,
     "metadata": {},
     "source": [
      "Merge"
     ]
    },
    {
     "cell_type": "code",
     "collapsed": false,
     "input": [
      "users.shape, ratings.shape, movies.shape, genre.shape"
     ],
     "language": "python",
     "metadata": {},
     "outputs": [
      {
       "metadata": {},
       "output_type": "pyout",
       "prompt_number": 99,
       "text": [
        "((6040, 5), (1000209, 4), (3883, 4), (6569, 4))"
       ]
      }
     ],
     "prompt_number": 99
    },
    {
     "cell_type": "code",
     "collapsed": false,
     "input": [
      "data = pd.merge(pd.merge(ratings, users), movies)\n",
      "data.shape"
     ],
     "language": "python",
     "metadata": {},
     "outputs": [
      {
       "metadata": {},
       "output_type": "pyout",
       "prompt_number": 100,
       "text": [
        "(1000209, 11)"
       ]
      }
     ],
     "prompt_number": 100
    },
    {
     "cell_type": "code",
     "collapsed": false,
     "input": [
      "for c in data.columns:\n",
      "    print c"
     ],
     "language": "python",
     "metadata": {},
     "outputs": [
      {
       "output_type": "stream",
       "stream": "stdout",
       "text": [
        "user_id\n",
        "movie_id\n",
        "rating\n",
        "timestamp\n",
        "gender\n",
        "age\n",
        "occupation\n",
        "zip\n",
        "genres\n",
        "year\n",
        "short_title\n"
       ]
      }
     ],
     "prompt_number": 101
    },
    {
     "cell_type": "code",
     "collapsed": false,
     "input": [
      "data.head()"
     ],
     "language": "python",
     "metadata": {},
     "outputs": [
      {
       "html": [
        "<div style=\"max-height:1000px;max-width:1500px;overflow:auto;\">\n",
        "<table border=\"1\" class=\"dataframe\">\n",
        "  <thead>\n",
        "    <tr style=\"text-align: right;\">\n",
        "      <th></th>\n",
        "      <th>user_id</th>\n",
        "      <th>movie_id</th>\n",
        "      <th>rating</th>\n",
        "      <th>timestamp</th>\n",
        "      <th>gender</th>\n",
        "      <th>age</th>\n",
        "      <th>occupation</th>\n",
        "      <th>zip</th>\n",
        "      <th>genres</th>\n",
        "      <th>year</th>\n",
        "      <th>short_title</th>\n",
        "    </tr>\n",
        "  </thead>\n",
        "  <tbody>\n",
        "    <tr>\n",
        "      <th>0</th>\n",
        "      <td>  1</td>\n",
        "      <td> 1193</td>\n",
        "      <td> 5</td>\n",
        "      <td> 978300760</td>\n",
        "      <td> F</td>\n",
        "      <td>  1</td>\n",
        "      <td> 10</td>\n",
        "      <td> 48067</td>\n",
        "      <td> Drama</td>\n",
        "      <td> 1975</td>\n",
        "      <td> One Flew Over the Cuckoo's Nest</td>\n",
        "    </tr>\n",
        "    <tr>\n",
        "      <th>1</th>\n",
        "      <td>  2</td>\n",
        "      <td> 1193</td>\n",
        "      <td> 5</td>\n",
        "      <td> 978298413</td>\n",
        "      <td> M</td>\n",
        "      <td> 56</td>\n",
        "      <td> 16</td>\n",
        "      <td> 70072</td>\n",
        "      <td> Drama</td>\n",
        "      <td> 1975</td>\n",
        "      <td> One Flew Over the Cuckoo's Nest</td>\n",
        "    </tr>\n",
        "    <tr>\n",
        "      <th>2</th>\n",
        "      <td> 12</td>\n",
        "      <td> 1193</td>\n",
        "      <td> 4</td>\n",
        "      <td> 978220179</td>\n",
        "      <td> M</td>\n",
        "      <td> 25</td>\n",
        "      <td> 12</td>\n",
        "      <td> 32793</td>\n",
        "      <td> Drama</td>\n",
        "      <td> 1975</td>\n",
        "      <td> One Flew Over the Cuckoo's Nest</td>\n",
        "    </tr>\n",
        "    <tr>\n",
        "      <th>3</th>\n",
        "      <td> 15</td>\n",
        "      <td> 1193</td>\n",
        "      <td> 4</td>\n",
        "      <td> 978199279</td>\n",
        "      <td> M</td>\n",
        "      <td> 25</td>\n",
        "      <td>  7</td>\n",
        "      <td> 22903</td>\n",
        "      <td> Drama</td>\n",
        "      <td> 1975</td>\n",
        "      <td> One Flew Over the Cuckoo's Nest</td>\n",
        "    </tr>\n",
        "    <tr>\n",
        "      <th>4</th>\n",
        "      <td> 17</td>\n",
        "      <td> 1193</td>\n",
        "      <td> 5</td>\n",
        "      <td> 978158471</td>\n",
        "      <td> M</td>\n",
        "      <td> 50</td>\n",
        "      <td>  1</td>\n",
        "      <td> 95350</td>\n",
        "      <td> Drama</td>\n",
        "      <td> 1975</td>\n",
        "      <td> One Flew Over the Cuckoo's Nest</td>\n",
        "    </tr>\n",
        "  </tbody>\n",
        "</table>\n",
        "<p>5 rows \u00d7 11 columns</p>\n",
        "</div>"
       ],
       "metadata": {},
       "output_type": "pyout",
       "prompt_number": 102,
       "text": [
        "   user_id  movie_id  rating  timestamp gender  age  occupation    zip genres  \\\n",
        "0        1      1193       5  978300760      F    1          10  48067  Drama   \n",
        "1        2      1193       5  978298413      M   56          16  70072  Drama   \n",
        "2       12      1193       4  978220179      M   25          12  32793  Drama   \n",
        "3       15      1193       4  978199279      M   25           7  22903  Drama   \n",
        "4       17      1193       5  978158471      M   50           1  95350  Drama   \n",
        "\n",
        "   year                      short_title  \n",
        "0  1975  One Flew Over the Cuckoo's Nest  \n",
        "1  1975  One Flew Over the Cuckoo's Nest  \n",
        "2  1975  One Flew Over the Cuckoo's Nest  \n",
        "3  1975  One Flew Over the Cuckoo's Nest  \n",
        "4  1975  One Flew Over the Cuckoo's Nest  \n",
        "\n",
        "[5 rows x 11 columns]"
       ]
      }
     ],
     "prompt_number": 102
    },
    {
     "cell_type": "code",
     "collapsed": false,
     "input": [
      "genre.genre.value_counts().plot(kind='barh')"
     ],
     "language": "python",
     "metadata": {},
     "outputs": [
      {
       "metadata": {},
       "output_type": "pyout",
       "prompt_number": 103,
       "text": [
        "<matplotlib.axes.AxesSubplot at 0xdd27310>"
       ]
      },
      {
       "metadata": {},
       "output_type": "display_data",
       "png": "[encoded data removed]",
       "text": [
        "<matplotlib.figure.Figure at 0xbdeec10>"
       ]
      }
     ],
     "prompt_number": 103
    },
    {
     "cell_type": "code",
     "collapsed": false,
     "input": [
      "genre.genre.unique().shape"
     ],
     "language": "python",
     "metadata": {},
     "outputs": [
      {
       "metadata": {},
       "output_type": "pyout",
       "prompt_number": 137,
       "text": [
        "(18,)"
       ]
      }
     ],
     "prompt_number": 137
    },
    {
     "cell_type": "code",
     "collapsed": false,
     "input": [
      "for x in genre.genre.unique():\n",
      "    print x"
     ],
     "language": "python",
     "metadata": {},
     "outputs": [
      {
       "output_type": "stream",
       "stream": "stdout",
       "text": [
        "Animation\n",
        "Children's\n",
        "Comedy\n",
        "Adventure\n",
        "Fantasy\n",
        "Romance\n",
        "Drama\n",
        "Action\n",
        "Crime\n",
        "Thriller\n",
        "Horror\n",
        "Sci-Fi\n",
        "Documentary\n",
        "War\n",
        "Musical\n",
        "Mystery\n",
        "Film-Noir\n",
        "Western\n"
       ]
      }
     ],
     "prompt_number": 138
    },
    {
     "cell_type": "code",
     "collapsed": false,
     "input": [
      "genre.groupby(['short_title','year']).\\\n",
      "      size().order(ascending=False).head(30).plot(kind='barh')"
     ],
     "language": "python",
     "metadata": {},
     "outputs": [
      {
       "metadata": {},
       "output_type": "pyout",
       "prompt_number": 142,
       "text": [
        "<matplotlib.axes.AxesSubplot at 0xba7fad0>"
       ]
      },
      {
       "metadata": {},
       "output_type": "display_data",
       "png": "[encoded data removed]",
       "text": [
        "<matplotlib.figure.Figure at 0xba80b10>"
       ]
      }
     ],
     "prompt_number": 142
    },
    {
     "cell_type": "code",
     "collapsed": false,
     "input": [],
     "language": "python",
     "metadata": {},
     "outputs": []
    }
   ],
   "metadata": {}
  }
 ]
}