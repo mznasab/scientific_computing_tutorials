{
 "metadata": {
  "name": "",
  "signature": "sha256:d2d06be25b11c9a6675e46faa94c09e6c6d2f0d27510b50dadb3e15a287721fe"
 },
 "nbformat": 3,
 "nbformat_minor": 0,
 "worksheets": [
  {
   "cells": [
    {
     "cell_type": "heading",
     "level": 1,
     "metadata": {},
     "source": [
      "Fault-tolerance"
     ]
    },
    {
     "cell_type": "code",
     "collapsed": false,
     "input": [
      "from IPython.parallel import Client, require\n",
      "import time\n",
      "import socket\n",
      "import random"
     ],
     "language": "python",
     "metadata": {},
     "outputs": []
    },
    {
     "cell_type": "code",
     "collapsed": false,
     "input": [
      "def execute_job(x):\n",
      "    import IPython.parallel.error\n",
      "    time.sleep(3)\n",
      "    if random.random() < 0.10:  # Fail 10 percent of the time\n",
      "        raise IPython.parallel.error.KernelError\n",
      "    return {'task': x, \n",
      "        'host': os.getpid()}"
     ],
     "language": "python",
     "metadata": {},
     "outputs": []
    },
    {
     "cell_type": "markdown",
     "metadata": {},
     "source": [
      "Client"
     ]
    },
    {
     "cell_type": "code",
     "collapsed": false,
     "input": [
      "c = Client()"
     ],
     "language": "python",
     "metadata": {},
     "outputs": []
    },
    {
     "cell_type": "markdown",
     "metadata": {},
     "source": [
      "Imports"
     ]
    },
    {
     "cell_type": "code",
     "collapsed": false,
     "input": [
      "dv = c[:]\n",
      "with dv.sync_imports():\n",
      "    import random\n",
      "    import os\n",
      "    import time\n",
      "    import IPython.parallel.error"
     ],
     "language": "python",
     "metadata": {},
     "outputs": []
    },
    {
     "cell_type": "code",
     "collapsed": false,
     "input": [
      "lv = c.load_balanced_view()\n",
      "cases = range(20)\n",
      "results = lv.map(execute_job, cases)\n",
      "print len(results.get())"
     ],
     "language": "python",
     "metadata": {},
     "outputs": []
    },
    {
     "cell_type": "heading",
     "level": 2,
     "metadata": {},
     "source": [
      "Retries"
     ]
    },
    {
     "cell_type": "code",
     "collapsed": false,
     "input": [
      "lv.retries = len(c.ids)\n",
      "results = lv.map(execute_job, cases)\n",
      "print len(results.get())"
     ],
     "language": "python",
     "metadata": {},
     "outputs": []
    },
    {
     "cell_type": "heading",
     "level": 2,
     "metadata": {},
     "source": [
      "Engines die"
     ]
    },
    {
     "cell_type": "markdown",
     "metadata": {},
     "source": [
      "Get the process id for each engine."
     ]
    },
    {
     "cell_type": "code",
     "collapsed": false,
     "input": [
      "def get_engine_info():\n",
      "    import os\n",
      "    return {'pid': os.getpid()}"
     ],
     "language": "python",
     "metadata": {},
     "outputs": []
    },
    {
     "cell_type": "code",
     "collapsed": false,
     "input": [
      "dv = c[:]\n",
      "engine_info = dv.apply_sync(get_engine_info)\n",
      "\n",
      "print engine_info"
     ],
     "language": "python",
     "metadata": {},
     "outputs": []
    },
    {
     "cell_type": "code",
     "collapsed": false,
     "input": [
      "print len(c.ids)"
     ],
     "language": "python",
     "metadata": {},
     "outputs": []
    },
    {
     "cell_type": "code",
     "collapsed": false,
     "input": [
      "cases = range(20)\n",
      "results = lv.map(execute_job, cases)"
     ],
     "language": "python",
     "metadata": {},
     "outputs": []
    },
    {
     "cell_type": "markdown",
     "metadata": {},
     "source": [
      "Let's kill an engine."
     ]
    },
    {
     "cell_type": "code",
     "collapsed": false,
     "input": [
      "import signal\n",
      "pid = engine_info[0]['pid']\n",
      "print pid\n",
      "time.sleep(1)\n",
      "os.kill(int(pid), signal.SIGTERM) "
     ],
     "language": "python",
     "metadata": {},
     "outputs": []
    },
    {
     "cell_type": "code",
     "collapsed": false,
     "input": [
      "results.wait()\n",
      "print c.ids"
     ],
     "language": "python",
     "metadata": {},
     "outputs": []
    },
    {
     "cell_type": "code",
     "collapsed": false,
     "input": [
      "print len(c.ids), len(results.get())"
     ],
     "language": "python",
     "metadata": {},
     "outputs": []
    },
    {
     "cell_type": "code",
     "collapsed": false,
     "input": [],
     "language": "python",
     "metadata": {},
     "outputs": []
    }
   ],
   "metadata": {}
  }
 ]
}