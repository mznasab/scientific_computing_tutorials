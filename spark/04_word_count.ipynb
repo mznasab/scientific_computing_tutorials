{
 "metadata": {
  "name": "",
  "signature": "sha256:e4a3bf28f4b1c07c376dd09af81f08a72a482047bf2979ad55c0b7199e586218"
 },
 "nbformat": 3,
 "nbformat_minor": 0,
 "worksheets": [
  {
   "cells": [
    {
     "cell_type": "heading",
     "level": 1,
     "metadata": {},
     "source": [
      "Word Count"
     ]
    },
    {
     "cell_type": "code",
     "collapsed": false,
     "input": [
      "%%writefile awsdata.py\n",
      "import os\n",
      "import urllib\n",
      "\n",
      "def get(f):\n",
      "    filename = f.split('/')[-1]\n",
      "    #print filename\n",
      "    if not os.path.exists(filename):\n",
      "        print 'fetching from aws'\n",
      "        urllib.urlretrieve(f, filename=filename)"
     ],
     "language": "python",
     "metadata": {},
     "outputs": [
      {
       "output_type": "stream",
       "stream": "stdout",
       "text": [
        "Overwriting awsdata.py\n"
       ]
      }
     ],
     "prompt_number": 5
    },
    {
     "cell_type": "code",
     "collapsed": false,
     "input": [
      "import awsdata\n",
      "hamlet = awsdata.get('https://s3.amazonaws.com/research_computing_tutorials/hamlet.txt')"
     ],
     "language": "python",
     "metadata": {},
     "outputs": [
      {
       "output_type": "stream",
       "stream": "stdout",
       "text": [
        "hamlet.txt\n"
       ]
      }
     ],
     "prompt_number": 6
    },
    {
     "cell_type": "heading",
     "level": 2,
     "metadata": {},
     "source": [
      "Standard Python"
     ]
    },
    {
     "cell_type": "code",
     "collapsed": false,
     "input": [
      "import re\n",
      "\n",
      "words = re.split('\\W+', hamlet.lower().strip())\n",
      "print words[:10]"
     ],
     "language": "python",
     "metadata": {},
     "outputs": [
      {
       "output_type": "stream",
       "stream": "stdout",
       "text": [
        "['hamlet', 'dramatis', 'personae', 'claudius', 'king', 'of', 'denmark', 'king', 'claudius', 'hamlet']\n"
       ]
      }
     ],
     "prompt_number": 17
    },
    {
     "cell_type": "code",
     "collapsed": false,
     "input": [
      "words = filter(lambda x: len(x)>2, words)\n",
      "print words[:10]"
     ],
     "language": "python",
     "metadata": {},
     "outputs": [
      {
       "output_type": "stream",
       "stream": "stdout",
       "text": [
        "['hamlet', 'dramatis', 'personae', 'claudius', 'king', 'denmark', 'king', 'claudius', 'hamlet', 'son']\n"
       ]
      }
     ],
     "prompt_number": 18
    },
    {
     "cell_type": "code",
     "collapsed": false,
     "input": [
      "wc = dict()\n",
      "\n",
      "def add_to_dic(word):\n",
      "    wc[word] = wc.get(word,0) + 1\n",
      "\n",
      "# map the words\n",
      "map(add_to_dic, words)\n",
      "\n",
      "#sort by frequency\n",
      "top_words = sorted(wc.items(), key=lambda x: x[1], reverse=True)[:15]"
     ],
     "language": "python",
     "metadata": {},
     "outputs": [],
     "prompt_number": 35
    },
    {
     "cell_type": "code",
     "collapsed": false,
     "input": [
      "top_words"
     ],
     "language": "python",
     "metadata": {},
     "outputs": [
      {
       "metadata": {},
       "output_type": "pyout",
       "prompt_number": 36,
       "text": [
        "[('the', 930),\n",
        " ('and', 843),\n",
        " ('you', 496),\n",
        " ('hamlet', 368),\n",
        " ('that', 346),\n",
        " ('lord', 278),\n",
        " ('not', 262),\n",
        " ('his', 238),\n",
        " ('this', 238),\n",
        " ('with', 232),\n",
        " ('but', 232),\n",
        " ('for', 215),\n",
        " ('your', 211),\n",
        " ('what', 186),\n",
        " ('king', 171)]"
       ]
      }
     ],
     "prompt_number": 36
    },
    {
     "cell_type": "code",
     "collapsed": false,
     "input": [
      "%matplotlib inline\n",
      "import matplotlib.pyplot as plt\n",
      "\n",
      "def plot(words):\n",
      "    values = map(lambda x: x[1], words)\n",
      "    labels = map(lambda x: x[0], words)\n",
      "    plt.barh(range(len(values)), values, color='grey')\n",
      "    plt.yticks(range(len(values)), labels)\n",
      "    plt.show()"
     ],
     "language": "python",
     "metadata": {},
     "outputs": [],
     "prompt_number": 45
    },
    {
     "cell_type": "code",
     "collapsed": false,
     "input": [
      "plot(top_words)"
     ],
     "language": "python",
     "metadata": {},
     "outputs": [
      {
       "metadata": {},
       "output_type": "display_data",
       "png": "[encoded data removed]",
       "text": [
        "<matplotlib.figure.Figure at 0x3127ed0>"
       ]
      }
     ],
     "prompt_number": 46
    },
    {
     "cell_type": "heading",
     "level": 2,
     "metadata": {},
     "source": [
      "Spark"
     ]
    },
    {
     "cell_type": "code",
     "collapsed": false,
     "input": [
      "from pyspark import  SparkContext\n",
      "\n",
      "if 'sc' not in globals():\n",
      "    # CLUSTER_URL set during startup\n",
      "    sc = SparkContext( CLUSTER_URL, 'pyspark')"
     ],
     "language": "python",
     "metadata": {},
     "outputs": [],
     "prompt_number": 60
    },
    {
     "cell_type": "code",
     "collapsed": false,
     "input": [
      "words = sc.textFile('hamlet.txt')\n",
      "words.take(5)"
     ],
     "language": "python",
     "metadata": {},
     "outputs": [
      {
       "metadata": {},
       "output_type": "pyout",
       "prompt_number": 73,
       "text": [
        "[u'\\tHAMLET', u'', u'', u'\\tDRAMATIS PERSONAE', u'']"
       ]
      }
     ],
     "prompt_number": 73
    },
    {
     "cell_type": "code",
     "collapsed": false,
     "input": [
      "hamlet = words.flatMap(lambda line: re.split('\\W+', line.lower().strip()))\n",
      "hamlet.take(5)"
     ],
     "language": "python",
     "metadata": {},
     "outputs": [
      {
       "metadata": {},
       "output_type": "pyout",
       "prompt_number": 74,
       "text": [
        "[u'hamlet', u'', u'', u'dramatis', u'personae']"
       ]
      }
     ],
     "prompt_number": 74
    },
    {
     "cell_type": "code",
     "collapsed": false,
     "input": [
      "tmp = hamlet.filter(lambda x: len(x) > 2 )\n",
      "print tmp.take(5)"
     ],
     "language": "python",
     "metadata": {},
     "outputs": [
      {
       "output_type": "stream",
       "stream": "stdout",
       "text": [
        "[u'hamlet', u'dramatis', u'personae', u'claudius', u'king']\n"
       ]
      }
     ],
     "prompt_number": 75
    },
    {
     "cell_type": "code",
     "collapsed": false,
     "input": [
      "tmp = tmp.map(lambda word: (word, 1))\n",
      "tmp.take(5)"
     ],
     "language": "python",
     "metadata": {},
     "outputs": [
      {
       "metadata": {},
       "output_type": "pyout",
       "prompt_number": 76,
       "text": [
        "[(u'hamlet', 1),\n",
        " (u'dramatis', 1),\n",
        " (u'personae', 1),\n",
        " (u'claudius', 1),\n",
        " (u'king', 1)]"
       ]
      }
     ],
     "prompt_number": 76
    },
    {
     "cell_type": "code",
     "collapsed": false,
     "input": [
      "tmp = tmp.reduceByKey(lambda a, b: a + b)\n",
      "tmp.take(5)"
     ],
     "language": "python",
     "metadata": {},
     "outputs": [
      {
       "metadata": {},
       "output_type": "pyout",
       "prompt_number": 77,
       "text": [
        "[(u'partial', 1), (u'lean', 1), (u'peruse', 1), (u'leads', 1), (u'sleep', 11)]"
       ]
      }
     ],
     "prompt_number": 77
    },
    {
     "cell_type": "code",
     "collapsed": false,
     "input": [
      "tmp = tmp.map(lambda x: (x[1], x[0])).sortByKey(False)\n",
      "tmp.take(20)"
     ],
     "language": "python",
     "metadata": {},
     "outputs": [
      {
       "metadata": {},
       "output_type": "pyout",
       "prompt_number": 78,
       "text": [
        "[(930, u'the'),\n",
        " (843, u'and'),\n",
        " (496, u'you'),\n",
        " (368, u'hamlet'),\n",
        " (346, u'that'),\n",
        " (278, u'lord'),\n",
        " (262, u'not'),\n",
        " (238, u'his'),\n",
        " (238, u'this'),\n",
        " (232, u'with'),\n",
        " (232, u'but'),\n",
        " (215, u'for'),\n",
        " (211, u'your'),\n",
        " (186, u'what'),\n",
        " (171, u'king'),\n",
        " (160, u'him'),\n",
        " (149, u'have'),\n",
        " (134, u'will'),\n",
        " (124, u'polonius'),\n",
        " (112, u'horatio')]"
       ]
      }
     ],
     "prompt_number": 78
    },
    {
     "cell_type": "code",
     "collapsed": false,
     "input": [
      "tmp = tmp.map(lambda x: (x[1], x[0]))\n",
      "tmp.take(20)"
     ],
     "language": "python",
     "metadata": {},
     "outputs": [
      {
       "metadata": {},
       "output_type": "pyout",
       "prompt_number": 79,
       "text": [
        "[(u'the', 930),\n",
        " (u'and', 843),\n",
        " (u'you', 496),\n",
        " (u'hamlet', 368),\n",
        " (u'that', 346),\n",
        " (u'lord', 278),\n",
        " (u'not', 262),\n",
        " (u'his', 238),\n",
        " (u'this', 238),\n",
        " (u'with', 232),\n",
        " (u'but', 232),\n",
        " (u'for', 215),\n",
        " (u'your', 211),\n",
        " (u'what', 186),\n",
        " (u'king', 171),\n",
        " (u'him', 160),\n",
        " (u'have', 149),\n",
        " (u'will', 134),\n",
        " (u'polonius', 124),\n",
        " (u'horatio', 112)]"
       ]
      }
     ],
     "prompt_number": 79
    },
    {
     "cell_type": "code",
     "collapsed": false,
     "input": [
      "plot(tmp.take(15))"
     ],
     "language": "python",
     "metadata": {},
     "outputs": [
      {
       "metadata": {},
       "output_type": "display_data",
       "png": "[encoded data removed]",
       "text": [
        "<matplotlib.figure.Figure at 0x323bb10>"
       ]
      }
     ],
     "prompt_number": 70
    },
    {
     "cell_type": "code",
     "collapsed": false,
     "input": [
      "plot(top_words)"
     ],
     "language": "python",
     "metadata": {},
     "outputs": [
      {
       "metadata": {},
       "output_type": "display_data",
       "png": "[encoded data removed]",
       "text": [
        "<matplotlib.figure.Figure at 0x3023850>"
       ]
      }
     ],
     "prompt_number": 71
    },
    {
     "cell_type": "heading",
     "level": 2,
     "metadata": {},
     "source": [
      "Summary code"
     ]
    },
    {
     "cell_type": "code",
     "collapsed": false,
     "input": [
      "words = sc.textFile('hamlet.txt')\\\n",
      "        .flatMap(lambda line: re.split('\\W+', line.lower().strip()))\\\n",
      "        .filter(lambda x: len(x) > 2 )\\\n",
      "        .map(lambda word: (word, 1))\\\n",
      "        .reduceByKey(lambda a, b: a + b)\\\n",
      "        .map(lambda x: (x[1], x[0])).sortByKey(False)   \n",
      "\n",
      "words.take(15)"
     ],
     "language": "python",
     "metadata": {},
     "outputs": [
      {
       "metadata": {},
       "output_type": "pyout",
       "prompt_number": 72,
       "text": [
        "[(930, u'the'),\n",
        " (843, u'and'),\n",
        " (496, u'you'),\n",
        " (368, u'hamlet'),\n",
        " (346, u'that'),\n",
        " (278, u'lord'),\n",
        " (262, u'not'),\n",
        " (238, u'his'),\n",
        " (238, u'this'),\n",
        " (232, u'with'),\n",
        " (232, u'but'),\n",
        " (215, u'for'),\n",
        " (211, u'your'),\n",
        " (186, u'what'),\n",
        " (171, u'king')]"
       ]
      }
     ],
     "prompt_number": 72
    },
    {
     "cell_type": "heading",
     "level": 2,
     "metadata": {},
     "source": [
      "Text filtering"
     ]
    },
    {
     "cell_type": "code",
     "collapsed": false,
     "input": [
      "words = sc.textFile('hamlet.txt')"
     ],
     "language": "python",
     "metadata": {},
     "outputs": [],
     "prompt_number": 80
    },
    {
     "cell_type": "markdown",
     "metadata": {},
     "source": [
      "How many lines contains <em>hamlet</em>?"
     ]
    },
    {
     "cell_type": "code",
     "collapsed": false,
     "input": [
      "tmp = words.filter(lambda x: \"hamlet\" in x.lower())\n",
      "tmp.count()"
     ],
     "language": "python",
     "metadata": {},
     "outputs": [
      {
       "metadata": {},
       "output_type": "pyout",
       "prompt_number": 82,
       "text": [
        "367"
       ]
      }
     ],
     "prompt_number": 82
    },
    {
     "cell_type": "markdown",
     "metadata": {},
     "source": [
      "As a percent?"
     ]
    },
    {
     "cell_type": "code",
     "collapsed": false,
     "input": [
      "'{0:0.2f}%'.format(100*tmp.count()/float(words.count()))"
     ],
     "language": "python",
     "metadata": {},
     "outputs": [
      {
       "metadata": {},
       "output_type": "pyout",
       "prompt_number": 91,
       "text": [
        "'7.26%'"
       ]
      }
     ],
     "prompt_number": 91
    },
    {
     "cell_type": "markdown",
     "metadata": {},
     "source": [
      "How about <em>claudius</em> and <em>hamlet</em>?"
     ]
    },
    {
     "cell_type": "code",
     "collapsed": false,
     "input": [
      "tmp.filter( lambda x: 'claudius' in x.lower()).count()"
     ],
     "language": "python",
     "metadata": {},
     "outputs": [
      {
       "metadata": {},
       "output_type": "pyout",
       "prompt_number": 93,
       "text": [
        "12"
       ]
      }
     ],
     "prompt_number": 93
    },
    {
     "cell_type": "code",
     "collapsed": false,
     "input": [
      "tmp.filter( lambda x: 'claudius' in x.lower()).collect()"
     ],
     "language": "python",
     "metadata": {},
     "outputs": [
      {
       "metadata": {},
       "output_type": "pyout",
       "prompt_number": 94,
       "text": [
        "[u'\\t[Enter KING CLAUDIUS, QUEEN GERTRUDE, HAMLET,',\n",
        " u\"KING CLAUDIUS\\tThough yet of Hamlet our dear brother's death\",\n",
        " u\"KING CLAUDIUS\\t'Tis sweet and commendable in your nature, Hamlet,\",\n",
        " u'KING CLAUDIUS\\tHow fares our cousin Hamlet?',\n",
        " u'KING CLAUDIUS\\tI have nothing with this answer, Hamlet; these words',\n",
        " u'KING CLAUDIUS\\tWhat, Gertrude? How does Hamlet?',\n",
        " u\"KING CLAUDIUS\\tNow, Hamlet, where's Polonius?\",\n",
        " u'KING CLAUDIUS\\tHamlet, this deed, for thine especial safety,--',\n",
        " u'KING CLAUDIUS\\tAy, Hamlet.',\n",
        " u'KING CLAUDIUS\\tThy loving father, Hamlet.',\n",
        " u'KING CLAUDIUS\\tFrom Hamlet! who brought them?',\n",
        " u\"KING CLAUDIUS\\t'Tis Hamlets character. 'Naked!\"]"
       ]
      }
     ],
     "prompt_number": 94
    },
    {
     "cell_type": "code",
     "collapsed": false,
     "input": [],
     "language": "python",
     "metadata": {},
     "outputs": []
    }
   ],
   "metadata": {}
  }
 ]
}