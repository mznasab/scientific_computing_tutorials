{
 "metadata": {
  "name": "",
  "signature": "sha256:697e039f27184c6325783db89c8c7245a22a4ee16eba1e89b3069e9fe83c7ab5"
 },
 "nbformat": 3,
 "nbformat_minor": 0,
 "worksheets": [
  {
   "cells": [
    {
     "cell_type": "code",
     "collapsed": false,
     "input": [
      "import awsdata\n",
      "reload(awsdata)\n",
      "\n",
      "awsdata.get('https://s3.amazonaws.com/research_computing_tutorials/movies.dat')\n",
      "awsdata.get('https://s3.amazonaws.com/research_computing_tutorials/ratings.dat')\n",
      "awsdata.get('https://s3.amazonaws.com/research_computing_tutorials/users.dat')"
     ],
     "language": "python",
     "metadata": {},
     "outputs": []
    },
    {
     "cell_type": "heading",
     "level": 2,
     "metadata": {},
     "source": [
      "Pandas"
     ]
    },
    {
     "cell_type": "code",
     "collapsed": false,
     "input": [
      "import pandas as pd\n",
      "\n",
      "def get_movie_data():\n",
      "    \n",
      "    unames = ['user_id','gender','age','occupation','zip']\n",
      "    users = pd.read_table('users.dat', \n",
      "                          sep='::', header=None, names=unames)\n",
      "    \n",
      "    rnames = ['user_id', 'movie_id', 'rating', 'timestamp']\n",
      "    ratings = pd.read_table('ratings.dat', \n",
      "                            sep='::', header=None, names=rnames)\n",
      "    \n",
      "    mnames = ['movie_id', 'title','genres']\n",
      "    movies = pd.read_table('movies.dat', \n",
      "                           sep='::', header=None, names=mnames)\n",
      "\n",
      "    return users, ratings, movies"
     ],
     "language": "python",
     "metadata": {},
     "outputs": []
    },
    {
     "cell_type": "code",
     "collapsed": false,
     "input": [
      "users, ratings, movies = get_movie_data()"
     ],
     "language": "python",
     "metadata": {},
     "outputs": []
    },
    {
     "cell_type": "code",
     "collapsed": false,
     "input": [
      "print users.head()"
     ],
     "language": "python",
     "metadata": {},
     "outputs": []
    },
    {
     "cell_type": "code",
     "collapsed": false,
     "input": [
      "print ratings.head()"
     ],
     "language": "python",
     "metadata": {},
     "outputs": []
    },
    {
     "cell_type": "code",
     "collapsed": false,
     "input": [
      "print movies.head()"
     ],
     "language": "python",
     "metadata": {},
     "outputs": []
    },
    {
     "cell_type": "heading",
     "level": 3,
     "metadata": {},
     "source": [
      "Clean up"
     ]
    },
    {
     "cell_type": "code",
     "collapsed": false,
     "input": [
      "tmp = movies.title.str.match('(.*) \\(([0-9]+)\\)')\n",
      "movies['year'] = tmp.map(lambda x: x[1] if len(x) > 0 else None)\n",
      "movies['short_title'] = tmp.map(lambda x: x[0][:40] if len(x) > 0 else None)"
     ],
     "language": "python",
     "metadata": {},
     "outputs": []
    },
    {
     "cell_type": "heading",
     "level": 3,
     "metadata": {},
     "source": [
      "Join"
     ]
    },
    {
     "cell_type": "code",
     "collapsed": false,
     "input": [
      "data = pd.merge(pd.merge(ratings, users), movies)"
     ],
     "language": "python",
     "metadata": {},
     "outputs": []
    },
    {
     "cell_type": "heading",
     "level": 3,
     "metadata": {},
     "source": [
      "Compute"
     ]
    },
    {
     "cell_type": "code",
     "collapsed": false,
     "input": [
      "tmp = data[['short_title','rating']]\n",
      "grp = tmp.groupby('short_title')\n",
      "mean_rating = grp['rating'].agg(['mean','count'])\n",
      "print mean_rating.sort('mean', ascending=False).head(10)"
     ],
     "language": "python",
     "metadata": {},
     "outputs": []
    },
    {
     "cell_type": "code",
     "collapsed": false,
     "input": [
      "mask = mean_rating['count'] > 1000\n",
      "print mean_rating.ix[mask].sort('mean', ascending=False).head(10)"
     ],
     "language": "python",
     "metadata": {},
     "outputs": []
    },
    {
     "cell_type": "heading",
     "level": 2,
     "metadata": {},
     "source": [
      "Spark"
     ]
    },
    {
     "cell_type": "code",
     "collapsed": false,
     "input": [
      "from pyspark import  SparkContext\n",
      "# SparkContext.setSystemProperty('spark.executor.memory', '3g')\n",
      "\n",
      "if 'sc' not in globals():\n",
      "    sc = SparkContext( 'local[4]', 'pyspark')"
     ],
     "language": "python",
     "metadata": {},
     "outputs": [],
     "prompt_number": 1
    },
    {
     "cell_type": "code",
     "collapsed": false,
     "input": [
      "users = sc.textFile('users.dat').map(lambda x: (int(x.split('::')[0]), x))\n",
      "print users.count()\n",
      "users.take(5)"
     ],
     "language": "python",
     "metadata": {},
     "outputs": [
      {
       "output_type": "stream",
       "stream": "stdout",
       "text": [
        "6040\n"
       ]
      },
      {
       "metadata": {},
       "output_type": "pyout",
       "prompt_number": 2,
       "text": [
        "[(1, u'1::F::1::10::48067'),\n",
        " (2, u'2::M::56::16::70072'),\n",
        " (3, u'3::M::25::15::55117'),\n",
        " (4, u'4::M::45::7::02460'),\n",
        " (5, u'5::M::25::20::55455')]"
       ]
      }
     ],
     "prompt_number": 2
    },
    {
     "cell_type": "code",
     "collapsed": false,
     "input": [
      "ratings = sc.textFile('ratings.dat').map(lambda x: (int(x.split('::')[0]), x))\n",
      "print ratings.count()\n",
      "ratings.take(5)"
     ],
     "language": "python",
     "metadata": {},
     "outputs": [
      {
       "output_type": "stream",
       "stream": "stdout",
       "text": [
        "1000209\n"
       ]
      },
      {
       "metadata": {},
       "output_type": "pyout",
       "prompt_number": 3,
       "text": [
        "[(1, u'1::1193::5::978300760'),\n",
        " (1, u'1::661::3::978302109'),\n",
        " (1, u'1::914::3::978301968'),\n",
        " (1, u'1::3408::4::978300275'),\n",
        " (1, u'1::2355::5::978824291')]"
       ]
      }
     ],
     "prompt_number": 3
    },
    {
     "cell_type": "code",
     "collapsed": false,
     "input": [
      "movies = sc.textFile('movies.dat').map(lambda x: (int(x.split('::')[0]), x))\n",
      "print movies.count()\n",
      "movies.take(5)"
     ],
     "language": "python",
     "metadata": {},
     "outputs": [
      {
       "output_type": "stream",
       "stream": "stdout",
       "text": [
        "3883\n"
       ]
      },
      {
       "metadata": {},
       "output_type": "pyout",
       "prompt_number": 4,
       "text": [
        "[(1, u\"1::Toy Story (1995)::Animation|Children's|Comedy\"),\n",
        " (2, u\"2::Jumanji (1995)::Adventure|Children's|Fantasy\"),\n",
        " (3, u'3::Grumpier Old Men (1995)::Comedy|Romance'),\n",
        " (4, u'4::Waiting to Exhale (1995)::Comedy|Drama'),\n",
        " (5, u'5::Father of the Bride Part II (1995)::Comedy')]"
       ]
      }
     ],
     "prompt_number": 4
    },
    {
     "cell_type": "heading",
     "level": 3,
     "metadata": {},
     "source": [
      "Join"
     ]
    },
    {
     "cell_type": "code",
     "collapsed": false,
     "input": [
      "data = ratings.join(users)\n",
      "data.take(10)"
     ],
     "language": "python",
     "metadata": {},
     "outputs": [
      {
       "metadata": {},
       "output_type": "pyout",
       "prompt_number": 5,
       "text": [
        "[(4, (u'4::3468::5::978294008', u'4::M::45::7::02460')),\n",
        " (4, (u'4::1210::3::978293924', u'4::M::45::7::02460')),\n",
        " (4, (u'4::2951::4::978294282', u'4::M::45::7::02460')),\n",
        " (4, (u'4::1214::4::978294260', u'4::M::45::7::02460')),\n",
        " (4, (u'4::1036::4::978294282', u'4::M::45::7::02460')),\n",
        " (4, (u'4::260::5::978294199', u'4::M::45::7::02460')),\n",
        " (4, (u'4::2028::5::978294230', u'4::M::45::7::02460')),\n",
        " (4, (u'4::480::4::978294008', u'4::M::45::7::02460')),\n",
        " (4, (u'4::1196::2::978294199', u'4::M::45::7::02460')),\n",
        " (4, (u'4::1198::5::978294199', u'4::M::45::7::02460'))]"
       ]
      }
     ],
     "prompt_number": 5
    },
    {
     "cell_type": "code",
     "collapsed": false,
     "input": [
      "type(data)"
     ],
     "language": "python",
     "metadata": {},
     "outputs": [
      {
       "metadata": {},
       "output_type": "pyout",
       "prompt_number": 7,
       "text": [
        "pyspark.rdd.PipelinedRDD"
       ]
      }
     ],
     "prompt_number": 7
    },
    {
     "cell_type": "code",
     "collapsed": false,
     "input": [
      "tmp = data.map( lambda x: '::'.join(x[1]))\n",
      "tmp = tmp.map( lambda x: (int(x.split('::')[1]), x))\n",
      "tmp.take(5)"
     ],
     "language": "python",
     "metadata": {},
     "outputs": [
      {
       "metadata": {},
       "output_type": "pyout",
       "prompt_number": 8,
       "text": [
        "[(3468, u'4::3468::5::978294008::4::M::45::7::02460'),\n",
        " (1210, u'4::1210::3::978293924::4::M::45::7::02460'),\n",
        " (2951, u'4::2951::4::978294282::4::M::45::7::02460'),\n",
        " (1214, u'4::1214::4::978294260::4::M::45::7::02460'),\n",
        " (1036, u'4::1036::4::978294282::4::M::45::7::02460')]"
       ]
      }
     ],
     "prompt_number": 8
    },
    {
     "cell_type": "code",
     "collapsed": false,
     "input": [
      "data = tmp.join(movies)\n",
      "data.count()\n",
      "data.take(5)"
     ],
     "language": "python",
     "metadata": {},
     "outputs": [
      {
       "metadata": {},
       "output_type": "pyout",
       "prompt_number": 9,
       "text": [
        "[(2048,\n",
        "  (u'92::2048::3::986187379::92::F::18::4::44243',\n",
        "   u\"2048::Great Mouse Detective, The (1986)::Animation|Children's\")),\n",
        " (2048,\n",
        "  (u'148::2048::4::979576631::148::M::50::17::57747',\n",
        "   u\"2048::Great Mouse Detective, The (1986)::Animation|Children's\")),\n",
        " (2048,\n",
        "  (u'284::2048::4::976574872::284::M::25::12::91910',\n",
        "   u\"2048::Great Mouse Detective, The (1986)::Animation|Children's\")),\n",
        " (2048,\n",
        "  (u'424::2048::4::1018987026::424::M::25::17::55112',\n",
        "   u\"2048::Great Mouse Detective, The (1986)::Animation|Children's\")),\n",
        " (2048,\n",
        "  (u'536::2048::4::976138712::536::M::25::20::01267',\n",
        "   u\"2048::Great Mouse Detective, The (1986)::Animation|Children's\"))]"
       ]
      }
     ],
     "prompt_number": 9
    },
    {
     "cell_type": "code",
     "collapsed": false,
     "input": [
      "data = data.map(lambda x: '::'.join(x[1]))\n",
      "data.take(5)"
     ],
     "language": "python",
     "metadata": {},
     "outputs": [
      {
       "metadata": {},
       "output_type": "pyout",
       "prompt_number": 10,
       "text": [
        "[u\"92::2048::3::986187379::92::F::18::4::44243::2048::Great Mouse Detective, The (1986)::Animation|Children's\",\n",
        " u\"148::2048::4::979576631::148::M::50::17::57747::2048::Great Mouse Detective, The (1986)::Animation|Children's\",\n",
        " u\"284::2048::4::976574872::284::M::25::12::91910::2048::Great Mouse Detective, The (1986)::Animation|Children's\",\n",
        " u\"424::2048::4::1018987026::424::M::25::17::55112::2048::Great Mouse Detective, The (1986)::Animation|Children's\",\n",
        " u\"536::2048::4::976138712::536::M::25::20::01267::2048::Great Mouse Detective, The (1986)::Animation|Children's\"]"
       ]
      }
     ],
     "prompt_number": 10
    },
    {
     "cell_type": "heading",
     "level": 3,
     "metadata": {},
     "source": [
      "Cleaning"
     ]
    },
    {
     "cell_type": "code",
     "collapsed": false,
     "input": [
      "def keep_cols(x):\n",
      "    values = x.split('::')\n",
      "    return (values[2], values[5], values[10], 1) #add 1 for the count"
     ],
     "language": "python",
     "metadata": {},
     "outputs": [],
     "prompt_number": 11
    },
    {
     "cell_type": "code",
     "collapsed": false,
     "input": [
      "clean = data.map(keep_cols)\n",
      "clean.take(5)"
     ],
     "language": "python",
     "metadata": {},
     "outputs": [
      {
       "metadata": {},
       "output_type": "pyout",
       "prompt_number": 12,
       "text": [
        "[(u'3', u'F', u'Great Mouse Detective, The (1986)', 1),\n",
        " (u'4', u'M', u'Great Mouse Detective, The (1986)', 1),\n",
        " (u'4', u'M', u'Great Mouse Detective, The (1986)', 1),\n",
        " (u'4', u'M', u'Great Mouse Detective, The (1986)', 1),\n",
        " (u'4', u'M', u'Great Mouse Detective, The (1986)', 1)]"
       ]
      }
     ],
     "prompt_number": 12
    },
    {
     "cell_type": "heading",
     "level": 3,
     "metadata": {},
     "source": [
      "Compute"
     ]
    },
    {
     "cell_type": "markdown",
     "metadata": {},
     "source": [
      "Groupby movie"
     ]
    },
    {
     "cell_type": "code",
     "collapsed": false,
     "input": [
      "tmp = clean.map(lambda x: (x[2], x)).groupByKey()\n",
      "print tmp.count()"
     ],
     "language": "python",
     "metadata": {},
     "outputs": [
      {
       "output_type": "stream",
       "stream": "stdout",
       "text": [
        "3706\n"
       ]
      }
     ],
     "prompt_number": 13
    },
    {
     "cell_type": "markdown",
     "metadata": {},
     "source": [
      "Compute the mean rating and count."
     ]
    },
    {
     "cell_type": "code",
     "collapsed": false,
     "input": [
      "def movie_count_rating(x):\n",
      "    title = x[0]\n",
      "    mean_rating = 0.\n",
      "    count = len(x[1])\n",
      "    for rating in x[1]:\n",
      "        mean_rating += int(rating[0])\n",
      "    return (title, count, mean_rating/float(count))"
     ],
     "language": "python",
     "metadata": {},
     "outputs": [],
     "prompt_number": 17
    },
    {
     "cell_type": "code",
     "collapsed": false,
     "input": [
      "results = tmp.map(movie_count_rating)\n",
      "results.take(3)"
     ],
     "language": "python",
     "metadata": {},
     "outputs": [
      {
       "metadata": {},
       "output_type": "pyout",
       "prompt_number": 18,
       "text": [
        "[(u'Irma la Douce (1963)', 93, 3.7096774193548385),\n",
        " (u'Adventures of Pinocchio, The (1996)', 54, 2.9074074074074074),\n",
        " (u'Other Sister, The (1999)', 163, 3.3435582822085887)]"
       ]
      }
     ],
     "prompt_number": 18
    },
    {
     "cell_type": "markdown",
     "metadata": {},
     "source": [
      "Highest rated movies?"
     ]
    },
    {
     "cell_type": "code",
     "collapsed": false,
     "input": [
      "results.map(lambda x: (x[2], x)).sortByKey(False).take(10)"
     ],
     "language": "python",
     "metadata": {},
     "outputs": [
      {
       "metadata": {},
       "output_type": "pyout",
       "prompt_number": 19,
       "text": [
        "[(5.0, (u'Lured (1947)', 1, 5.0)),\n",
        " (5.0, (u'Bittersweet Motel (2000)', 1, 5.0)),\n",
        " (5.0, (u'Song of Freedom (1936)', 1, 5.0)),\n",
        " (5.0, (u'Schlafes Bruder (Brother of Sleep) (1995)', 1, 5.0)),\n",
        " (5.0, (u'Smashing Time (1967)', 2, 5.0)),\n",
        " (5.0, (u'Gate of Heavenly Peace, The (1995)', 3, 5.0)),\n",
        " (5.0, (u'Baby, The (1973)', 1, 5.0)),\n",
        " (5.0, (u'One Little Indian (1973)', 1, 5.0)),\n",
        " (5.0, (u'Ulysses (Ulisse) (1954)', 1, 5.0)),\n",
        " (5.0, (u'Follow the Bitch (1998)', 1, 5.0))]"
       ]
      }
     ],
     "prompt_number": 19
    },
    {
     "cell_type": "markdown",
     "metadata": {},
     "source": [
      "Highest rated with more than `1000` ratings?"
     ]
    },
    {
     "cell_type": "code",
     "collapsed": false,
     "input": [
      "top = results.filter(lambda x: x[1] > 1000).map(lambda x: (x[2], x)).sortByKey(False).take(10)"
     ],
     "language": "python",
     "metadata": {},
     "outputs": [],
     "prompt_number": 20
    },
    {
     "cell_type": "code",
     "collapsed": false,
     "input": [
      "top"
     ],
     "language": "python",
     "metadata": {},
     "outputs": [
      {
       "metadata": {},
       "output_type": "pyout",
       "prompt_number": 21,
       "text": [
        "[(4.554557700942973,\n",
        "  (u'Shawshank Redemption, The (1994)', 2227, 4.554557700942973)),\n",
        " (4.524966261808367, (u'Godfather, The (1972)', 2223, 4.524966261808367)),\n",
        " (4.517106001121705, (u'Usual Suspects, The (1995)', 1783, 4.517106001121705)),\n",
        " (4.510416666666667, (u\"Schindler's List (1993)\", 2304, 4.510416666666667)),\n",
        " (4.477724741447892,\n",
        "  (u'Raiders of the Lost Ark (1981)', 2514, 4.477724741447892)),\n",
        " (4.476190476190476, (u'Rear Window (1954)', 1050, 4.476190476190476)),\n",
        " (4.453694416583082,\n",
        "  (u'Star Wars: Episode IV - A New Hope (1977)', 2991, 4.453694416583082)),\n",
        " (4.4498902706656915,\n",
        "  (u'Dr. Strangelove or: How I Learned to Stop Worrying and Love the Bomb (1963)',\n",
        "   1367,\n",
        "   4.4498902706656915)),\n",
        " (4.412822049131217, (u'Casablanca (1942)', 1669, 4.412822049131217)),\n",
        " (4.406262708418057, (u'Sixth Sense, The (1999)', 2459, 4.406262708418057))]"
       ]
      }
     ],
     "prompt_number": 21
    },
    {
     "cell_type": "code",
     "collapsed": false,
     "input": [
      "for m in top:\n",
      "    print m[1][2], m[1][0][:30]"
     ],
     "language": "python",
     "metadata": {},
     "outputs": [
      {
       "output_type": "stream",
       "stream": "stdout",
       "text": [
        "4.55455770094 Shawshank Redemption, The (199\n",
        "4.52496626181 Godfather, The (1972)\n",
        "4.51710600112 Usual Suspects, The (1995)\n",
        "4.51041666667 Schindler's List (1993)\n",
        "4.47772474145 Raiders of the Lost Ark (1981)\n",
        "4.47619047619 Rear Window (1954)\n",
        "4.45369441658 Star Wars: Episode IV - A New \n",
        "4.44989027067 Dr. Strangelove or: How I Lear\n",
        "4.41282204913 Casablanca (1942)\n",
        "4.40626270842 Sixth Sense, The (1999)\n"
       ]
      }
     ],
     "prompt_number": 22
    },
    {
     "cell_type": "code",
     "collapsed": false,
     "input": [],
     "language": "python",
     "metadata": {},
     "outputs": []
    }
   ],
   "metadata": {}
  }
 ]
}