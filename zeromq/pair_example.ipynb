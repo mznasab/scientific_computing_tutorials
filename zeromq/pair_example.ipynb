{
 "metadata": {
  "name": "",
  "signature": "sha256:b6655fcf8a38fd49f55ec59e41f554a07de9d72c1cac2987aa8017a88f650099"
 },
 "nbformat": 3,
 "nbformat_minor": 0,
 "worksheets": [
  {
   "cells": [
    {
     "cell_type": "heading",
     "level": 1,
     "metadata": {},
     "source": [
      "Zeromq `pair` example"
     ]
    },
    {
     "cell_type": "markdown",
     "metadata": {},
     "source": [
      "The `client`"
     ]
    },
    {
     "cell_type": "code",
     "collapsed": false,
     "input": [
      "%%writefile client.py\n",
      "import zmq\n",
      "import random\n",
      "import sys\n",
      "import time\n",
      "\n",
      "port = \"5556\"\n",
      "context = zmq.Context()\n",
      "socket = context.socket(zmq.PAIR)\n",
      "socket.bind(\"tcp://*:%s\" % port)\n",
      "\n",
      "while True:\n",
      "    socket.send(\"Server message to client3\")\n",
      "    msg = socket.recv()\n",
      "    print msg\n",
      "    time.sleep(1)"
     ],
     "language": "python",
     "metadata": {},
     "outputs": [
      {
       "output_type": "stream",
       "stream": "stdout",
       "text": [
        "Writing client.py\n"
       ]
      }
     ],
     "prompt_number": 1
    },
    {
     "cell_type": "markdown",
     "metadata": {},
     "source": [
      "The `server`"
     ]
    },
    {
     "cell_type": "code",
     "collapsed": false,
     "input": [
      "%%writefile server.py\n",
      "\n",
      "import zmq\n",
      "import random\n",
      "import sys\n",
      "import time\n",
      "\n",
      "port = \"5556\"\n",
      "svr_context = zmq.Context()\n",
      "svr_socket = svr_context.socket(zmq.PAIR)\n",
      "svr_socket.connect(\"tcp://localhost:%s\" % port)\n",
      "\n",
      "while True:\n",
      "    msg = svr_socket.recv()\n",
      "    print msg\n",
      "    svr_socket.send(\"client message to server1\")\n",
      "    svr_socket.send(\"client message to server2\")\n",
      "    time.sleep(1)"
     ],
     "language": "python",
     "metadata": {},
     "outputs": [
      {
       "output_type": "stream",
       "stream": "stdout",
       "text": [
        "Writing server.py\n"
       ]
      }
     ],
     "prompt_number": 2
    },
    {
     "cell_type": "code",
     "collapsed": false,
     "input": [
      "import subprocess\n",
      "\n",
      "server = subprocess.Popen('python client.py', shell=True)\n",
      "client = subprocess.Popen('python server.py', shell=True)"
     ],
     "language": "python",
     "metadata": {},
     "outputs": [],
     "prompt_number": 3
    },
    {
     "cell_type": "code",
     "collapsed": false,
     "input": [],
     "language": "python",
     "metadata": {},
     "outputs": []
    }
   ],
   "metadata": {}
  }
 ]
}