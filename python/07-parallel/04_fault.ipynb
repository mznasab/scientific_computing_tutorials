{
 "metadata": {
  "name": "",
  "signature": "sha256:70062099e796d64cf60b79d3e81ce0cee4a8838619e74fe4dbd51d4eaa111fc7"
 },
 "nbformat": 3,
 "nbformat_minor": 0,
 "worksheets": [
  {
   "cells": [
    {
     "cell_type": "heading",
     "level": 1,
     "metadata": {},
     "source": [
      "Fault-tolerance"
     ]
    },
    {
     "cell_type": "code",
     "collapsed": false,
     "input": [
      "from IPython.parallel import Client, require\n",
      "import time\n",
      "import socket\n",
      "import random"
     ],
     "language": "python",
     "metadata": {},
     "outputs": [],
     "prompt_number": 1
    },
    {
     "cell_type": "code",
     "collapsed": false,
     "input": [
      "def execute_job(x):\n",
      "    import IPython.parallel.error\n",
      "    time.sleep(1)\n",
      "    if random.random() < 0.1:  # Fail 10 percent of the time\n",
      "        raise IPython.parallel.error.KernelError\n",
      "    return {'task': x, \n",
      "        'host': os.getpid()}"
     ],
     "language": "python",
     "metadata": {},
     "outputs": [],
     "prompt_number": 2
    },
    {
     "cell_type": "markdown",
     "metadata": {},
     "source": [
      "Client"
     ]
    },
    {
     "cell_type": "code",
     "collapsed": false,
     "input": [
      "c = Client()"
     ],
     "language": "python",
     "metadata": {},
     "outputs": [],
     "prompt_number": 3
    },
    {
     "cell_type": "markdown",
     "metadata": {},
     "source": [
      "Imports"
     ]
    },
    {
     "cell_type": "code",
     "collapsed": false,
     "input": [
      "dv = c[:]\n",
      "with dv.sync_imports():\n",
      "    import random\n",
      "    import os\n",
      "    import time\n",
      "    import IPython.parallel.error"
     ],
     "language": "python",
     "metadata": {},
     "outputs": [
      {
       "output_type": "stream",
       "stream": "stdout",
       "text": [
        "importing random on engine(s)\n",
        "importing os on engine(s)\n",
        "importing time on engine(s)\n",
        "importing IPython.parallel.error on engine(s)\n"
       ]
      }
     ],
     "prompt_number": 4
    },
    {
     "cell_type": "code",
     "collapsed": false,
     "input": [
      "lv = c.load_balanced_view()\n",
      "cases = range(10)\n",
      "results = lv.map(execute_job, cases)\n",
      "print len(results.get())"
     ],
     "language": "python",
     "metadata": {},
     "outputs": [
      {
       "ename": "CompositeError",
       "evalue": "one or more exceptions from call to method: execute_job\n[2:apply]: KernelError: ",
       "output_type": "pyerr",
       "traceback": [
        "[2:apply]: ",
        "\u001b[1;31m---------------------------------------------------------------------------\u001b[0m",
        "\u001b[1;31mKernelError\u001b[0m                               Traceback (most recent call last)\u001b[1;32m<string>\u001b[0m in \u001b[0;36m<module>\u001b[1;34m()\u001b[0m",
        "\u001b[1;32m<ipython-input-2-ab51f3a43049>\u001b[0m in \u001b[0;36mexecute_job\u001b[1;34m(x)\u001b[0m",
        "\u001b[1;31mKernelError\u001b[0m: ",
        ""
       ]
      }
     ],
     "prompt_number": 5
    },
    {
     "cell_type": "heading",
     "level": 2,
     "metadata": {},
     "source": [
      "Retries"
     ]
    },
    {
     "cell_type": "code",
     "collapsed": false,
     "input": [
      "lv.retries = len(c.ids)\n",
      "results = lv.map(execute_job, cases)\n",
      "print len(results.get())"
     ],
     "language": "python",
     "metadata": {},
     "outputs": [
      {
       "output_type": "stream",
       "stream": "stdout",
       "text": [
        "10\n"
       ]
      }
     ],
     "prompt_number": 6
    },
    {
     "cell_type": "heading",
     "level": 2,
     "metadata": {},
     "source": [
      "Engines die"
     ]
    },
    {
     "cell_type": "markdown",
     "metadata": {},
     "source": [
      "Get the process id for each engine."
     ]
    },
    {
     "cell_type": "code",
     "collapsed": false,
     "input": [
      "def get_engine_info():\n",
      "    import os\n",
      "    return {'pid': os.getpid()}"
     ],
     "language": "python",
     "metadata": {},
     "outputs": []
    },
    {
     "cell_type": "code",
     "collapsed": false,
     "input": [
      "dv = c[:]\n",
      "engine_info = dv.apply_sync(get_engine_info)\n",
      "\n",
      "print engine_info"
     ],
     "language": "python",
     "metadata": {},
     "outputs": [
      {
       "output_type": "stream",
       "stream": "stdout",
       "text": [
        "[{'pid': 2236}, {'pid': 2237}, {'pid': 2240}, {'pid': 2243}]\n"
       ]
      }
     ],
     "prompt_number": 11
    },
    {
     "cell_type": "code",
     "collapsed": false,
     "input": [
      "print c.ids\n",
      "cases = range(20)\n",
      "results = lv.map(execute_job, cases)"
     ],
     "language": "python",
     "metadata": {},
     "outputs": [
      {
       "output_type": "stream",
       "stream": "stdout",
       "text": [
        "[0, 1, 2, 3]\n"
       ]
      }
     ],
     "prompt_number": 13
    },
    {
     "cell_type": "markdown",
     "metadata": {},
     "source": [
      "Let's kill an engine."
     ]
    },
    {
     "cell_type": "code",
     "collapsed": false,
     "input": [
      "import signal\n",
      "pid = engine_info[1]['pid']\n",
      "time.sleep(1)\n",
      "os.kill(int(pid), signal.SIGTERM) "
     ],
     "language": "python",
     "metadata": {},
     "outputs": [],
     "prompt_number": 14
    },
    {
     "cell_type": "code",
     "collapsed": false,
     "input": [
      "results.wait()\n",
      "print c.ids"
     ],
     "language": "python",
     "metadata": {},
     "outputs": [
      {
       "output_type": "stream",
       "stream": "stdout",
       "text": [
        "[0, 2, 3]\n"
       ]
      }
     ],
     "prompt_number": 15
    },
    {
     "cell_type": "code",
     "collapsed": false,
     "input": [],
     "language": "python",
     "metadata": {},
     "outputs": []
    }
   ],
   "metadata": {}
  }
 ]
}