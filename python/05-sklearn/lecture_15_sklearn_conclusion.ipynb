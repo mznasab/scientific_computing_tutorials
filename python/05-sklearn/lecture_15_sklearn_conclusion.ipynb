{
 "metadata": {
  "name": "",
  "signature": "sha256:990a42dc6bd55135b29b2124f4c2fbe33f73d38a1d15389645e6fb462fefec07"
 },
 "nbformat": 3,
 "nbformat_minor": 0,
 "worksheets": [
  {
   "cells": [
    {
     "cell_type": "heading",
     "level": 2,
     "metadata": {},
     "source": [
      "Conclusion"
     ]
    },
    {
     "cell_type": "markdown",
     "metadata": {},
     "source": [
      "- Data representation\n",
      "- `Estimators`\n",
      "    - LinearRegression\n",
      "    - KNeighborsRegressor\n",
      "    - LogisticRegression\n",
      "    - KNeighborsClassifier\n",
      "    - Ridge\n",
      "    - Lasso\n",
      "    - PCA\n",
      "    - KMeans\n",
      "- Bias-Variance Trade-off\n",
      "    - Cross Validation\n",
      "    "
     ]
    },
    {
     "cell_type": "heading",
     "level": 3,
     "metadata": {},
     "source": [
      "Other Important Topics"
     ]
    },
    {
     "cell_type": "markdown",
     "metadata": {},
     "source": [
      "- `metrics`\n",
      "    - classification reports\n",
      "    - confusion matrix\n",
      "    - f1 score\n",
      "    - ROC curves\n",
      "    - ROC area\n",
      "- Other `estimators`\n",
      "    - SVM\n",
      "    - Trees\n",
      "    - and many more...\n",
      "- Kfold CV\n",
      "- Grid search, Random search\n",
      "- Text methods\n",
      "- Parallel execution\n",
      "\n",
      "    "
     ]
    },
    {
     "cell_type": "code",
     "collapsed": false,
     "input": [],
     "language": "python",
     "metadata": {},
     "outputs": []
    }
   ],
   "metadata": {}
  }
 ]
}