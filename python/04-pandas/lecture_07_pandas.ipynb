{
 "metadata": {
  "name": ""
 },
 "nbformat": 3,
 "nbformat_minor": 0,
 "worksheets": [
  {
   "cells": [
    {
     "cell_type": "markdown",
     "metadata": {
      "slideshow": {
       "slide_type": "slide"
      }
     },
     "source": [
      "<img src='https://www.rc.colorado.edu/sites/all/themes/research/logo.png'>"
     ]
    },
    {
     "cell_type": "markdown",
     "metadata": {},
     "source": [
      "#Data Analysis with Python\n",
      "\n",
      "Monte Lunacek"
     ]
    },
    {
     "cell_type": "markdown",
     "metadata": {
      "slideshow": {
       "slide_type": "slide"
      }
     },
     "source": [
      "## `pandas`\n",
      "\n",
      "- Provides python a `DataFrame`\n",
      "- Structured manipulation tools\n",
      "- Built on top of `numpy`\n",
      "- Huge growth from 2011-2012\n",
      "- Very **efficient**\n",
      "- Great for *medium* data\n",
      "\n",
      "Resources\n",
      "\n",
      "- [pandas.pydata.org](http://pandas.pydata.org/)\n",
      "- [Python for Data Analysis](http://www.amazon.com/Python-Data-Analysis-Wrangling-IPython/dp/1449319793) by Wes McKinney\n",
      "- [Data Wrangling Kung Fu with Pandas](vimeo.com/63295598) by Wes McKinney\n",
      "- [Cheat sheet](https://s3.amazonaws.com/quandl-static-content/Documents/Quandl+-+Pandas,+SciPy,+NumPy+Cheat+Sheet.pdf) by Quandl"
     ]
    },
    {
     "cell_type": "markdown",
     "metadata": {
      "slideshow": {
       "slide_type": "slide"
      }
     },
     "source": [
      "##Data Analysis\n",
      "\n",
      "Raw data\n",
      "\n",
      "- Experiments, scraping, API, downloading\n",
      "- Different formats or unstructured\n",
      "\n",
      "Processing\n",
      "\n",
      "- Getting ready\n",
      "- Cleaning, reshaping, joining, grouping\n",
      "\n",
      "Exploratory data Analysis\n",
      "\n",
      "- Plotting, summarizing, familiarizing\n",
      "\n",
      "Analysis\n",
      "\n",
      "- Statistics, machine learning, ect.\n",
      "\n",
      "Visualization\n",
      "\n",
      "- Share results"
     ]
    },
    {
     "cell_type": "markdown",
     "metadata": {
      "slideshow": {
       "slide_type": "slide"
      }
     },
     "source": [
      "### Why `pandas`?\n",
      "\n",
      "> 80% of the effort in data analysis is spent cleaning data. [Hadley Wickham](http://vita.had.co.nz/papers/tidy-data.pdf)\n",
      "\n",
      "Efficency\n",
      "\n",
      "- Different views of data\n",
      "- [Tidy data](http://vita.had.co.nz/papers/tidy-data.pdf) by Hadley Wickham\n",
      "\n",
      "Raw data is often in the wrong format\n",
      "\n",
      "- How often to you download an array ready for array-oriented computing?\n",
      "- e.g. `scikit-learn` interface\n",
      "\n",
      "Storage may be best in a different format\n",
      "\n",
      "- Sparse representations\n",
      "- Upload to database\n",
      "\n"
     ]
    },
    {
     "cell_type": "markdown",
     "metadata": {
      "slideshow": {
       "slide_type": "slide"
      }
     },
     "source": [
      "## Outline\n",
      "\n",
      "Simple example\n",
      "\n",
      "- Reshaping: `pd.pivot` and `pd.melt`\n",
      "- Many basic operations: add, remove, indexing\n",
      "\n",
      "Movies\n",
      "\n",
      "- Joining\n",
      "- Groupby\n",
      "- Sorting\n"
     ]
    },
    {
     "cell_type": "markdown",
     "metadata": {
      "slideshow": {
       "slide_type": "slide"
      }
     },
     "source": [
      "### Simple example\n",
      "\n",
      "Based on [Data Wrangling Kung Fu with Pandas](vimeo.com/63295598) by Wes McKinney"
     ]
    },
    {
     "cell_type": "code",
     "collapsed": false,
     "input": [
      "import os\n",
      "import pandas as  pd\n",
      "import numpy as np"
     ],
     "language": "python",
     "metadata": {},
     "outputs": [],
     "prompt_number": 1
    },
    {
     "cell_type": "code",
     "collapsed": false,
     "input": [
      "dates = ['2014-02-16', '2014-02-17', '2014-02-18', '2014-02-19']\n",
      "algs = ['Model-A','Model-B','Model-C']\n",
      "\n",
      "filename = os.path.join('data','example.csv')\n",
      "\n",
      "with open(filename,'w') as outfile:\n",
      "    outfile.write('date,type,value\\n')\n",
      "    for d in dates:\n",
      "        for a in algs:\n",
      "            v = np.random.randint(10, size=1)[0]\n",
      "            tmp = '{0},{1},{2}\\n'.format(d,a,v)\n",
      "            outfile.write(tmp)"
     ],
     "language": "python",
     "metadata": {},
     "outputs": [],
     "prompt_number": 2
    },
    {
     "cell_type": "code",
     "collapsed": false,
     "input": [
      "with open(filename, 'r') as infile:\n",
      "    print infile.read()"
     ],
     "language": "python",
     "metadata": {},
     "outputs": [
      {
       "output_type": "stream",
       "stream": "stdout",
       "text": [
        "date,type,value\n",
        "2014-02-16,Model-A,1\n",
        "2014-02-16,Model-B,3\n",
        "2014-02-16,Model-C,4\n",
        "2014-02-17,Model-A,8\n",
        "2014-02-17,Model-B,5\n",
        "2014-02-17,Model-C,8\n",
        "2014-02-18,Model-A,8\n",
        "2014-02-18,Model-B,8\n",
        "2014-02-18,Model-C,0\n",
        "2014-02-19,Model-A,5\n",
        "2014-02-19,Model-B,1\n",
        "2014-02-19,Model-C,6\n",
        "\n"
       ]
      }
     ],
     "prompt_number": 3
    },
    {
     "cell_type": "markdown",
     "metadata": {},
     "source": [
      "### Creating a `DataFrame`"
     ]
    },
    {
     "cell_type": "code",
     "collapsed": false,
     "input": [
      "df = pd.read_csv(filename)\n",
      "df"
     ],
     "language": "python",
     "metadata": {},
     "outputs": [
      {
       "html": [
        "<div style=\"max-height:1000px;max-width:1500px;overflow:auto;\">\n",
        "<table border=\"1\" class=\"dataframe\">\n",
        "  <thead>\n",
        "    <tr style=\"text-align: right;\">\n",
        "      <th></th>\n",
        "      <th>date</th>\n",
        "      <th>type</th>\n",
        "      <th>value</th>\n",
        "    </tr>\n",
        "  </thead>\n",
        "  <tbody>\n",
        "    <tr>\n",
        "      <th>0 </th>\n",
        "      <td> 2014-02-16</td>\n",
        "      <td> Model-A</td>\n",
        "      <td> 1</td>\n",
        "    </tr>\n",
        "    <tr>\n",
        "      <th>1 </th>\n",
        "      <td> 2014-02-16</td>\n",
        "      <td> Model-B</td>\n",
        "      <td> 3</td>\n",
        "    </tr>\n",
        "    <tr>\n",
        "      <th>2 </th>\n",
        "      <td> 2014-02-16</td>\n",
        "      <td> Model-C</td>\n",
        "      <td> 4</td>\n",
        "    </tr>\n",
        "    <tr>\n",
        "      <th>3 </th>\n",
        "      <td> 2014-02-17</td>\n",
        "      <td> Model-A</td>\n",
        "      <td> 8</td>\n",
        "    </tr>\n",
        "    <tr>\n",
        "      <th>4 </th>\n",
        "      <td> 2014-02-17</td>\n",
        "      <td> Model-B</td>\n",
        "      <td> 5</td>\n",
        "    </tr>\n",
        "    <tr>\n",
        "      <th>5 </th>\n",
        "      <td> 2014-02-17</td>\n",
        "      <td> Model-C</td>\n",
        "      <td> 8</td>\n",
        "    </tr>\n",
        "    <tr>\n",
        "      <th>6 </th>\n",
        "      <td> 2014-02-18</td>\n",
        "      <td> Model-A</td>\n",
        "      <td> 8</td>\n",
        "    </tr>\n",
        "    <tr>\n",
        "      <th>7 </th>\n",
        "      <td> 2014-02-18</td>\n",
        "      <td> Model-B</td>\n",
        "      <td> 8</td>\n",
        "    </tr>\n",
        "    <tr>\n",
        "      <th>8 </th>\n",
        "      <td> 2014-02-18</td>\n",
        "      <td> Model-C</td>\n",
        "      <td> 0</td>\n",
        "    </tr>\n",
        "    <tr>\n",
        "      <th>9 </th>\n",
        "      <td> 2014-02-19</td>\n",
        "      <td> Model-A</td>\n",
        "      <td> 5</td>\n",
        "    </tr>\n",
        "    <tr>\n",
        "      <th>10</th>\n",
        "      <td> 2014-02-19</td>\n",
        "      <td> Model-B</td>\n",
        "      <td> 1</td>\n",
        "    </tr>\n",
        "    <tr>\n",
        "      <th>11</th>\n",
        "      <td> 2014-02-19</td>\n",
        "      <td> Model-C</td>\n",
        "      <td> 6</td>\n",
        "    </tr>\n",
        "  </tbody>\n",
        "</table>\n",
        "<p>12 rows \u00d7 3 columns</p>\n",
        "</div>"
       ],
       "metadata": {},
       "output_type": "pyout",
       "prompt_number": 5,
       "text": [
        "          date     type  value\n",
        "0   2014-02-16  Model-A      1\n",
        "1   2014-02-16  Model-B      3\n",
        "2   2014-02-16  Model-C      4\n",
        "3   2014-02-17  Model-A      8\n",
        "4   2014-02-17  Model-B      5\n",
        "5   2014-02-17  Model-C      8\n",
        "6   2014-02-18  Model-A      8\n",
        "7   2014-02-18  Model-B      8\n",
        "8   2014-02-18  Model-C      0\n",
        "9   2014-02-19  Model-A      5\n",
        "10  2014-02-19  Model-B      1\n",
        "11  2014-02-19  Model-C      6\n",
        "\n",
        "[12 rows x 3 columns]"
       ]
      }
     ],
     "prompt_number": 5
    },
    {
     "cell_type": "markdown",
     "metadata": {},
     "source": [
      "**Why store it this way?**\n",
      "\n",
      "- Different type\n",
      "- Different metric"
     ]
    },
    {
     "cell_type": "markdown",
     "metadata": {},
     "source": [
      "### Reshape with `pivot`\n",
      "\n",
      "- Question: What is the average value for each date?\n",
      "- How many observations do I have for each model?"
     ]
    },
    {
     "cell_type": "code",
     "collapsed": false,
     "input": [
      "results = df.pivot('date', 'type', 'value') #row, column, values (optional)\n",
      "print results"
     ],
     "language": "python",
     "metadata": {},
     "outputs": [
      {
       "output_type": "stream",
       "stream": "stdout",
       "text": [
        "type        Model-A  Model-B  Model-C\n",
        "date                                 \n",
        "2014-02-16        1        3        4\n",
        "2014-02-17        8        5        8\n",
        "2014-02-18        8        8        0\n",
        "2014-02-19        5        1        6\n",
        "\n",
        "[4 rows x 3 columns]\n"
       ]
      }
     ],
     "prompt_number": 6
    },
    {
     "cell_type": "code",
     "collapsed": false,
     "input": [
      "results.columns"
     ],
     "language": "python",
     "metadata": {},
     "outputs": [
      {
       "metadata": {},
       "output_type": "pyout",
       "prompt_number": 7,
       "text": [
        "Index([u'Model-A', u'Model-B', u'Model-C'], dtype='object')"
       ]
      }
     ],
     "prompt_number": 7
    },
    {
     "cell_type": "code",
     "collapsed": false,
     "input": [
      "results.index"
     ],
     "language": "python",
     "metadata": {},
     "outputs": [
      {
       "metadata": {},
       "output_type": "pyout",
       "prompt_number": 8,
       "text": [
        "Index([u'2014-02-16', u'2014-02-17', u'2014-02-18', u'2014-02-19'], dtype='object')"
       ]
      }
     ],
     "prompt_number": 8
    },
    {
     "cell_type": "markdown",
     "metadata": {},
     "source": [
      "###Columns access"
     ]
    },
    {
     "cell_type": "code",
     "collapsed": false,
     "input": [
      "results['Model-A']"
     ],
     "language": "python",
     "metadata": {},
     "outputs": [
      {
       "metadata": {},
       "output_type": "pyout",
       "prompt_number": 9,
       "text": [
        "date\n",
        "2014-02-16    1\n",
        "2014-02-17    8\n",
        "2014-02-18    8\n",
        "2014-02-19    5\n",
        "Name: Model-A, dtype: int64"
       ]
      }
     ],
     "prompt_number": 9
    },
    {
     "cell_type": "code",
     "collapsed": false,
     "input": [
      "results['Model-A'].values"
     ],
     "language": "python",
     "metadata": {},
     "outputs": [
      {
       "metadata": {},
       "output_type": "pyout",
       "prompt_number": 10,
       "text": [
        "array([1, 8, 8, 5])"
       ]
      }
     ],
     "prompt_number": 10
    },
    {
     "cell_type": "markdown",
     "metadata": {},
     "source": [
      "###Row access"
     ]
    },
    {
     "cell_type": "code",
     "collapsed": false,
     "input": [
      "results.ix[0]"
     ],
     "language": "python",
     "metadata": {},
     "outputs": [
      {
       "metadata": {},
       "output_type": "pyout",
       "prompt_number": 11,
       "text": [
        "type\n",
        "Model-A    1\n",
        "Model-B    3\n",
        "Model-C    4\n",
        "Name: 2014-02-16, dtype: int64"
       ]
      }
     ],
     "prompt_number": 11
    },
    {
     "cell_type": "code",
     "collapsed": false,
     "input": [
      "results.ix['2014-02-16']"
     ],
     "language": "python",
     "metadata": {},
     "outputs": [
      {
       "metadata": {},
       "output_type": "pyout",
       "prompt_number": 12,
       "text": [
        "type\n",
        "Model-A    1\n",
        "Model-B    3\n",
        "Model-C    4\n",
        "Name: 2014-02-16, dtype: int64"
       ]
      }
     ],
     "prompt_number": 12
    },
    {
     "cell_type": "markdown",
     "metadata": {},
     "source": [
      "###Range access"
     ]
    },
    {
     "cell_type": "code",
     "collapsed": false,
     "input": [
      "print results.ix[2:4,1:]"
     ],
     "language": "python",
     "metadata": {},
     "outputs": [
      {
       "output_type": "stream",
       "stream": "stdout",
       "text": [
        "type        Model-B  Model-C\n",
        "date                        \n",
        "2014-02-18        8        0\n",
        "2014-02-19        1        6\n",
        "\n",
        "[2 rows x 2 columns]\n"
       ]
      }
     ],
     "prompt_number": 13
    },
    {
     "cell_type": "markdown",
     "metadata": {},
     "source": [
      "### Summarize rows and columns\n",
      "\n",
      "Question: What is the average value for each date?"
     ]
    },
    {
     "cell_type": "code",
     "collapsed": false,
     "input": [
      "results.mean(axis=1)"
     ],
     "language": "python",
     "metadata": {},
     "outputs": [
      {
       "metadata": {},
       "output_type": "pyout",
       "prompt_number": 14,
       "text": [
        "date\n",
        "2014-02-16    2.666667\n",
        "2014-02-17    7.000000\n",
        "2014-02-18    5.333333\n",
        "2014-02-19    4.000000\n",
        "dtype: float64"
       ]
      }
     ],
     "prompt_number": 14
    },
    {
     "cell_type": "markdown",
     "metadata": {},
     "source": [
      "How many observations do I have for each model?"
     ]
    },
    {
     "cell_type": "code",
     "collapsed": false,
     "input": [
      "results.count(axis=0)"
     ],
     "language": "python",
     "metadata": {},
     "outputs": [
      {
       "metadata": {},
       "output_type": "pyout",
       "prompt_number": 15,
       "text": [
        "type\n",
        "Model-A    4\n",
        "Model-B    4\n",
        "Model-C    4\n",
        "dtype: int64"
       ]
      }
     ],
     "prompt_number": 15
    },
    {
     "cell_type": "markdown",
     "metadata": {},
     "source": [
      "### Add some data with `pd.concat`"
     ]
    },
    {
     "cell_type": "code",
     "collapsed": false,
     "input": [
      "df = pd.read_csv(filename)\n",
      "tmp = {'date': ['2014-02-16','2014-02-18'],\n",
      "       'type': ['Model-D', 'Model-D'],\n",
      "       'value': [11, 7]}\n",
      "\n",
      "pd.DataFrame(tmp)"
     ],
     "language": "python",
     "metadata": {},
     "outputs": [
      {
       "html": [
        "<div style=\"max-height:1000px;max-width:1500px;overflow:auto;\">\n",
        "<table border=\"1\" class=\"dataframe\">\n",
        "  <thead>\n",
        "    <tr style=\"text-align: right;\">\n",
        "      <th></th>\n",
        "      <th>date</th>\n",
        "      <th>type</th>\n",
        "      <th>value</th>\n",
        "    </tr>\n",
        "  </thead>\n",
        "  <tbody>\n",
        "    <tr>\n",
        "      <th>0</th>\n",
        "      <td> 2014-02-16</td>\n",
        "      <td> Model-D</td>\n",
        "      <td> 11</td>\n",
        "    </tr>\n",
        "    <tr>\n",
        "      <th>1</th>\n",
        "      <td> 2014-02-18</td>\n",
        "      <td> Model-D</td>\n",
        "      <td>  7</td>\n",
        "    </tr>\n",
        "  </tbody>\n",
        "</table>\n",
        "<p>2 rows \u00d7 3 columns</p>\n",
        "</div>"
       ],
       "metadata": {},
       "output_type": "pyout",
       "prompt_number": 16,
       "text": [
        "         date     type  value\n",
        "0  2014-02-16  Model-D     11\n",
        "1  2014-02-18  Model-D      7\n",
        "\n",
        "[2 rows x 3 columns]"
       ]
      }
     ],
     "prompt_number": 16
    },
    {
     "cell_type": "code",
     "collapsed": false,
     "input": [
      "df = pd.concat([df,pd.DataFrame(tmp)], ignore_index=True)\n",
      "df.shape"
     ],
     "language": "python",
     "metadata": {},
     "outputs": [
      {
       "metadata": {},
       "output_type": "pyout",
       "prompt_number": 17,
       "text": [
        "(14, 3)"
       ]
      }
     ],
     "prompt_number": 17
    },
    {
     "cell_type": "markdown",
     "metadata": {},
     "source": [
      "### Delete a row"
     ]
    },
    {
     "cell_type": "code",
     "collapsed": false,
     "input": [
      "df.drop(2, axis=0).head()"
     ],
     "language": "python",
     "metadata": {},
     "outputs": [
      {
       "html": [
        "<div style=\"max-height:1000px;max-width:1500px;overflow:auto;\">\n",
        "<table border=\"1\" class=\"dataframe\">\n",
        "  <thead>\n",
        "    <tr style=\"text-align: right;\">\n",
        "      <th></th>\n",
        "      <th>date</th>\n",
        "      <th>type</th>\n",
        "      <th>value</th>\n",
        "    </tr>\n",
        "  </thead>\n",
        "  <tbody>\n",
        "    <tr>\n",
        "      <th>0</th>\n",
        "      <td> 2014-02-16</td>\n",
        "      <td> Model-A</td>\n",
        "      <td> 1</td>\n",
        "    </tr>\n",
        "    <tr>\n",
        "      <th>1</th>\n",
        "      <td> 2014-02-16</td>\n",
        "      <td> Model-B</td>\n",
        "      <td> 3</td>\n",
        "    </tr>\n",
        "    <tr>\n",
        "      <th>3</th>\n",
        "      <td> 2014-02-17</td>\n",
        "      <td> Model-A</td>\n",
        "      <td> 8</td>\n",
        "    </tr>\n",
        "    <tr>\n",
        "      <th>4</th>\n",
        "      <td> 2014-02-17</td>\n",
        "      <td> Model-B</td>\n",
        "      <td> 5</td>\n",
        "    </tr>\n",
        "    <tr>\n",
        "      <th>5</th>\n",
        "      <td> 2014-02-17</td>\n",
        "      <td> Model-C</td>\n",
        "      <td> 8</td>\n",
        "    </tr>\n",
        "  </tbody>\n",
        "</table>\n",
        "<p>5 rows \u00d7 3 columns</p>\n",
        "</div>"
       ],
       "metadata": {},
       "output_type": "pyout",
       "prompt_number": 18,
       "text": [
        "         date     type  value\n",
        "0  2014-02-16  Model-A      1\n",
        "1  2014-02-16  Model-B      3\n",
        "3  2014-02-17  Model-A      8\n",
        "4  2014-02-17  Model-B      5\n",
        "5  2014-02-17  Model-C      8\n",
        "\n",
        "[5 rows x 3 columns]"
       ]
      }
     ],
     "prompt_number": 18
    },
    {
     "cell_type": "code",
     "collapsed": false,
     "input": [
      "df.drop(2, inplace=True)"
     ],
     "language": "python",
     "metadata": {},
     "outputs": [],
     "prompt_number": 19
    },
    {
     "cell_type": "code",
     "collapsed": false,
     "input": [
      "df.drop('type', axis=1).head()"
     ],
     "language": "python",
     "metadata": {},
     "outputs": [
      {
       "html": [
        "<div style=\"max-height:1000px;max-width:1500px;overflow:auto;\">\n",
        "<table border=\"1\" class=\"dataframe\">\n",
        "  <thead>\n",
        "    <tr style=\"text-align: right;\">\n",
        "      <th></th>\n",
        "      <th>date</th>\n",
        "      <th>value</th>\n",
        "    </tr>\n",
        "  </thead>\n",
        "  <tbody>\n",
        "    <tr>\n",
        "      <th>0</th>\n",
        "      <td> 2014-02-16</td>\n",
        "      <td> 1</td>\n",
        "    </tr>\n",
        "    <tr>\n",
        "      <th>1</th>\n",
        "      <td> 2014-02-16</td>\n",
        "      <td> 3</td>\n",
        "    </tr>\n",
        "    <tr>\n",
        "      <th>3</th>\n",
        "      <td> 2014-02-17</td>\n",
        "      <td> 8</td>\n",
        "    </tr>\n",
        "    <tr>\n",
        "      <th>4</th>\n",
        "      <td> 2014-02-17</td>\n",
        "      <td> 5</td>\n",
        "    </tr>\n",
        "    <tr>\n",
        "      <th>5</th>\n",
        "      <td> 2014-02-17</td>\n",
        "      <td> 8</td>\n",
        "    </tr>\n",
        "  </tbody>\n",
        "</table>\n",
        "<p>5 rows \u00d7 2 columns</p>\n",
        "</div>"
       ],
       "metadata": {},
       "output_type": "pyout",
       "prompt_number": 20,
       "text": [
        "         date  value\n",
        "0  2014-02-16      1\n",
        "1  2014-02-16      3\n",
        "3  2014-02-17      8\n",
        "4  2014-02-17      5\n",
        "5  2014-02-17      8\n",
        "\n",
        "[5 rows x 2 columns]"
       ]
      }
     ],
     "prompt_number": 20
    },
    {
     "cell_type": "markdown",
     "metadata": {},
     "source": [
      "### Let's `reshape` again..."
     ]
    },
    {
     "cell_type": "code",
     "collapsed": false,
     "input": [
      "results = df.pivot('date','type', 'value')\n",
      "print results"
     ],
     "language": "python",
     "metadata": {},
     "outputs": [
      {
       "output_type": "stream",
       "stream": "stdout",
       "text": [
        "type        Model-A  Model-B  Model-C  Model-D\n",
        "date                                          \n",
        "2014-02-16        1        3      NaN       11\n",
        "2014-02-17        8        5        8      NaN\n",
        "2014-02-18        8        8        0        7\n",
        "2014-02-19        5        1        6      NaN\n",
        "\n",
        "[4 rows x 4 columns]\n"
       ]
      }
     ],
     "prompt_number": 21
    },
    {
     "cell_type": "code",
     "collapsed": false,
     "input": [
      "results.mean(axis=1)"
     ],
     "language": "python",
     "metadata": {},
     "outputs": [
      {
       "metadata": {},
       "output_type": "pyout",
       "prompt_number": 22,
       "text": [
        "date\n",
        "2014-02-16    5.00\n",
        "2014-02-17    7.00\n",
        "2014-02-18    5.75\n",
        "2014-02-19    4.00\n",
        "dtype: float64"
       ]
      }
     ],
     "prompt_number": 22
    },
    {
     "cell_type": "code",
     "collapsed": false,
     "input": [
      "results.count(axis=0)"
     ],
     "language": "python",
     "metadata": {},
     "outputs": [
      {
       "metadata": {},
       "output_type": "pyout",
       "prompt_number": 23,
       "text": [
        "type\n",
        "Model-A    4\n",
        "Model-B    4\n",
        "Model-C    3\n",
        "Model-D    2\n",
        "dtype: int64"
       ]
      }
     ],
     "prompt_number": 23
    },
    {
     "cell_type": "code",
     "collapsed": false,
     "input": [
      "results.count(axis=1)"
     ],
     "language": "python",
     "metadata": {},
     "outputs": [
      {
       "metadata": {},
       "output_type": "pyout",
       "prompt_number": 24,
       "text": [
        "date\n",
        "2014-02-16    3\n",
        "2014-02-17    3\n",
        "2014-02-18    4\n",
        "2014-02-19    3\n",
        "dtype: int64"
       ]
      }
     ],
     "prompt_number": 24
    },
    {
     "cell_type": "markdown",
     "metadata": {},
     "source": [
      "###Missing vales: `isnull()` and `fillna()`"
     ]
    },
    {
     "cell_type": "code",
     "collapsed": false,
     "input": [
      "print results.isnull()"
     ],
     "language": "python",
     "metadata": {},
     "outputs": [
      {
       "output_type": "stream",
       "stream": "stdout",
       "text": [
        "type       Model-A Model-B Model-C Model-D\n",
        "date                                      \n",
        "2014-02-16   False   False    True   False\n",
        "2014-02-17   False   False   False    True\n",
        "2014-02-18   False   False   False   False\n",
        "2014-02-19   False   False   False    True\n",
        "\n",
        "[4 rows x 4 columns]\n"
       ]
      }
     ],
     "prompt_number": 27
    },
    {
     "cell_type": "code",
     "collapsed": false,
     "input": [
      "print results.fillna(0)"
     ],
     "language": "python",
     "metadata": {},
     "outputs": [
      {
       "output_type": "stream",
       "stream": "stdout",
       "text": [
        "type        Model-A  Model-B  Model-C  Model-D\n",
        "date                                          \n",
        "2014-02-16        1        3        0       11\n",
        "2014-02-17        8        5        8        0\n",
        "2014-02-18        8        8        0        7\n",
        "2014-02-19        5        1        6        0\n",
        "\n",
        "[4 rows x 4 columns]\n"
       ]
      }
     ],
     "prompt_number": 28
    },
    {
     "cell_type": "code",
     "collapsed": false,
     "input": [
      "print results"
     ],
     "language": "python",
     "metadata": {},
     "outputs": [
      {
       "output_type": "stream",
       "stream": "stdout",
       "text": [
        "type        Model-A  Model-B  Model-C  Model-D\n",
        "date                                          \n",
        "2014-02-16        1        3      NaN       11\n",
        "2014-02-17        8        5        8      NaN\n",
        "2014-02-18        8        8        0        7\n",
        "2014-02-19        5        1        6      NaN\n",
        "\n",
        "[4 rows x 4 columns]\n"
       ]
      }
     ],
     "prompt_number": 29
    },
    {
     "cell_type": "code",
     "collapsed": false,
     "input": [
      "tmp = results.copy()"
     ],
     "language": "python",
     "metadata": {},
     "outputs": [],
     "prompt_number": 30
    },
    {
     "cell_type": "code",
     "collapsed": false,
     "input": [
      "tmp.fillna(0, inplace=True)\n",
      "print tmp"
     ],
     "language": "python",
     "metadata": {},
     "outputs": [
      {
       "output_type": "stream",
       "stream": "stdout",
       "text": [
        "type        Model-A  Model-B  Model-C  Model-D\n",
        "date                                          \n",
        "2014-02-16        1        3        0       11\n",
        "2014-02-17        8        5        8        0\n",
        "2014-02-18        8        8        0        7\n",
        "2014-02-19        5        1        6        0\n",
        "\n",
        "[4 rows x 4 columns]\n"
       ]
      }
     ],
     "prompt_number": 31
    },
    {
     "cell_type": "markdown",
     "metadata": {},
     "source": [
      "### `reset_index`"
     ]
    },
    {
     "cell_type": "code",
     "collapsed": false,
     "input": [
      "tmp.reset_index(inplace=True)\n",
      "tmp.columns"
     ],
     "language": "python",
     "metadata": {},
     "outputs": [
      {
       "metadata": {},
       "output_type": "pyout",
       "prompt_number": 32,
       "text": [
        "Index([u'date', u'Model-A', u'Model-B', u'Model-C', u'Model-D'], dtype='object')"
       ]
      }
     ],
     "prompt_number": 32
    },
    {
     "cell_type": "code",
     "collapsed": false,
     "input": [
      "print tmp"
     ],
     "language": "python",
     "metadata": {},
     "outputs": [
      {
       "output_type": "stream",
       "stream": "stdout",
       "text": [
        "type        date  Model-A  Model-B  Model-C  Model-D\n",
        "0     2014-02-16        1        3        0       11\n",
        "1     2014-02-17        8        5        8        0\n",
        "2     2014-02-18        8        8        0        7\n",
        "3     2014-02-19        5        1        6        0\n",
        "\n",
        "[4 rows x 5 columns]\n"
       ]
      }
     ],
     "prompt_number": 33
    },
    {
     "cell_type": "markdown",
     "metadata": {},
     "source": [
      "### Convert to a `numpy` array"
     ]
    },
    {
     "cell_type": "code",
     "collapsed": false,
     "input": [
      "print tmp.set_index('date')"
     ],
     "language": "python",
     "metadata": {},
     "outputs": [
      {
       "output_type": "stream",
       "stream": "stdout",
       "text": [
        "            Model-A  Model-B  Model-C  Model-D\n",
        "date                                          \n",
        "2014-02-16        1        3        0       11\n",
        "2014-02-17        8        5        8        0\n",
        "2014-02-18        8        8        0        7\n",
        "2014-02-19        5        1        6        0\n",
        "\n",
        "[4 rows x 4 columns]\n"
       ]
      }
     ],
     "prompt_number": 34
    },
    {
     "cell_type": "code",
     "collapsed": false,
     "input": [
      "X = tmp.set_index('date').as_matrix()\n",
      "X"
     ],
     "language": "python",
     "metadata": {},
     "outputs": [
      {
       "metadata": {},
       "output_type": "pyout",
       "prompt_number": 35,
       "text": [
        "array([[  1.,   3.,   0.,  11.],\n",
        "       [  8.,   5.,   8.,   0.],\n",
        "       [  8.,   8.,   0.,   7.],\n",
        "       [  5.,   1.,   6.,   0.]])"
       ]
      }
     ],
     "prompt_number": 35
    },
    {
     "cell_type": "markdown",
     "metadata": {},
     "source": [
      "### Reshape with `melt`"
     ]
    },
    {
     "cell_type": "code",
     "collapsed": false,
     "input": [
      "results = df.pivot('date','type', 'value')\n",
      "print results"
     ],
     "language": "python",
     "metadata": {},
     "outputs": [
      {
       "output_type": "stream",
       "stream": "stdout",
       "text": [
        "type        Model-A  Model-B  Model-C  Model-D\n",
        "date                                          \n",
        "2014-02-16        1        3      NaN       11\n",
        "2014-02-17        8        5        8      NaN\n",
        "2014-02-18        8        8        0        7\n",
        "2014-02-19        5        1        6      NaN\n",
        "\n",
        "[4 rows x 4 columns]\n"
       ]
      }
     ],
     "prompt_number": 36
    },
    {
     "cell_type": "code",
     "collapsed": false,
     "input": [
      "results.reset_index(inplace=True)\n",
      "print results"
     ],
     "language": "python",
     "metadata": {},
     "outputs": [
      {
       "output_type": "stream",
       "stream": "stdout",
       "text": [
        "type        date  Model-A  Model-B  Model-C  Model-D\n",
        "0     2014-02-16        1        3      NaN       11\n",
        "1     2014-02-17        8        5        8      NaN\n",
        "2     2014-02-18        8        8        0        7\n",
        "3     2014-02-19        5        1        6      NaN\n",
        "\n",
        "[4 rows x 5 columns]\n"
       ]
      }
     ],
     "prompt_number": 37
    },
    {
     "cell_type": "code",
     "collapsed": false,
     "input": [
      "back = pd.melt(results, id_vars=['date'])\n",
      "print back"
     ],
     "language": "python",
     "metadata": {},
     "outputs": [
      {
       "output_type": "stream",
       "stream": "stdout",
       "text": [
        "          date     type  value\n",
        "0   2014-02-16  Model-A      1\n",
        "1   2014-02-17  Model-A      8\n",
        "2   2014-02-18  Model-A      8\n",
        "3   2014-02-19  Model-A      5\n",
        "4   2014-02-16  Model-B      3\n",
        "5   2014-02-17  Model-B      5\n",
        "6   2014-02-18  Model-B      8\n",
        "7   2014-02-19  Model-B      1\n",
        "8   2014-02-16  Model-C    NaN\n",
        "9   2014-02-17  Model-C      8\n",
        "10  2014-02-18  Model-C      0\n",
        "11  2014-02-19  Model-C      6\n",
        "12  2014-02-16  Model-D     11\n",
        "13  2014-02-17  Model-D    NaN\n",
        "14  2014-02-18  Model-D      7\n",
        "15  2014-02-19  Model-D    NaN\n",
        "\n",
        "[16 rows x 3 columns]\n"
       ]
      }
     ],
     "prompt_number": 38
    },
    {
     "cell_type": "markdown",
     "metadata": {},
     "source": [
      "### `dropna()`"
     ]
    },
    {
     "cell_type": "code",
     "collapsed": false,
     "input": [
      "back.dropna(axis=0)"
     ],
     "language": "python",
     "metadata": {},
     "outputs": [
      {
       "html": [
        "<div style=\"max-height:1000px;max-width:1500px;overflow:auto;\">\n",
        "<table border=\"1\" class=\"dataframe\">\n",
        "  <thead>\n",
        "    <tr style=\"text-align: right;\">\n",
        "      <th></th>\n",
        "      <th>date</th>\n",
        "      <th>type</th>\n",
        "      <th>value</th>\n",
        "    </tr>\n",
        "  </thead>\n",
        "  <tbody>\n",
        "    <tr>\n",
        "      <th>0 </th>\n",
        "      <td> 2014-02-16</td>\n",
        "      <td> Model-A</td>\n",
        "      <td>  1</td>\n",
        "    </tr>\n",
        "    <tr>\n",
        "      <th>1 </th>\n",
        "      <td> 2014-02-17</td>\n",
        "      <td> Model-A</td>\n",
        "      <td>  8</td>\n",
        "    </tr>\n",
        "    <tr>\n",
        "      <th>2 </th>\n",
        "      <td> 2014-02-18</td>\n",
        "      <td> Model-A</td>\n",
        "      <td>  8</td>\n",
        "    </tr>\n",
        "    <tr>\n",
        "      <th>3 </th>\n",
        "      <td> 2014-02-19</td>\n",
        "      <td> Model-A</td>\n",
        "      <td>  5</td>\n",
        "    </tr>\n",
        "    <tr>\n",
        "      <th>4 </th>\n",
        "      <td> 2014-02-16</td>\n",
        "      <td> Model-B</td>\n",
        "      <td>  3</td>\n",
        "    </tr>\n",
        "    <tr>\n",
        "      <th>5 </th>\n",
        "      <td> 2014-02-17</td>\n",
        "      <td> Model-B</td>\n",
        "      <td>  5</td>\n",
        "    </tr>\n",
        "    <tr>\n",
        "      <th>6 </th>\n",
        "      <td> 2014-02-18</td>\n",
        "      <td> Model-B</td>\n",
        "      <td>  8</td>\n",
        "    </tr>\n",
        "    <tr>\n",
        "      <th>7 </th>\n",
        "      <td> 2014-02-19</td>\n",
        "      <td> Model-B</td>\n",
        "      <td>  1</td>\n",
        "    </tr>\n",
        "    <tr>\n",
        "      <th>9 </th>\n",
        "      <td> 2014-02-17</td>\n",
        "      <td> Model-C</td>\n",
        "      <td>  8</td>\n",
        "    </tr>\n",
        "    <tr>\n",
        "      <th>10</th>\n",
        "      <td> 2014-02-18</td>\n",
        "      <td> Model-C</td>\n",
        "      <td>  0</td>\n",
        "    </tr>\n",
        "    <tr>\n",
        "      <th>11</th>\n",
        "      <td> 2014-02-19</td>\n",
        "      <td> Model-C</td>\n",
        "      <td>  6</td>\n",
        "    </tr>\n",
        "    <tr>\n",
        "      <th>12</th>\n",
        "      <td> 2014-02-16</td>\n",
        "      <td> Model-D</td>\n",
        "      <td> 11</td>\n",
        "    </tr>\n",
        "    <tr>\n",
        "      <th>14</th>\n",
        "      <td> 2014-02-18</td>\n",
        "      <td> Model-D</td>\n",
        "      <td>  7</td>\n",
        "    </tr>\n",
        "  </tbody>\n",
        "</table>\n",
        "<p>13 rows \u00d7 3 columns</p>\n",
        "</div>"
       ],
       "metadata": {},
       "output_type": "pyout",
       "prompt_number": 40,
       "text": [
        "          date     type  value\n",
        "0   2014-02-16  Model-A      1\n",
        "1   2014-02-17  Model-A      8\n",
        "2   2014-02-18  Model-A      8\n",
        "3   2014-02-19  Model-A      5\n",
        "4   2014-02-16  Model-B      3\n",
        "5   2014-02-17  Model-B      5\n",
        "6   2014-02-18  Model-B      8\n",
        "7   2014-02-19  Model-B      1\n",
        "9   2014-02-17  Model-C      8\n",
        "10  2014-02-18  Model-C      0\n",
        "11  2014-02-19  Model-C      6\n",
        "12  2014-02-16  Model-D     11\n",
        "14  2014-02-18  Model-D      7\n",
        "\n",
        "[13 rows x 3 columns]"
       ]
      }
     ],
     "prompt_number": 40
    },
    {
     "cell_type": "code",
     "collapsed": false,
     "input": [
      "back.dropna(axis=1).head()"
     ],
     "language": "python",
     "metadata": {},
     "outputs": [
      {
       "html": [
        "<div style=\"max-height:1000px;max-width:1500px;overflow:auto;\">\n",
        "<table border=\"1\" class=\"dataframe\">\n",
        "  <thead>\n",
        "    <tr style=\"text-align: right;\">\n",
        "      <th></th>\n",
        "      <th>date</th>\n",
        "      <th>type</th>\n",
        "    </tr>\n",
        "  </thead>\n",
        "  <tbody>\n",
        "    <tr>\n",
        "      <th>0</th>\n",
        "      <td> 2014-02-16</td>\n",
        "      <td> Model-A</td>\n",
        "    </tr>\n",
        "    <tr>\n",
        "      <th>1</th>\n",
        "      <td> 2014-02-17</td>\n",
        "      <td> Model-A</td>\n",
        "    </tr>\n",
        "    <tr>\n",
        "      <th>2</th>\n",
        "      <td> 2014-02-18</td>\n",
        "      <td> Model-A</td>\n",
        "    </tr>\n",
        "    <tr>\n",
        "      <th>3</th>\n",
        "      <td> 2014-02-19</td>\n",
        "      <td> Model-A</td>\n",
        "    </tr>\n",
        "    <tr>\n",
        "      <th>4</th>\n",
        "      <td> 2014-02-16</td>\n",
        "      <td> Model-B</td>\n",
        "    </tr>\n",
        "  </tbody>\n",
        "</table>\n",
        "<p>5 rows \u00d7 2 columns</p>\n",
        "</div>"
       ],
       "metadata": {},
       "output_type": "pyout",
       "prompt_number": 41,
       "text": [
        "         date     type\n",
        "0  2014-02-16  Model-A\n",
        "1  2014-02-17  Model-A\n",
        "2  2014-02-18  Model-A\n",
        "3  2014-02-19  Model-A\n",
        "4  2014-02-16  Model-B\n",
        "\n",
        "[5 rows x 2 columns]"
       ]
      }
     ],
     "prompt_number": 41
    },
    {
     "cell_type": "markdown",
     "metadata": {},
     "source": [
      "### Write to file `to_csv`"
     ]
    },
    {
     "cell_type": "code",
     "collapsed": false,
     "input": [
      "back.dropna(axis=0, inplace=True)"
     ],
     "language": "python",
     "metadata": {},
     "outputs": [],
     "prompt_number": 42
    },
    {
     "cell_type": "code",
     "collapsed": false,
     "input": [
      "back.to_csv('back.csv', index=False)"
     ],
     "language": "python",
     "metadata": {},
     "outputs": [],
     "prompt_number": 43
    },
    {
     "cell_type": "code",
     "collapsed": false,
     "input": [
      "print open('back.csv').read()"
     ],
     "language": "python",
     "metadata": {},
     "outputs": [
      {
       "output_type": "stream",
       "stream": "stdout",
       "text": [
        "date,type,value\n",
        "2014-02-16,Model-A,1.0\n",
        "2014-02-17,Model-A,8.0\n",
        "2014-02-18,Model-A,8.0\n",
        "2014-02-19,Model-A,5.0\n",
        "2014-02-16,Model-B,3.0\n",
        "2014-02-17,Model-B,5.0\n",
        "2014-02-18,Model-B,8.0\n",
        "2014-02-19,Model-B,1.0\n",
        "2014-02-17,Model-C,8.0\n",
        "2014-02-18,Model-C,0.0\n",
        "2014-02-19,Model-C,6.0\n",
        "2014-02-16,Model-D,11.0\n",
        "2014-02-18,Model-D,7.0\n",
        "\n"
       ]
      }
     ],
     "prompt_number": 44
    },
    {
     "cell_type": "code",
     "collapsed": false,
     "input": [],
     "language": "python",
     "metadata": {},
     "outputs": []
    }
   ],
   "metadata": {}
  }
 ]
}