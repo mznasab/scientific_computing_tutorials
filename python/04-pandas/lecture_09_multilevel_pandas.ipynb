{
 "metadata": {
  "name": ""
 },
 "nbformat": 3,
 "nbformat_minor": 0,
 "worksheets": [
  {
   "cells": [
    {
     "cell_type": "markdown",
     "metadata": {},
     "source": [
      "###Hierarchical Indexing\n",
      "\n",
      "Based on [Data Wrangling Kung Fu with Pandas](vimeo.com/63295598) by Wes McKinney"
     ]
    },
    {
     "cell_type": "code",
     "collapsed": false,
     "input": [
      "import os\n",
      "import pandas as  pd\n",
      "import numpy as np"
     ],
     "language": "python",
     "metadata": {},
     "outputs": [],
     "prompt_number": 1
    },
    {
     "cell_type": "code",
     "collapsed": false,
     "input": [
      "filename = os.path.join('data','example.csv')\n",
      "df = pd.read_csv(filename)\n",
      "print df"
     ],
     "language": "python",
     "metadata": {},
     "outputs": [
      {
       "output_type": "stream",
       "stream": "stdout",
       "text": [
        "          date     type  value\n",
        "0   2014-02-16  Model-A      1\n",
        "1   2014-02-16  Model-B      3\n",
        "2   2014-02-16  Model-C      4\n",
        "3   2014-02-17  Model-A      8\n",
        "4   2014-02-17  Model-B      5\n",
        "5   2014-02-17  Model-C      8\n",
        "6   2014-02-18  Model-A      8\n",
        "7   2014-02-18  Model-B      8\n",
        "8   2014-02-18  Model-C      0\n",
        "9   2014-02-19  Model-A      5\n",
        "10  2014-02-19  Model-B      1\n",
        "11  2014-02-19  Model-C      6\n",
        "\n",
        "[12 rows x 3 columns]\n"
       ]
      }
     ],
     "prompt_number": 2
    },
    {
     "cell_type": "markdown",
     "metadata": {},
     "source": [
      "### Add another column of data"
     ]
    },
    {
     "cell_type": "code",
     "collapsed": false,
     "input": [
      "df.shape"
     ],
     "language": "python",
     "metadata": {},
     "outputs": [
      {
       "metadata": {},
       "output_type": "pyout",
       "prompt_number": 3,
       "text": [
        "(12, 3)"
       ]
      }
     ],
     "prompt_number": 3
    },
    {
     "cell_type": "code",
     "collapsed": false,
     "input": [
      "df['score'] = np.random.rand(len(df))\n",
      "df.shape"
     ],
     "language": "python",
     "metadata": {},
     "outputs": [
      {
       "metadata": {},
       "output_type": "pyout",
       "prompt_number": 4,
       "text": [
        "(12, 4)"
       ]
      }
     ],
     "prompt_number": 4
    },
    {
     "cell_type": "code",
     "collapsed": false,
     "input": [
      "print df.head()"
     ],
     "language": "python",
     "metadata": {},
     "outputs": [
      {
       "output_type": "stream",
       "stream": "stdout",
       "text": [
        "         date     type  value     score\n",
        "0  2014-02-16  Model-A      1  0.202855\n",
        "1  2014-02-16  Model-B      3  0.287901\n",
        "2  2014-02-16  Model-C      4  0.539970\n",
        "3  2014-02-17  Model-A      8  0.142716\n",
        "4  2014-02-17  Model-B      5  0.252482\n",
        "\n",
        "[5 rows x 4 columns]\n"
       ]
      }
     ],
     "prompt_number": 5
    },
    {
     "cell_type": "markdown",
     "metadata": {},
     "source": [
      "### Hierarchical columns"
     ]
    },
    {
     "cell_type": "code",
     "collapsed": false,
     "input": [
      "results = df.pivot('date', 'type') #row, column, values (optional)\n",
      "print results"
     ],
     "language": "python",
     "metadata": {},
     "outputs": [
      {
       "output_type": "stream",
       "stream": "stdout",
       "text": [
        "              value                       score                    \n",
        "type        Model-A  Model-B  Model-C   Model-A   Model-B   Model-C\n",
        "date                                                               \n",
        "2014-02-16        1        3        4  0.202855  0.287901  0.539970\n",
        "2014-02-17        8        5        8  0.142716  0.252482  0.801581\n",
        "2014-02-18        8        8        0  0.510448  0.752879  0.038923\n",
        "2014-02-19        5        1        6  0.742021  0.561749  0.210681\n",
        "\n",
        "[4 rows x 6 columns]\n"
       ]
      }
     ],
     "prompt_number": 6
    },
    {
     "cell_type": "markdown",
     "metadata": {},
     "source": [
      "I have a hierarchical index on the columns:"
     ]
    },
    {
     "cell_type": "code",
     "collapsed": false,
     "input": [
      "results.columns"
     ],
     "language": "python",
     "metadata": {},
     "outputs": [
      {
       "metadata": {},
       "output_type": "pyout",
       "prompt_number": 8,
       "text": [
        "MultiIndex(levels=[[u'value', u'score'], [u'Model-A', u'Model-B', u'Model-C']],\n",
        "           labels=[[0, 0, 0, 1, 1, 1], [0, 1, 2, 0, 1, 2]],\n",
        "           names=[None, u'type'])"
       ]
      }
     ],
     "prompt_number": 8
    },
    {
     "cell_type": "code",
     "collapsed": false,
     "input": [
      "results.count(axis=1)"
     ],
     "language": "python",
     "metadata": {},
     "outputs": [
      {
       "metadata": {},
       "output_type": "pyout",
       "prompt_number": 9,
       "text": [
        "date\n",
        "2014-02-16    6\n",
        "2014-02-17    6\n",
        "2014-02-18    6\n",
        "2014-02-19    6\n",
        "dtype: int64"
       ]
      }
     ],
     "prompt_number": 9
    },
    {
     "cell_type": "code",
     "collapsed": false,
     "input": [
      "results['value'].count(axis=1)"
     ],
     "language": "python",
     "metadata": {},
     "outputs": [
      {
       "metadata": {},
       "output_type": "pyout",
       "prompt_number": 10,
       "text": [
        "date\n",
        "2014-02-16    3\n",
        "2014-02-17    3\n",
        "2014-02-18    3\n",
        "2014-02-19    3\n",
        "dtype: int64"
       ]
      }
     ],
     "prompt_number": 10
    },
    {
     "cell_type": "markdown",
     "metadata": {},
     "source": [
      "I can access each component of the index."
     ]
    },
    {
     "cell_type": "code",
     "collapsed": false,
     "input": [
      "print results['score']['Model-A']"
     ],
     "language": "python",
     "metadata": {},
     "outputs": [
      {
       "output_type": "stream",
       "stream": "stdout",
       "text": [
        "date\n",
        "2014-02-16    0.202855\n",
        "2014-02-17    0.142716\n",
        "2014-02-18    0.510448\n",
        "2014-02-19    0.742021\n",
        "Name: Model-A, dtype: float64\n"
       ]
      }
     ],
     "prompt_number": 12
    },
    {
     "cell_type": "markdown",
     "metadata": {},
     "source": [
      "Swap the order of the index."
     ]
    },
    {
     "cell_type": "code",
     "collapsed": false,
     "input": [
      "tmp = results.swaplevel(0,1, axis=1)\n",
      "print tmp"
     ],
     "language": "python",
     "metadata": {},
     "outputs": [
      {
       "output_type": "stream",
       "stream": "stdout",
       "text": [
        "type        Model-A  Model-B  Model-C   Model-A   Model-B   Model-C\n",
        "              value    value    value     score     score     score\n",
        "date                                                               \n",
        "2014-02-16        1        3        4  0.202855  0.287901  0.539970\n",
        "2014-02-17        8        5        8  0.142716  0.252482  0.801581\n",
        "2014-02-18        8        8        0  0.510448  0.752879  0.038923\n",
        "2014-02-19        5        1        6  0.742021  0.561749  0.210681\n",
        "\n",
        "[4 rows x 6 columns]\n"
       ]
      }
     ],
     "prompt_number": 13
    },
    {
     "cell_type": "code",
     "collapsed": false,
     "input": [
      "print tmp['Model-A']"
     ],
     "language": "python",
     "metadata": {},
     "outputs": [
      {
       "output_type": "stream",
       "stream": "stdout",
       "text": [
        "            value     score\n",
        "date                       \n",
        "2014-02-16      1  0.202855\n",
        "2014-02-17      8  0.142716\n",
        "2014-02-18      8  0.510448\n",
        "2014-02-19      5  0.742021\n",
        "\n",
        "[4 rows x 2 columns]\n"
       ]
      }
     ],
     "prompt_number": 14
    },
    {
     "cell_type": "markdown",
     "metadata": {},
     "source": [
      "### `stack` and `unstack`\n",
      "\n"
     ]
    },
    {
     "cell_type": "code",
     "collapsed": false,
     "input": [
      "print results"
     ],
     "language": "python",
     "metadata": {},
     "outputs": [
      {
       "output_type": "stream",
       "stream": "stdout",
       "text": [
        "              value                       score                    \n",
        "type        Model-A  Model-B  Model-C   Model-A   Model-B   Model-C\n",
        "date                                                               \n",
        "2014-02-16        1        3        4  0.202855  0.287901  0.539970\n",
        "2014-02-17        8        5        8  0.142716  0.252482  0.801581\n",
        "2014-02-18        8        8        0  0.510448  0.752879  0.038923\n",
        "2014-02-19        5        1        6  0.742021  0.561749  0.210681\n",
        "\n",
        "[4 rows x 6 columns]\n"
       ]
      }
     ],
     "prompt_number": 15
    },
    {
     "cell_type": "code",
     "collapsed": false,
     "input": [
      "print results.stack() #Defaults to highest level, eg. 1 in this case"
     ],
     "language": "python",
     "metadata": {},
     "outputs": [
      {
       "output_type": "stream",
       "stream": "stdout",
       "text": [
        "                    value     score\n",
        "date       type                    \n",
        "2014-02-16 Model-A      1  0.202855\n",
        "           Model-B      3  0.287901\n",
        "           Model-C      4  0.539970\n",
        "2014-02-17 Model-A      8  0.142716\n",
        "           Model-B      5  0.252482\n",
        "           Model-C      8  0.801581\n",
        "2014-02-18 Model-A      8  0.510448\n",
        "           Model-B      8  0.752879\n",
        "           Model-C      0  0.038923\n",
        "2014-02-19 Model-A      5  0.742021\n",
        "           Model-B      1  0.561749\n",
        "           Model-C      6  0.210681\n",
        "\n",
        "[12 rows x 2 columns]\n"
       ]
      }
     ],
     "prompt_number": 16
    },
    {
     "cell_type": "markdown",
     "metadata": {},
     "source": [
      "Now we have a hierarchical index on the rows."
     ]
    },
    {
     "cell_type": "code",
     "collapsed": false,
     "input": [
      "print results.stack().index"
     ],
     "language": "python",
     "metadata": {},
     "outputs": [
      {
       "output_type": "stream",
       "stream": "stdout",
       "text": [
        "date        type   \n",
        "2014-02-16  Model-A\n",
        "            Model-B\n",
        "            Model-C\n",
        "2014-02-17  Model-A\n",
        "            Model-B\n",
        "            Model-C\n",
        "2014-02-18  Model-A\n",
        "            Model-B\n",
        "            Model-C\n",
        "2014-02-19  Model-A\n",
        "            Model-B\n",
        "            Model-C\n"
       ]
      }
     ],
     "prompt_number": 17
    },
    {
     "cell_type": "code",
     "collapsed": false,
     "input": [
      "print results.stack(0)"
     ],
     "language": "python",
     "metadata": {},
     "outputs": [
      {
       "output_type": "stream",
       "stream": "stdout",
       "text": [
        "type               Model-A   Model-B   Model-C\n",
        "date                                          \n",
        "2014-02-16 value  1.000000  3.000000  4.000000\n",
        "           score  0.202855  0.287901  0.539970\n",
        "2014-02-17 value  8.000000  5.000000  8.000000\n",
        "           score  0.142716  0.252482  0.801581\n",
        "2014-02-18 value  8.000000  8.000000  0.000000\n",
        "           score  0.510448  0.752879  0.038923\n",
        "2014-02-19 value  5.000000  1.000000  6.000000\n",
        "           score  0.742021  0.561749  0.210681\n",
        "\n",
        "[8 rows x 3 columns]\n"
       ]
      }
     ],
     "prompt_number": 18
    },
    {
     "cell_type": "code",
     "collapsed": false,
     "input": [
      "print results.stack(0).unstack()"
     ],
     "language": "python",
     "metadata": {},
     "outputs": [
      {
       "output_type": "stream",
       "stream": "stdout",
       "text": [
        "type        Model-A            Model-B            Model-C          \n",
        "              value     score    value     score    value     score\n",
        "date                                                               \n",
        "2014-02-16        1  0.202855        3  0.287901        4  0.539970\n",
        "2014-02-17        8  0.142716        5  0.252482        8  0.801581\n",
        "2014-02-18        8  0.510448        8  0.752879        0  0.038923\n",
        "2014-02-19        5  0.742021        1  0.561749        6  0.210681\n",
        "\n",
        "[4 rows x 6 columns]\n"
       ]
      }
     ],
     "prompt_number": 19
    },
    {
     "cell_type": "markdown",
     "metadata": {},
     "source": [
      "###Hierarchical Rows"
     ]
    },
    {
     "cell_type": "code",
     "collapsed": false,
     "input": [
      "df.head()"
     ],
     "language": "python",
     "metadata": {},
     "outputs": [
      {
       "html": [
        "<div style=\"max-height:1000px;max-width:1500px;overflow:auto;\">\n",
        "<table border=\"1\" class=\"dataframe\">\n",
        "  <thead>\n",
        "    <tr style=\"text-align: right;\">\n",
        "      <th></th>\n",
        "      <th>date</th>\n",
        "      <th>type</th>\n",
        "      <th>value</th>\n",
        "      <th>score</th>\n",
        "    </tr>\n",
        "  </thead>\n",
        "  <tbody>\n",
        "    <tr>\n",
        "      <th>0</th>\n",
        "      <td> 2014-02-16</td>\n",
        "      <td> Model-A</td>\n",
        "      <td> 1</td>\n",
        "      <td> 0.202855</td>\n",
        "    </tr>\n",
        "    <tr>\n",
        "      <th>1</th>\n",
        "      <td> 2014-02-16</td>\n",
        "      <td> Model-B</td>\n",
        "      <td> 3</td>\n",
        "      <td> 0.287901</td>\n",
        "    </tr>\n",
        "    <tr>\n",
        "      <th>2</th>\n",
        "      <td> 2014-02-16</td>\n",
        "      <td> Model-C</td>\n",
        "      <td> 4</td>\n",
        "      <td> 0.539970</td>\n",
        "    </tr>\n",
        "    <tr>\n",
        "      <th>3</th>\n",
        "      <td> 2014-02-17</td>\n",
        "      <td> Model-A</td>\n",
        "      <td> 8</td>\n",
        "      <td> 0.142716</td>\n",
        "    </tr>\n",
        "    <tr>\n",
        "      <th>4</th>\n",
        "      <td> 2014-02-17</td>\n",
        "      <td> Model-B</td>\n",
        "      <td> 5</td>\n",
        "      <td> 0.252482</td>\n",
        "    </tr>\n",
        "  </tbody>\n",
        "</table>\n",
        "<p>5 rows \u00d7 4 columns</p>\n",
        "</div>"
       ],
       "metadata": {},
       "output_type": "pyout",
       "prompt_number": 20,
       "text": [
        "         date     type  value     score\n",
        "0  2014-02-16  Model-A      1  0.202855\n",
        "1  2014-02-16  Model-B      3  0.287901\n",
        "2  2014-02-16  Model-C      4  0.539970\n",
        "3  2014-02-17  Model-A      8  0.142716\n",
        "4  2014-02-17  Model-B      5  0.252482\n",
        "\n",
        "[5 rows x 4 columns]"
       ]
      }
     ],
     "prompt_number": 20
    },
    {
     "cell_type": "code",
     "collapsed": false,
     "input": [
      "df.set_index(['date','type'], inplace=True)\n",
      "df.head()"
     ],
     "language": "python",
     "metadata": {},
     "outputs": [
      {
       "html": [
        "<div style=\"max-height:1000px;max-width:1500px;overflow:auto;\">\n",
        "<table border=\"1\" class=\"dataframe\">\n",
        "  <thead>\n",
        "    <tr style=\"text-align: right;\">\n",
        "      <th></th>\n",
        "      <th></th>\n",
        "      <th>value</th>\n",
        "      <th>score</th>\n",
        "    </tr>\n",
        "    <tr>\n",
        "      <th>date</th>\n",
        "      <th>type</th>\n",
        "      <th></th>\n",
        "      <th></th>\n",
        "    </tr>\n",
        "  </thead>\n",
        "  <tbody>\n",
        "    <tr>\n",
        "      <th rowspan=\"3\" valign=\"top\">2014-02-16</th>\n",
        "      <th>Model-A</th>\n",
        "      <td> 1</td>\n",
        "      <td> 0.202855</td>\n",
        "    </tr>\n",
        "    <tr>\n",
        "      <th>Model-B</th>\n",
        "      <td> 3</td>\n",
        "      <td> 0.287901</td>\n",
        "    </tr>\n",
        "    <tr>\n",
        "      <th>Model-C</th>\n",
        "      <td> 4</td>\n",
        "      <td> 0.539970</td>\n",
        "    </tr>\n",
        "    <tr>\n",
        "      <th rowspan=\"2\" valign=\"top\">2014-02-17</th>\n",
        "      <th>Model-A</th>\n",
        "      <td> 8</td>\n",
        "      <td> 0.142716</td>\n",
        "    </tr>\n",
        "    <tr>\n",
        "      <th>Model-B</th>\n",
        "      <td> 5</td>\n",
        "      <td> 0.252482</td>\n",
        "    </tr>\n",
        "  </tbody>\n",
        "</table>\n",
        "<p>5 rows \u00d7 2 columns</p>\n",
        "</div>"
       ],
       "metadata": {},
       "output_type": "pyout",
       "prompt_number": 21,
       "text": [
        "                    value     score\n",
        "date       type                    \n",
        "2014-02-16 Model-A      1  0.202855\n",
        "           Model-B      3  0.287901\n",
        "           Model-C      4  0.539970\n",
        "2014-02-17 Model-A      8  0.142716\n",
        "           Model-B      5  0.252482\n",
        "\n",
        "[5 rows x 2 columns]"
       ]
      }
     ],
     "prompt_number": 21
    },
    {
     "cell_type": "markdown",
     "metadata": {},
     "source": [
      "Accessing index by name"
     ]
    },
    {
     "cell_type": "code",
     "collapsed": false,
     "input": [
      "df.ix['2014-02-16']"
     ],
     "language": "python",
     "metadata": {},
     "outputs": [
      {
       "html": [
        "<div style=\"max-height:1000px;max-width:1500px;overflow:auto;\">\n",
        "<table border=\"1\" class=\"dataframe\">\n",
        "  <thead>\n",
        "    <tr style=\"text-align: right;\">\n",
        "      <th></th>\n",
        "      <th>value</th>\n",
        "      <th>score</th>\n",
        "    </tr>\n",
        "    <tr>\n",
        "      <th>type</th>\n",
        "      <th></th>\n",
        "      <th></th>\n",
        "    </tr>\n",
        "  </thead>\n",
        "  <tbody>\n",
        "    <tr>\n",
        "      <th>Model-A</th>\n",
        "      <td> 1</td>\n",
        "      <td> 0.202855</td>\n",
        "    </tr>\n",
        "    <tr>\n",
        "      <th>Model-B</th>\n",
        "      <td> 3</td>\n",
        "      <td> 0.287901</td>\n",
        "    </tr>\n",
        "    <tr>\n",
        "      <th>Model-C</th>\n",
        "      <td> 4</td>\n",
        "      <td> 0.539970</td>\n",
        "    </tr>\n",
        "  </tbody>\n",
        "</table>\n",
        "<p>3 rows \u00d7 2 columns</p>\n",
        "</div>"
       ],
       "metadata": {},
       "output_type": "pyout",
       "prompt_number": 24,
       "text": [
        "         value     score\n",
        "type                    \n",
        "Model-A      1  0.202855\n",
        "Model-B      3  0.287901\n",
        "Model-C      4  0.539970\n",
        "\n",
        "[3 rows x 2 columns]"
       ]
      }
     ],
     "prompt_number": 24
    },
    {
     "cell_type": "code",
     "collapsed": false,
     "input": [
      "df.swaplevel(0,1, axis=0).ix['Model-A']"
     ],
     "language": "python",
     "metadata": {},
     "outputs": [
      {
       "html": [
        "<div style=\"max-height:1000px;max-width:1500px;overflow:auto;\">\n",
        "<table border=\"1\" class=\"dataframe\">\n",
        "  <thead>\n",
        "    <tr style=\"text-align: right;\">\n",
        "      <th></th>\n",
        "      <th>value</th>\n",
        "      <th>score</th>\n",
        "    </tr>\n",
        "    <tr>\n",
        "      <th>date</th>\n",
        "      <th></th>\n",
        "      <th></th>\n",
        "    </tr>\n",
        "  </thead>\n",
        "  <tbody>\n",
        "    <tr>\n",
        "      <th>2014-02-16</th>\n",
        "      <td> 1</td>\n",
        "      <td> 0.202855</td>\n",
        "    </tr>\n",
        "    <tr>\n",
        "      <th>2014-02-17</th>\n",
        "      <td> 8</td>\n",
        "      <td> 0.142716</td>\n",
        "    </tr>\n",
        "    <tr>\n",
        "      <th>2014-02-18</th>\n",
        "      <td> 8</td>\n",
        "      <td> 0.510448</td>\n",
        "    </tr>\n",
        "    <tr>\n",
        "      <th>2014-02-19</th>\n",
        "      <td> 5</td>\n",
        "      <td> 0.742021</td>\n",
        "    </tr>\n",
        "  </tbody>\n",
        "</table>\n",
        "<p>4 rows \u00d7 2 columns</p>\n",
        "</div>"
       ],
       "metadata": {},
       "output_type": "pyout",
       "prompt_number": 25,
       "text": [
        "            value     score\n",
        "date                       \n",
        "2014-02-16      1  0.202855\n",
        "2014-02-17      8  0.142716\n",
        "2014-02-18      8  0.510448\n",
        "2014-02-19      5  0.742021\n",
        "\n",
        "[4 rows x 2 columns]"
       ]
      }
     ],
     "prompt_number": 25
    },
    {
     "cell_type": "code",
     "collapsed": false,
     "input": [
      "df.unstack()"
     ],
     "language": "python",
     "metadata": {},
     "outputs": [
      {
       "html": [
        "<div style=\"max-height:1000px;max-width:1500px;overflow:auto;\">\n",
        "<table border=\"1\" class=\"dataframe\">\n",
        "  <thead>\n",
        "    <tr>\n",
        "      <th></th>\n",
        "      <th colspan=\"3\" halign=\"left\">value</th>\n",
        "      <th colspan=\"3\" halign=\"left\">score</th>\n",
        "    </tr>\n",
        "    <tr>\n",
        "      <th>type</th>\n",
        "      <th>Model-A</th>\n",
        "      <th>Model-B</th>\n",
        "      <th>Model-C</th>\n",
        "      <th>Model-A</th>\n",
        "      <th>Model-B</th>\n",
        "      <th>Model-C</th>\n",
        "    </tr>\n",
        "    <tr>\n",
        "      <th>date</th>\n",
        "      <th></th>\n",
        "      <th></th>\n",
        "      <th></th>\n",
        "      <th></th>\n",
        "      <th></th>\n",
        "      <th></th>\n",
        "    </tr>\n",
        "  </thead>\n",
        "  <tbody>\n",
        "    <tr>\n",
        "      <th>2014-02-16</th>\n",
        "      <td> 1</td>\n",
        "      <td> 3</td>\n",
        "      <td> 4</td>\n",
        "      <td> 0.202855</td>\n",
        "      <td> 0.287901</td>\n",
        "      <td> 0.539970</td>\n",
        "    </tr>\n",
        "    <tr>\n",
        "      <th>2014-02-17</th>\n",
        "      <td> 8</td>\n",
        "      <td> 5</td>\n",
        "      <td> 8</td>\n",
        "      <td> 0.142716</td>\n",
        "      <td> 0.252482</td>\n",
        "      <td> 0.801581</td>\n",
        "    </tr>\n",
        "    <tr>\n",
        "      <th>2014-02-18</th>\n",
        "      <td> 8</td>\n",
        "      <td> 8</td>\n",
        "      <td> 0</td>\n",
        "      <td> 0.510448</td>\n",
        "      <td> 0.752879</td>\n",
        "      <td> 0.038923</td>\n",
        "    </tr>\n",
        "    <tr>\n",
        "      <th>2014-02-19</th>\n",
        "      <td> 5</td>\n",
        "      <td> 1</td>\n",
        "      <td> 6</td>\n",
        "      <td> 0.742021</td>\n",
        "      <td> 0.561749</td>\n",
        "      <td> 0.210681</td>\n",
        "    </tr>\n",
        "  </tbody>\n",
        "</table>\n",
        "<p>4 rows \u00d7 6 columns</p>\n",
        "</div>"
       ],
       "metadata": {},
       "output_type": "pyout",
       "prompt_number": 26,
       "text": [
        "              value                       score                    \n",
        "type        Model-A  Model-B  Model-C   Model-A   Model-B   Model-C\n",
        "date                                                               \n",
        "2014-02-16        1        3        4  0.202855  0.287901  0.539970\n",
        "2014-02-17        8        5        8  0.142716  0.252482  0.801581\n",
        "2014-02-18        8        8        0  0.510448  0.752879  0.038923\n",
        "2014-02-19        5        1        6  0.742021  0.561749  0.210681\n",
        "\n",
        "[4 rows x 6 columns]"
       ]
      }
     ],
     "prompt_number": 26
    },
    {
     "cell_type": "code",
     "collapsed": false,
     "input": [],
     "language": "python",
     "metadata": {},
     "outputs": []
    }
   ],
   "metadata": {}
  }
 ]
}