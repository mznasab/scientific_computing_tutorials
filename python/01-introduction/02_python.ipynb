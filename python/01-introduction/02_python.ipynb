{
 "metadata": {
  "name": "",
  "signature": "sha256:2cf4cab576d6981c752e004d0e308b33085e867fbabc7524313647e40ddb261a"
 },
 "nbformat": 3,
 "nbformat_minor": 0,
 "worksheets": [
  {
   "cells": [
    {
     "cell_type": "markdown",
     "metadata": {},
     "source": [
      "<img src='https://s3.amazonaws.com/research_computing_tutorials/rcheader.png'>"
     ]
    },
    {
     "cell_type": "heading",
     "level": 1,
     "metadata": {},
     "source": [
      "Getting Started with Python"
     ]
    },
    {
     "cell_type": "heading",
     "level": 2,
     "metadata": {
      "slideshow": {
       "slide_type": "slide"
      }
     },
     "source": [
      "Scientific Hello World"
     ]
    },
    {
     "cell_type": "code",
     "collapsed": false,
     "input": [
      "from __future__ import print_function\n",
      "import math\n",
      "r = float(\"4.2\")\n",
      "s = math.sin(r)\n",
      "print('hello world! The sin({0}) = {1:0.2f}'.format(r,s))"
     ],
     "language": "python",
     "metadata": {},
     "outputs": [
      {
       "output_type": "stream",
       "stream": "stdout",
       "text": [
        "hello world! The sin(4.2) = -0.87\n"
       ]
      }
     ],
     "prompt_number": 1
    },
    {
     "cell_type": "markdown",
     "metadata": {},
     "source": [
      "There is a lot happening here!  "
     ]
    },
    {
     "cell_type": "heading",
     "level": 2,
     "metadata": {},
     "source": [
      "Functional Python"
     ]
    },
    {
     "cell_type": "markdown",
     "metadata": {},
     "source": [
      "<blockquote>\n",
      "Python acquired lambda, reduce, filter and map, courtesy of a Lisp hacker who missed them and submitted working patches. -Guido van Rossum\n",
      "</blockquote>\n",
      "\n",
      "- `map` \n",
      "- `reduce`\n",
      "- `filter`\n",
      "- `lambda`\n",
      "- And more: [itertools](https://docs.python.org/2/library/itertools.html), [pytoolz](https://github.com/pytoolz/toolz/)\n",
      "\n",
      "We will use these concepts (and more) in `Spark` and `IPython parallel`"
     ]
    },
    {
     "cell_type": "heading",
     "level": 3,
     "metadata": {},
     "source": [
      "The `map` abstraction"
     ]
    },
    {
     "cell_type": "code",
     "collapsed": false,
     "input": [
      "def square(x):\n",
      "    return x*x\n",
      "\n",
      "numbers = [1,2,3]\n",
      "\n",
      "def map_squares(nums):\n",
      "    res = []\n",
      "    for x in nums:\n",
      "        res.append( square(x) )\n",
      "    return res"
     ],
     "language": "python",
     "metadata": {},
     "outputs": [],
     "prompt_number": 2
    },
    {
     "cell_type": "markdown",
     "metadata": {},
     "source": [
      "or..."
     ]
    },
    {
     "cell_type": "code",
     "collapsed": false,
     "input": [
      "results = map(square, numbers)"
     ],
     "language": "python",
     "metadata": {},
     "outputs": [],
     "prompt_number": 3
    },
    {
     "cell_type": "heading",
     "level": 3,
     "metadata": {},
     "source": [
      "Anonymous functions: `lambda`"
     ]
    },
    {
     "cell_type": "code",
     "collapsed": false,
     "input": [
      "lambda_square = lambda x: x*x\n",
      "map(lambda_square, range(10))"
     ],
     "language": "python",
     "metadata": {},
     "outputs": [
      {
       "metadata": {},
       "output_type": "pyout",
       "prompt_number": 4,
       "text": [
        "[0, 1, 4, 9, 16, 25, 36, 49, 64, 81]"
       ]
      }
     ],
     "prompt_number": 4
    },
    {
     "cell_type": "code",
     "collapsed": false,
     "input": [
      "map(lambda x: x*x, range(10))"
     ],
     "language": "python",
     "metadata": {},
     "outputs": [
      {
       "metadata": {},
       "output_type": "pyout",
       "prompt_number": 5,
       "text": [
        "[0, 1, 4, 9, 16, 25, 36, 49, 64, 81]"
       ]
      }
     ],
     "prompt_number": 5
    },
    {
     "cell_type": "code",
     "collapsed": false,
     "input": [
      "res = map(lambda x: x*x, range(10))\n",
      "print(res)"
     ],
     "language": "python",
     "metadata": {},
     "outputs": [
      {
       "output_type": "stream",
       "stream": "stdout",
       "text": [
        "[0, 1, 4, 9, 16, 25, 36, 49, 64, 81]\n"
       ]
      }
     ],
     "prompt_number": 6
    },
    {
     "cell_type": "heading",
     "level": 3,
     "metadata": {},
     "source": [
      "Reduce"
     ]
    },
    {
     "cell_type": "markdown",
     "metadata": {},
     "source": [
      "Apply a function with **two** arguments cumulatively to the container."
     ]
    },
    {
     "cell_type": "code",
     "collapsed": false,
     "input": [
      "def add_num(x1, x2):\n",
      "    return x1+x2\n",
      "\n",
      "print(reduce(add_num, res))"
     ],
     "language": "python",
     "metadata": {},
     "outputs": [
      {
       "output_type": "stream",
       "stream": "stdout",
       "text": [
        "285\n"
       ]
      }
     ],
     "prompt_number": 7
    },
    {
     "cell_type": "code",
     "collapsed": false,
     "input": [
      "print(reduce(lambda x,y: x+y, res))"
     ],
     "language": "python",
     "metadata": {},
     "outputs": [
      {
       "output_type": "stream",
       "stream": "stdout",
       "text": [
        "285\n"
       ]
      }
     ],
     "prompt_number": 8
    },
    {
     "cell_type": "heading",
     "level": 3,
     "metadata": {},
     "source": [
      "`filter`"
     ]
    },
    {
     "cell_type": "markdown",
     "metadata": {},
     "source": [
      "Constructs a new list for items where the applied function is `True`."
     ]
    },
    {
     "cell_type": "code",
     "collapsed": false,
     "input": [
      "def less_than(x):\n",
      "    return x>10\n",
      "\n",
      "filter(less_than, res)"
     ],
     "language": "python",
     "metadata": {},
     "outputs": [
      {
       "metadata": {},
       "output_type": "pyout",
       "prompt_number": 9,
       "text": [
        "[16, 25, 36, 49, 64, 81]"
       ]
      }
     ],
     "prompt_number": 9
    },
    {
     "cell_type": "code",
     "collapsed": false,
     "input": [
      "filter(lambda x: x>10, res)"
     ],
     "language": "python",
     "metadata": {},
     "outputs": [
      {
       "metadata": {},
       "output_type": "pyout",
       "prompt_number": 10,
       "text": [
        "[16, 25, 36, 49, 64, 81]"
       ]
      }
     ],
     "prompt_number": 10
    },
    {
     "cell_type": "heading",
     "level": 2,
     "metadata": {
      "slideshow": {
       "slide_type": "slide"
      }
     },
     "source": [
      "Data Analysis Hello World"
     ]
    },
    {
     "cell_type": "markdown",
     "metadata": {},
     "source": [
      "How many unique words are in Hamlet?"
     ]
    },
    {
     "cell_type": "code",
     "collapsed": false,
     "input": [
      "hamlet = os.path.join('data','hamlet.txt')"
     ],
     "language": "python",
     "metadata": {},
     "outputs": [],
     "prompt_number": 11
    },
    {
     "cell_type": "code",
     "collapsed": false,
     "input": [
      "import re\n",
      "words = re.findall(r'\\w+', open(hamlet).read().lower())\n",
      "\n",
      "print(len(set(words)), 'unique words')"
     ],
     "language": "python",
     "metadata": {},
     "outputs": [
      {
       "output_type": "stream",
       "stream": "stdout",
       "text": [
        "4086 unique words\n"
       ]
      }
     ],
     "prompt_number": 12
    },
    {
     "cell_type": "markdown",
     "metadata": {},
     "source": [
      "- string conversion\n",
      "- regular expressions\n",
      "- sets"
     ]
    },
    {
     "cell_type": "heading",
     "level": 3,
     "metadata": {
      "slideshow": {
       "slide_type": "slide"
      }
     },
     "source": [
      "Frequency of words?"
     ]
    },
    {
     "cell_type": "markdown",
     "metadata": {},
     "source": [
      "Words greater than lenth `2`"
     ]
    },
    {
     "cell_type": "code",
     "collapsed": false,
     "input": [
      "words = filter(lambda x: len(x)>2, words)\n",
      "print(words[:10])"
     ],
     "language": "python",
     "metadata": {},
     "outputs": [
      {
       "output_type": "stream",
       "stream": "stdout",
       "text": [
        "['hamlet', 'dramatis', 'personae', 'claudius', 'king', 'denmark', 'king', 'claudius', 'hamlet', 'son']\n"
       ]
      }
     ],
     "prompt_number": 13
    },
    {
     "cell_type": "markdown",
     "metadata": {},
     "source": [
      "A favorite python data structure, the `dicionary`."
     ]
    },
    {
     "cell_type": "code",
     "collapsed": false,
     "input": [
      "d = dict() # could use {}\n",
      "for w in words:\n",
      "    d[w] = d.get(w,0) + 1"
     ],
     "language": "python",
     "metadata": {},
     "outputs": [],
     "prompt_number": 14
    },
    {
     "cell_type": "markdown",
     "metadata": {},
     "source": [
      "- get(key, default)"
     ]
    },
    {
     "cell_type": "heading",
     "level": 2,
     "metadata": {
      "slideshow": {
       "slide_type": "slide"
      }
     },
     "source": [
      "Sorting dictionarys, `lambdas`"
     ]
    },
    {
     "cell_type": "code",
     "collapsed": false,
     "input": [
      "sorted_items = sorted(d.items(), key=lambda x: x[1], reverse=True)\n",
      "\n",
      "tmp = map(print, sorted_items[:5])"
     ],
     "language": "python",
     "metadata": {},
     "outputs": [
      {
       "output_type": "stream",
       "stream": "stdout",
       "text": [
        "('the', 930)\n",
        "('and', 843)\n",
        "('you', 496)\n",
        "('hamlet', 368)\n",
        "('that', 346)\n"
       ]
      }
     ],
     "prompt_number": 15
    },
    {
     "cell_type": "markdown",
     "metadata": {},
     "source": [
      "- lambdas\n",
      "- map"
     ]
    },
    {
     "cell_type": "heading",
     "level": 2,
     "metadata": {
      "slideshow": {
       "slide_type": "slide"
      }
     },
     "source": [
      "Wrangling"
     ]
    },
    {
     "cell_type": "code",
     "collapsed": false,
     "input": [
      "values = map(lambda x: x[1], sorted_items[:20])\n",
      "labels = map(lambda x: x[0], sorted_items[:20])"
     ],
     "language": "python",
     "metadata": {},
     "outputs": [],
     "prompt_number": 16
    },
    {
     "cell_type": "code",
     "collapsed": false,
     "input": [
      "print(values), print(labels)"
     ],
     "language": "python",
     "metadata": {},
     "outputs": [
      {
       "output_type": "stream",
       "stream": "stdout",
       "text": [
        "[930, 843, 496, 368, 346, 278, 262, 238, 238, 232, 232, 215, 211, 186, 171, 160, 149, 134, 124, 112]\n",
        "['the', 'and', 'you', 'hamlet', 'that', 'lord', 'not', 'his', 'this', 'with', 'but', 'for', 'your', 'what', 'king', 'him', 'have', 'will', 'polonius', 'horatio']\n"
       ]
      },
      {
       "metadata": {},
       "output_type": "pyout",
       "prompt_number": 17,
       "text": [
        "(None, None)"
       ]
      }
     ],
     "prompt_number": 17
    },
    {
     "cell_type": "heading",
     "level": 3,
     "metadata": {},
     "source": [
      "List Comprehension"
     ]
    },
    {
     "cell_type": "code",
     "collapsed": false,
     "input": [
      "values = [ x[1] for x in sorted_items[:20] ]\n",
      "labels = [ x[0] for x in sorted_items[:20] ]"
     ],
     "language": "python",
     "metadata": {},
     "outputs": [],
     "prompt_number": 18
    },
    {
     "cell_type": "markdown",
     "metadata": {},
     "source": [
      "- another favorite: list comprehension!\n",
      "- selection"
     ]
    },
    {
     "cell_type": "heading",
     "level": 3,
     "metadata": {
      "slideshow": {
       "slide_type": "slide"
      }
     },
     "source": [
      "Visualize"
     ]
    },
    {
     "cell_type": "code",
     "collapsed": false,
     "input": [
      "%matplotlib inline\n",
      "import matplotlib.pyplot as plt\n",
      "import utils\n",
      "reload(utils)"
     ],
     "language": "python",
     "metadata": {},
     "outputs": [
      {
       "metadata": {},
       "output_type": "pyout",
       "prompt_number": 23,
       "text": [
        "<module 'utils' from 'utils.py'>"
       ]
      }
     ],
     "prompt_number": 23
    },
    {
     "cell_type": "code",
     "collapsed": false,
     "input": [
      "plt.barh(range(len(values)), values, color='grey')\n",
      "plt.yticks(range(len(values)), labels)\n",
      "plt.show()"
     ],
     "language": "python",
     "metadata": {},
     "outputs": [
      {
       "metadata": {},
       "output_type": "display_data",
       "png": "[encoded data removed]",
       "text": [
        "<matplotlib.figure.Figure at 0x432a810>"
       ]
      }
     ],
     "prompt_number": 24
    },
    {
     "cell_type": "heading",
     "level": 2,
     "metadata": {
      "slideshow": {
       "slide_type": "slide"
      }
     },
     "source": [
      "Process"
     ]
    },
    {
     "cell_type": "markdown",
     "metadata": {},
     "source": [
      "- Raw data (maybe BIG)\n",
      "- Processing (*wrangling*)\n",
      "- Exporatory Data Analysis\n",
      "- Analysis\n",
      "- Visualization\n",
      "- Web app?"
     ]
    },
    {
     "cell_type": "markdown",
     "metadata": {},
     "source": [
      "**Methods**: R, Python, Matlab, IDL, Excel,..."
     ]
    },
    {
     "cell_type": "markdown",
     "metadata": {},
     "source": [
      "**Python**: \n",
      "+ notebook, numpy, matplotlib, pandas, scikit-learn, \n",
      "+ pyspark, ipython parallel"
     ]
    }
   ],
   "metadata": {}
  }
 ]
}