{
 "metadata": {
  "name": "",
  "signature": "sha256:7864897a9752f4f08c7c4a4cd5b690d012465b26be34afcb1abc6c1e26a42539"
 },
 "nbformat": 3,
 "nbformat_minor": 0,
 "worksheets": [
  {
   "cells": [
    {
     "cell_type": "markdown",
     "metadata": {
      "slideshow": {
       "slide_type": "slide"
      }
     },
     "source": [
      "#Introduction to Python\n",
      "\n",
      "<p>\n",
      "Monte Lunacek<br>\n",
      "Research Computing<br>\n",
      "CU Boulder\n",
      "</p>"
     ]
    },
    {
     "cell_type": "markdown",
     "metadata": {},
     "source": [
      "<img src=\"files/img/monty-python.png\" style=\"height:300px;\">\n",
      "\n",
      "<blockquote>\n",
      "<p>\n",
      "Let us change our traditional attitude to the construction of programs: Instead of imagining that our main task is to instruct a computer what to do, let us concentrate rather on explaining to humans what we want the computer to do.\n",
      "<p>Donald E. Knuth, Literate Programming, 1984\n",
      "</blockquote>\n"
     ]
    },
    {
     "cell_type": "markdown",
     "metadata": {
      "slideshow": {
       "slide_type": "slide"
      }
     },
     "source": [
      "##What is Python?\n",
      "\n",
      "<blockquote>\n",
      "<p>\n",
      "Python is a general-purpose programming language that blends procedural, functional, and object-oriented paradigms\n",
      "<p>\n",
      "Mark Lutz, <a href=\"http://www.amazon.com/Learning-Python-Edition-Mark-Lutz/dp/1449355730\">Learning Python</a>\n",
      "</blockquote>\n",
      "\n",
      "* Simple, clean syntax\n",
      "* Easy to learn\n",
      "* Interpreted\n",
      "* Strong, dynamically typed\n",
      "* Runs everywhere: Linux, Mac, and Windows\n",
      "* [Free](http://www.fsf.org/), as in beer and speach\n",
      "* Expressive: do more with fewer lines of code\n",
      "* Lean: **modules**\n",
      "* Options: **Procedural**, **object-oriented**, and **functional**."
     ]
    },
    {
     "cell_type": "markdown",
     "metadata": {
      "slideshow": {
       "slide_type": "slide"
      }
     },
     "source": [
      "## Why Python?\n",
      "* Scripting lanugage\n",
      "    - os support\n",
      "    - glue existing applications\n",
      "* Scientific abstraction\n",
      "    - Use highly optimized C and Fortran libraies\n",
      "    - Intel MKL, HDF5, Blas, Lapack, MPI, Cuda, SVM\n",
      "* Data Analysis\n",
      "* Visualization\n",
      "* Scrape websites\n",
      "* Build websites\n",
      "* Anything!"
     ]
    },
    {
     "cell_type": "markdown",
     "metadata": {
      "slideshow": {
       "slide_type": "slide"
      }
     },
     "source": [
      "##Performance\n",
      "<blockquote>\n",
      "<p>\n",
      "CPU time is cheap, my time is expensive\n",
      "</p>\n",
      "</blockquote>\n",
      "\n",
      "* Expressive: minimal time required to develop code.\n",
      "* Rapid protoytping.\n",
      "* Interpreted and dynamically typed means it's slower.\n",
      "    - Use optimized libraries: e.g. <a href=\"https://http://www.numpy.org\"> numpy </a>, <a href=\"https://http://scipy.org\"> scipy </a>\n",
      "    - Find the bottleneck and write it in C/C++/Fortran: e.g. <a href=\"http://www.scipy.org/F2py\"> f2py</a>, <a href=\"http://docs.cython.org/\">cython</a>\n",
      "    - Just-in-time: e.g. <a href=\"http://numba.pydata.org/\">numba</a>\n",
      "* Implementing the built-in Python modules would require some advanced programming skills in other languages"
     ]
    },
    {
     "cell_type": "code",
     "collapsed": false,
     "input": [
      "print \"hello world\""
     ],
     "language": "python",
     "metadata": {},
     "outputs": [
      {
       "output_type": "stream",
       "stream": "stdout",
       "text": [
        "hello world\n"
       ]
      }
     ],
     "prompt_number": 3
    },
    {
     "cell_type": "markdown",
     "metadata": {
      "slideshow": {
       "slide_type": "slide"
      }
     },
     "source": [
      "##Python environments\n",
      "\n",
      "* [CPython](http://en.wikipedia.org/wiki/CPython): the standard interpreter.\n",
      "    * Interactively\n",
      "    * Run as a script\n",
      "* [CANOPY](https://www.enthought.com/products/canopy/): a Python IDE\n",
      "* [IPython shell](http://ipython.org/index.html) \n",
      "* [IPython notebook](http://ipython.org/notebook.html)"
     ]
    },
    {
     "cell_type": "markdown",
     "metadata": {
      "slideshow": {
       "slide_type": "slide"
      }
     },
     "source": [
      "## Interative coding\n",
      "* Write code using your text editor:\n",
      "    - Linux [gedit](https://projects.gnome.org/gedit/), \n",
      "    - Mac [Text Wrangler](http://www.barebones.com/products/textwrangler/)\n",
      "    - Windows [Notepad ++](http://notepad-plus-plus.org/)\n",
      "    - All [Sublime Text](http://www.sublimetext.com/), **CANOPY** (demo)\n",
      "* Run your code (often) in a **IPython** or **python** terminal\n",
      "* Fix issues\n",
      "* Repeat"
     ]
    },
    {
     "cell_type": "code",
     "collapsed": false,
     "input": [],
     "language": "python",
     "metadata": {},
     "outputs": []
    }
   ],
   "metadata": {}
  }
 ]
}