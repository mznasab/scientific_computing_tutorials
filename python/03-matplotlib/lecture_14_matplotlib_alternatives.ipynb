{
 "metadata": {
  "name": ""
 },
 "nbformat": 3,
 "nbformat_minor": 0,
 "worksheets": [
  {
   "cells": [
    {
     "cell_type": "markdown",
     "metadata": {},
     "source": [
      "## Alternatives"
     ]
    },
    {
     "cell_type": "code",
     "collapsed": false,
     "input": [
      "%matplotlib inline\n",
      "import numpy as np\n",
      "import matplotlib.pyplot as plt\n",
      "\n",
      "from sklearn.datasets import make_blobs\n",
      "\n",
      "X, _ = make_blobs(n_samples=2000, centers=2, random_state=37, cluster_std=4)\n",
      "x = X[:,0]\n",
      "y = X[:,1]\n",
      "print x\n",
      "print y"
     ],
     "language": "python",
     "metadata": {},
     "outputs": [
      {
       "output_type": "stream",
       "stream": "stdout",
       "text": [
        "[ 10.64985943  10.20901495  15.54724105 ...,   0.39293239  -7.88211049\n",
        "  -4.32135569]\n",
        "[ 1.63858326 -3.4416643   0.12727297 ..., -0.94181562  4.00080578\n",
        " -2.94063735]\n"
       ]
      }
     ],
     "prompt_number": 5
    },
    {
     "cell_type": "code",
     "collapsed": false,
     "input": [
      "def defaults(data):\n",
      "    \n",
      "#     try:\n",
      "#         print data.keys()\n",
      "#     except AttributeError:\n",
      "#         pass\n",
      "\n",
      "    #Plot has a single line2D object in a list\n",
      "    print type(data)\n",
      "\n",
      "\n",
      "fig, ax = plt.subplots()\n",
      "\n",
      "#defaults(ax.boxplot([np.random.randn(100),np.random.randn(100)] ))\n",
      "#defaults(ax.plot(np.random.randn(100),np.random.randn(100) ))\n",
      "ax.scatter(np.random.randn(10),np.random.randn(10))\n",
      "ax.scatter(np.random.randn(10),np.random.randn(10))\n",
      "for x in ax.artists:\n",
      "    print x\n",
      "\n",
      "print len(ax.collections)\n",
      "\n",
      "for x in ax.lines:\n",
      "    print x\n",
      "# defaults(ax[0,0].scatter(np.random.randn(10),np.random.randn(10) ))\n",
      "\n",
      "# defaults(ax[0,1].plot(np.random.randn(10), np.random.randn(10) ))\n",
      "# defaults(ax[0,1].plot(np.random.randn(10), np.random.randn(10) ))\n",
      "# defaults(ax[0,1].plot(np.random.randn(10), np.random.randn(10) ,'o'))\n",
      "\n",
      "# defaults(ax[0,2].hist(np.random.randn(100), normed=1, alpha=0.5, histtype='stepfilled', bins=20))\n",
      "\n",
      "# d = np.linspace(0,4,100)\n",
      "\n",
      "# defaults( ax[1,0].fill_between(d, 0, np.sin(d), alpha=0.25, linewidth=2))\n",
      "\n",
      "# years = [2004, 2005, 2006, 2007, 2008]\n",
      "# heights = [501, 607, 709, 650, 532] \n",
      "\n",
      "# defaults( ax[1,1].bar(np.array(years)-0.4, heights, alpha=0.75))\n",
      "\n",
      "# defaults( ax[1,2].hexbin(x, y, gridsize=20) )\n",
      "\n",
      "# defaults( ax[2,0].barh(np.array(years)-0.4, heights, alpha=0.75))\n",
      "\n",
      "fig.show()"
     ],
     "language": "python",
     "metadata": {},
     "outputs": [
      {
       "output_type": "stream",
       "stream": "stdout",
       "text": [
        "2\n"
       ]
      },
      {
       "metadata": {},
       "output_type": "display_data",
       "png": "[encoded data removed]",
       "text": [
        "<matplotlib.figure.Figure at 0x107c63610>"
       ]
      }
     ],
     "prompt_number": 20
    },
    {
     "cell_type": "code",
     "collapsed": false,
     "input": [
      "# def enable():\n",
      "#     try:\n",
      "#         from IPython.core.getipython import get_ipython\n",
      "#         from matplotlib.figure import Figure\n",
      "#     except ImportError:\n",
      "#         raise ImportError('This feature requires IPython 1.0+ and Matplotlib')\n",
      "#     ip = get_ipython()\n",
      "#     formatter = ip.display_formatter.formatters['text/html']\n",
      "#     formatter.for_type(Figure,  myfunc )"
     ],
     "language": "python",
     "metadata": {},
     "outputs": [],
     "prompt_number": 34
    },
    {
     "cell_type": "code",
     "collapsed": false,
     "input": [
      "def myfig(fig):\n",
      "    fig.set_facecolor('0.98')\n",
      "    print 'figure'\n",
      "    for child in fig.get_children():\n",
      "        print 'child', child\n",
      "    \n",
      "    \n",
      "    axes = fig.get_axes()\n",
      "    for index, ax in enumerate(axes):\n",
      "        print 'axes {0}'.format(index)\n",
      "        for x in ax.get_children():\n",
      "            print 'ax child', x\n",
      "        \n",
      "        \n",
      "        ax.set_axis_bgcolor('0.93')\n",
      "#         plt.setp(ax.boxplot['boxes'], color='black')\n",
      "#         plt.setp(ax.boxplot['whiskers'], color='black', linestyle = 'solid')\n",
      "#         plt.setp(ax.boxplot['fliers'], color='black', alpha = 0.9, marker= 'o', markersize = 3)\n",
      "#         plt.setp(ax.boxplot['medians'], color='black')\n",
      "#         print ax.boxplot['medians']\n",
      "        print ax, type(ax)\n",
      "        try:\n",
      "            for i in ax.lines:\n",
      "                print i\n",
      "                x, y = i.get_data()\n",
      "                print x,y\n",
      "            for i in ax.artists:\n",
      "                print 'artist', i\n",
      "            for collection in ax.collections:\n",
      "                print 'collections', collection\n",
      "        except:\n",
      "            print 'ERROR'\n",
      "    return fig\n",
      "\n",
      "fig, ax = plt.subplots(1,2)\n",
      "\n",
      "ax[0].plot(range(10), '-o')\n",
      "ax[1].boxplot(np.random.randn(100), patch_artist=True)\n",
      "myfig(fig)\n",
      "fig.show()"
     ],
     "language": "python",
     "metadata": {},
     "outputs": [
      {
       "output_type": "stream",
       "stream": "stdout",
       "text": [
        "figure\n",
        "child Rectangle(0,0;1x1)\n",
        "child Axes(0.125,0.1;0.352273x0.8)\n",
        "child Axes(0.547727,0.1;0.352273x0.8)\n",
        "axes 0\n",
        "ax child XAxis(80.000000,48.000000)\n",
        "ax child YAxis(80.000000,48.000000)\n",
        "ax child Line2D(_line0)\n",
        "ax child Text(0.5,1,'')\n",
        "ax child Text(0,1,'')\n",
        "ax child Text(1,1,'')\n",
        "ax child Rectangle(0,0;1x1)\n",
        "ax child Spine\n",
        "ax child Spine\n",
        "ax child Spine\n",
        "ax child Spine\n",
        "Axes(0.125,0.1;0.352273x0.8) <class 'matplotlib.axes.AxesSubplot'>\n",
        "Line2D(_line0)\n",
        "[ 0.  1.  2.  3.  4.  5.  6.  7.  8.  9.] [0 1 2 3 4 5 6 7 8 9]\n",
        "axes 1\n",
        "ax child XAxis(350.545455,48.000000)\n",
        "ax child YAxis(350.545455,48.000000)\n",
        "ax child Line2D(_line0)\n",
        "ax child Line2D(_line1)\n",
        "ax child Line2D(_line2)\n",
        "ax child Line2D(_line3)\n",
        "ax child Line2D(_line4)\n",
        "ax child Line2D(_line5)\n",
        "ax child Line2D(_line6)\n",
        "ax child Poly((0.925, -0.359008) ...)\n",
        "ax child Text(0.5,1,'')\n",
        "ax child Text(0,1,'')\n",
        "ax child Text(1,1,'')\n",
        "ax child Rectangle(0,0;1x1)\n",
        "ax child Spine\n",
        "ax child Spine\n",
        "ax child Spine\n",
        "ax child Spine\n",
        "Axes(0.547727,0.1;0.352273x0.8) <class 'matplotlib.axes.AxesSubplot'>\n",
        "Line2D(_line0)\n",
        "[ 1.  1.] [-0.3590085  -1.99844623]\n",
        "Line2D(_line1)\n",
        "[ 1.  1.] [ 0.92925285  1.96795248]\n",
        "Line2D(_line2)\n",
        "[ 0.9625  1.0375] [ 1.96795248  1.96795248]\n",
        "Line2D(_line3)\n",
        "[ 0.9625  1.0375] [-1.99844623 -1.99844623]\n",
        "Line2D(_line4)\n",
        "[ 0.925  1.075] [ 0.42111975  0.42111975]\n",
        "Line2D(_line5)\n",
        "[] []\n",
        "Line2D(_line6)\n",
        "[] []\n",
        "artist Poly((0.925, -0.359008) ...)\n"
       ]
      },
      {
       "metadata": {},
       "output_type": "display_data",
       "png": "[encoded data removed]",
       "text": [
        "<matplotlib.figure.Figure at 0x106f80450>"
       ]
      }
     ],
     "prompt_number": 38
    },
    {
     "cell_type": "code",
     "collapsed": false,
     "input": [
      "import matplotlib.pyplot as plt\n",
      "import numpy as np\n",
      "\n",
      "data = [np.random.normal(0, std, 1000) for std in range(1, 6)]\n",
      "\n",
      "fig, ax = plt.subplots()\n",
      "\n",
      "print 'Figure before'\n",
      "for child in fig.get_children():\n",
      "    print 'child', child\n",
      "\n",
      "box = ax.boxplot(data, patch_artist=True)\n",
      "\n",
      "colors = ['cyan', 'lightblue', 'lightgreen', 'tan', 'pink']\n",
      "for patch, color in zip(box['boxes'], colors):\n",
      "    patch.set_facecolor(color)\n",
      "\n",
      "print 'Figure after'\n",
      "for child in fig.get_children():\n",
      "    print 'child', child      \n",
      "    \n",
      "print ax.axes._\n",
      "for i in ax.lines:\n",
      "    print i.aname\n",
      "    print i.get_children()\n",
      "    x, y = i.get_data()\n",
      "    print x,y    \n",
      "\n",
      "#fig.show()\n",
      "    "
     ],
     "language": "python",
     "metadata": {},
     "outputs": [
      {
       "output_type": "stream",
       "stream": "stdout",
       "text": [
        "child Rectangle(0,0;1x1)\n",
        "child Axes(0.125,0.1;0.775x0.8)\n",
        "here\n",
        "child"
       ]
      },
      {
       "output_type": "stream",
       "stream": "stdout",
       "text": [
        " Rectangle(0,0;1x1)\n",
        "child Axes(0.125,0.1;0.775x0.8)\n",
        "Artist\n",
        "[]\n",
        "[ 1.  1.] [-0.65031547 -2.51477863]\n",
        "Artist\n",
        "[]\n",
        "[ 1.  1.] [ 0.62198655  2.50034536]\n",
        "Artist\n",
        "[]\n",
        "[ 0.875  1.125] [ 2.50034536  2.50034536]\n",
        "Artist\n",
        "[]\n",
        "[ 0.875  1.125] [-2.51477863 -2.51477863]\n",
        "Artist\n",
        "[]\n",
        "[ 0.75  1.25] [-0.03790657 -0.03790657]\n",
        "Artist\n",
        "[]\n",
        "[ 1.  1.  1.  1.  1.  1.  1.] [ 3.0354989   2.54202828  2.87370419  2.95021775  2.99978888  2.86628202\n",
        "  3.45469488]\n",
        "Artist\n",
        "[]\n",
        "[ 1.  1.  1.  1.  1.  1.] [-3.01028796 -2.69162958 -2.61442756 -2.59766357 -2.59529674 -3.5431916 ]\n",
        "Artist\n",
        "[]\n",
        "[ 2.  2.] [-1.37942546 -5.18730474]\n",
        "Artist\n",
        "[]\n",
        "[ 2.  2.] [ 1.25391123  5.01852144]\n",
        "Artist\n",
        "[]\n",
        "[ 1.875  2.125] [ 5.01852144  5.01852144]\n",
        "Artist\n",
        "[]\n",
        "[ 1.875  2.125] [-5.18730474 -5.18730474]\n",
        "Artist\n",
        "[]\n",
        "[ 1.75  2.25] [ 0.02142726  0.02142726]\n",
        "Artist\n",
        "[]\n",
        "[ 2.  2.  2.  2.] [ 6.25315672  5.88673568  5.63982107  5.20404104]\n",
        "Artist\n",
        "[]\n",
        "[ 2.  2.] [-6.53738004 -5.86413517]\n",
        "Artist\n",
        "[]\n",
        "[ 3.  3.] [-1.96808375 -8.00979801]\n",
        "Artist\n",
        "[]\n",
        "[ 3.  3.] [ 2.06205606  7.75469317]\n",
        "Artist\n",
        "[]\n",
        "[ 2.875  3.125] [ 7.75469317  7.75469317]\n",
        "Artist\n",
        "[]\n",
        "[ 2.875  3.125] [-8.00979801 -8.00979801]\n",
        "Artist\n",
        "[]\n",
        "[ 2.75  3.25] [ 0.06538521  0.06538521]\n",
        "Artist\n",
        "[]\n",
        "[ 3.  3.  3.  3.  3.  3.] [ 8.22800357  8.7016757   9.08169554  9.03450947  9.44472089  8.84234678]\n",
        "Artist\n",
        "[]\n",
        "[ 3.  3.] [-8.25620157 -8.21676842]\n",
        "Artist\n",
        "[]\n",
        "[ 4.  4.] [ -3.00047928 -11.26044871]\n",
        "Artist\n",
        "[]\n",
        "[ 4.  4.] [  2.64103492  11.01333542]\n",
        "Artist\n",
        "[]\n",
        "[ 3.875  4.125] [ 11.01333542  11.01333542]\n",
        "Artist\n",
        "[]\n",
        "[ 3.875  4.125] [-11.26044871 -11.26044871]\n",
        "Artist\n",
        "[]\n",
        "[ 3.75  4.25] [-0.17542032 -0.17542032]\n",
        "Artist\n",
        "[]\n",
        "[] []\n",
        "Artist\n",
        "[]\n",
        "[ 4.] [-11.60533198]\n",
        "Artist\n",
        "[]\n",
        "[ 5.  5.] [ -3.22206914 -12.86208328]\n",
        "Artist\n",
        "[]\n",
        "[ 5.  5.] [  3.47105584  13.50463078]\n",
        "Artist\n",
        "[]\n",
        "[ 4.875  5.125] [ 13.50463078  13.50463078]\n",
        "Artist\n",
        "[]\n",
        "[ 4.875  5.125] [-12.86208328 -12.86208328]\n",
        "Artist\n",
        "[]\n",
        "[ 4.75  5.25] [ 0.01766172  0.01766172]\n",
        "Artist\n",
        "[]\n",
        "[ 5.  5.  5.] [ 17.07341272  16.29873977  14.55794848]\n",
        "Artist\n",
        "[]\n",
        "[ 5.] [-14.37325376]\n"
       ]
      },
      {
       "metadata": {},
       "output_type": "display_data",
       "png": "[encoded data removed]",
       "text": [
        "<matplotlib.figure.Figure at 0x106819390>"
       ]
      }
     ],
     "prompt_number": 39
    },
    {
     "cell_type": "code",
     "collapsed": false,
     "input": [
      "class myax(plt.Axes):\n",
      "\n",
      "    def myplot():\n",
      "        print 'myplot'\n",
      "    \n",
      "\n",
      "fig, ax = plt.subplots(figsize=(4,4))\n",
      "\n",
      "ax.myplot()\n",
      "\n",
      "fig.show()\n",
      "    "
     ],
     "language": "python",
     "metadata": {},
     "outputs": [
      {
       "ename": "AttributeError",
       "evalue": "'AxesSubplot' object has no attribute 'myplot'",
       "output_type": "pyerr",
       "traceback": [
        "\u001b[0;31m---------------------------------------------------------------------------\u001b[0m\n\u001b[0;31mAttributeError\u001b[0m                            Traceback (most recent call last)",
        "\u001b[0;32m<ipython-input-40-c69fdd3acac6>\u001b[0m in \u001b[0;36m<module>\u001b[0;34m()\u001b[0m\n\u001b[1;32m      7\u001b[0m \u001b[0mfig\u001b[0m\u001b[0;34m,\u001b[0m \u001b[0max\u001b[0m \u001b[0;34m=\u001b[0m \u001b[0mplt\u001b[0m\u001b[0;34m.\u001b[0m\u001b[0msubplots\u001b[0m\u001b[0;34m(\u001b[0m\u001b[0mfigsize\u001b[0m\u001b[0;34m=\u001b[0m\u001b[0;34m(\u001b[0m\u001b[0;36m4\u001b[0m\u001b[0;34m,\u001b[0m\u001b[0;36m4\u001b[0m\u001b[0;34m)\u001b[0m\u001b[0;34m)\u001b[0m\u001b[0;34m\u001b[0m\u001b[0m\n\u001b[1;32m      8\u001b[0m \u001b[0;34m\u001b[0m\u001b[0m\n\u001b[0;32m----> 9\u001b[0;31m \u001b[0max\u001b[0m\u001b[0;34m.\u001b[0m\u001b[0mmyplot\u001b[0m\u001b[0;34m(\u001b[0m\u001b[0;34m)\u001b[0m\u001b[0;34m\u001b[0m\u001b[0m\n\u001b[0m\u001b[1;32m     10\u001b[0m \u001b[0;34m\u001b[0m\u001b[0m\n\u001b[1;32m     11\u001b[0m \u001b[0mfig\u001b[0m\u001b[0;34m.\u001b[0m\u001b[0mshow\u001b[0m\u001b[0;34m(\u001b[0m\u001b[0;34m)\u001b[0m\u001b[0;34m\u001b[0m\u001b[0m\n",
        "\u001b[0;31mAttributeError\u001b[0m: 'AxesSubplot' object has no attribute 'myplot'"
       ]
      },
      {
       "metadata": {},
       "output_type": "display_data",
       "png": "[encoded data removed]",
       "text": [
        "<matplotlib.figure.Figure at 0x106cc1750>"
       ]
      }
     ],
     "prompt_number": 40
    },
    {
     "cell_type": "code",
     "collapsed": false,
     "input": [
      "def boxplot2(x, ax=None, notch=False, sym='b+', vert=True, whis=1.5, positions=None,\n",
      "            widths=None, patch_artist=False, bootstrap=None, usermedians=None,\n",
      "            conf_intervals=None, meanline=False, showmeans=False, showcaps=True,\n",
      "            showbox=True, showfliers=True, boxprops=None, labels=None,\n",
      "            flierprops=None, medianprops=None, meanprops=None, hold=None):\n",
      "    if ax is None:\n",
      "        ax = plt.gca()\n",
      "    # allow callers to override the hold state by passing hold=True|False\n",
      "    washold = ax.ishold()\n",
      "\n",
      "    if hold is not None:\n",
      "        ax.hold(hold)\n",
      "    try:\n",
      "        ret = ax.boxplot(x, notch=notch, sym=sym, vert=vert, whis=whis,\n",
      "                         positions=positions, widths=widths,\n",
      "                         patch_artist=patch_artist, bootstrap=bootstrap,\n",
      "                         usermedians=usermedians,\n",
      "                         conf_intervals=conf_intervals)\n",
      "#         , #meanline=meanline,\n",
      "#                          showmeans=showmeans, showcaps=showcaps,\n",
      "#                          showbox=showbox, showfliers=showfliers,\n",
      "#                          boxprops=boxprops, labels=labels,\n",
      "#                          flierprops=flierprops, medianprops=medianprops,\n",
      "#                          meanprops=meanprops)\n",
      "        plt.draw_if_interactive()\n",
      "    finally:\n",
      "        ax.hold(washold)\n",
      "\n",
      "    return ax"
     ],
     "language": "python",
     "metadata": {},
     "outputs": [],
     "prompt_number": 123
    },
    {
     "cell_type": "code",
     "collapsed": false,
     "input": [
      "fig, ax = plt.subplots(1,2)\n",
      "\n",
      "boxplot2([np.random.randn(10)], ax=ax[0], patch_artist=True)\n",
      "#ax[0].boxplot([np.random.randn(10)])\n",
      "\n",
      "#ax[1] = boxplot2(ax[1], [np.random.randn(10)])\n",
      "ax[1].boxplot([np.random.randn(10)])\n",
      "\n",
      "\n",
      "fig.show()"
     ],
     "language": "python",
     "metadata": {},
     "outputs": [
      {
       "metadata": {},
       "output_type": "display_data",
       "png": "[encoded data removed]",
       "text": [
        "<matplotlib.figure.Figure at 0x10b8e9a90>"
       ]
      }
     ],
     "prompt_number": 124
    },
    {
     "cell_type": "code",
     "collapsed": false,
     "input": [
      "x = boxplot2(np.random.randn(100), patch_artist=True, notch=True)\n",
      "x.scatter(1,2)\n",
      "x.plot([1,2,3],[1,2,3])"
     ],
     "language": "python",
     "metadata": {},
     "outputs": [
      {
       "metadata": {},
       "output_type": "pyout",
       "prompt_number": 134,
       "text": [
        "[<matplotlib.lines.Line2D at 0x1089e4990>]"
       ]
      },
      {
       "metadata": {},
       "output_type": "display_data",
       "png": "[encoded data removed]",
       "text": [
        "<matplotlib.figure.Figure at 0x109966bd0>"
       ]
      }
     ],
     "prompt_number": 134
    },
    {
     "cell_type": "code",
     "collapsed": false,
     "input": [
      "import sys"
     ],
     "language": "python",
     "metadata": {},
     "outputs": [],
     "prompt_number": 135
    },
    {
     "cell_type": "code",
     "collapsed": false,
     "input": [
      "print ['','/Users/mlunacek/software/python_packages/smash'].extend(sys.path[1:])"
     ],
     "language": "python",
     "metadata": {},
     "outputs": [
      {
       "output_type": "stream",
       "stream": "stdout",
       "text": [
        "None\n"
       ]
      }
     ],
     "prompt_number": 139
    },
    {
     "cell_type": "code",
     "collapsed": false,
     "input": [
      "['','/Users/mlunacek/software/python_packages/smash']"
     ],
     "language": "python",
     "metadata": {},
     "outputs": [
      {
       "metadata": {},
       "output_type": "pyout",
       "prompt_number": 140,
       "text": [
        "['', '/Users/mlunacek/software/python_packages/smash']"
       ]
      }
     ],
     "prompt_number": 140
    },
    {
     "cell_type": "code",
     "collapsed": false,
     "input": [
      "tmp = ['','/Users/mlunacek/software/python_packages/smash/smash']\n",
      "tmp.extend(sys.path[1:])"
     ],
     "language": "python",
     "metadata": {},
     "outputs": [],
     "prompt_number": 150
    },
    {
     "cell_type": "code",
     "collapsed": false,
     "input": [
      "tmp"
     ],
     "language": "python",
     "metadata": {},
     "outputs": [
      {
       "metadata": {},
       "output_type": "pyout",
       "prompt_number": 151,
       "text": [
        "['',\n",
        " '/Users/mlunacek/software/python_packages/smash/smash',\n",
        " '/Users/mlunacek/anaconda/lib/python2.7/site-packages/remotenb-0.1-py2.7.egg',\n",
        " '/Users/mlunacek/anaconda/lib/python2.7/site-packages/mpld3-0.1-py2.7.egg',\n",
        " '/Users/mlunacek/software/local_python/smash',\n",
        " '/Users/mlunacek/software/local_python',\n",
        " '/usr/local/Cellar/sip/4.14.6/lib/python2.7',\n",
        " '/Users/mlunacek/Documents/python_package_example',\n",
        " '/Users/mlunacek/Sites/benchmarks/scripts',\n",
        " '/Users/mlunacek/tutorials/meetup_spring_2014/master/notebooks',\n",
        " '/Users/mlunacek/anaconda/python.app/Contents/lib/python27.zip',\n",
        " '/Users/mlunacek/anaconda/python.app/Contents/lib/python2.7',\n",
        " '/Users/mlunacek/anaconda/python.app/Contents/lib/python2.7/plat-darwin',\n",
        " '/Users/mlunacek/anaconda/python.app/Contents/lib/python2.7/plat-mac',\n",
        " '/Users/mlunacek/anaconda/python.app/Contents/lib/python2.7/plat-mac/lib-scriptpackages',\n",
        " '/Users/mlunacek/anaconda/python.app/Contents/lib/python2.7/lib-tk',\n",
        " '/Users/mlunacek/anaconda/python.app/Contents/lib/python2.7/lib-old',\n",
        " '/Users/mlunacek/anaconda/python.app/Contents/lib/python2.7/lib-dynload',\n",
        " '/Users/mlunacek/.local/lib/python2.7/site-packages',\n",
        " '/Users/mlunacek/anaconda/lib/python2.7/site-packages',\n",
        " '/Users/mlunacek/anaconda/lib/python2.7/site-packages/PIL',\n",
        " '/Users/mlunacek/anaconda/lib/python2.7/site-packages/setuptools-2.2-py2.7.egg',\n",
        " '/Users/mlunacek/anaconda/lib/python2.7/site-packages/IPython/extensions']"
       ]
      }
     ],
     "prompt_number": 151
    },
    {
     "cell_type": "code",
     "collapsed": false,
     "input": [
      "%matplotlib inline\n",
      "import matplotlib.pyplot as plt\n",
      "import numpy as np\n",
      "import smash as sm\n",
      "reload(sm)\n",
      "#sm.enable_notebook()\n",
      "#sm.disable_notebook()"
     ],
     "language": "python",
     "metadata": {},
     "outputs": [
      {
       "metadata": {},
       "output_type": "pyout",
       "prompt_number": 1,
       "text": [
        "<module 'smash' from '/Users/mlunacek/software/local_python/smash/smash/__init__.pyc'>"
       ]
      }
     ],
     "prompt_number": 1
    },
    {
     "cell_type": "code",
     "collapsed": false,
     "input": [
      "sm.scatter(x= np.random.randn(100), y=1.5*np.random.randn(100)+2)\n",
      "sm.scatter(x= np.random.randn(100)+5, y=1.5*np.random.randn(100)+10)\n",
      "sm.plt.show()"
     ],
     "language": "python",
     "metadata": {},
     "outputs": [
      {
       "metadata": {},
       "output_type": "display_data",
       "png": "[encoded data removed]",
       "text": [
        "<matplotlib.figure.Figure at 0x1060145d0>"
       ]
      }
     ],
     "prompt_number": 2
    },
    {
     "cell_type": "code",
     "collapsed": false,
     "input": [
      "sm.boxplot([np.random.randn(100), 1.5*np.random.randn(100)+2, 1.5*np.random.randn(100)+1])\n",
      "sm.plt.show()"
     ],
     "language": "python",
     "metadata": {},
     "outputs": [
      {
       "metadata": {},
       "output_type": "display_data",
       "png": "[encoded data removed]",
       "text": [
        "<matplotlib.figure.Figure at 0x10602c8d0>"
       ]
      }
     ],
     "prompt_number": 3
    },
    {
     "cell_type": "code",
     "collapsed": false,
     "input": [],
     "language": "python",
     "metadata": {},
     "outputs": []
    }
   ],
   "metadata": {}
  }
 ]
}