{
 "metadata": {
  "name": "",
  "signature": "sha256:a7de61e92513ef81e39138762812d5a13c44a0a7fd6c9376c040c1855beba67c"
 },
 "nbformat": 3,
 "nbformat_minor": 0,
 "worksheets": [
  {
   "cells": [
    {
     "cell_type": "heading",
     "level": 1,
     "metadata": {},
     "source": [
      "K-means"
     ]
    },
    {
     "cell_type": "markdown",
     "metadata": {},
     "source": [
      "Based on the [spark examples](https://github.com/apache/spark/blob/master/examples/src/main/python/kmeans.py)."
     ]
    },
    {
     "cell_type": "code",
     "collapsed": false,
     "input": [
      "import os\n",
      "import numpy as np"
     ],
     "language": "python",
     "metadata": {},
     "outputs": [],
     "prompt_number": 271
    },
    {
     "cell_type": "markdown",
     "metadata": {},
     "source": [
      "Create input file."
     ]
    },
    {
     "cell_type": "code",
     "collapsed": false,
     "input": [
      "N = 5\n",
      "num_points = 100\n",
      "\n",
      "set1 = np.reshape(5 + np.random.randn(num_points*N), (num_points,N))\n",
      "set2 = np.reshape(10 + np.random.randn(num_points*N), (num_points,N))\n",
      "set3 = np.reshape(15 + np.random.randn(num_points*N), (num_points,N))\n",
      "\n",
      "x = np.concatenate([set1, set2, set3])\n",
      "\n",
      "np.savetxt('points.txt', x, delimiter=',', fmt='%10.5f') "
     ],
     "language": "python",
     "metadata": {},
     "outputs": [],
     "prompt_number": 272
    },
    {
     "cell_type": "heading",
     "level": 2,
     "metadata": {},
     "source": [
      "Using `sklearn`"
     ]
    },
    {
     "cell_type": "code",
     "collapsed": false,
     "input": [
      "from sklearn.cluster import KMeans\n",
      "from sklearn.metrics.pairwise import euclidean_distances\n",
      "\n",
      "data = np.loadtxt('points.txt', delimiter=',')\n",
      "k_means = KMeans(init='k-means++', n_clusters=3, n_init=10)\n",
      "k_means.fit(data)"
     ],
     "language": "python",
     "metadata": {},
     "outputs": [
      {
       "metadata": {},
       "output_type": "pyout",
       "prompt_number": 273,
       "text": [
        "KMeans(copy_x=True, init='k-means++', max_iter=300, n_clusters=3, n_init=10,\n",
        "    n_jobs=1, precompute_distances=True, random_state=None, tol=0.0001,\n",
        "    verbose=0)"
       ]
      }
     ],
     "prompt_number": 273
    },
    {
     "cell_type": "code",
     "collapsed": false,
     "input": [
      "def plot(centers):\n",
      "    %matplotlib inline\n",
      "    import matplotlib.pyplot as plt\n",
      "    for i in range(3):\n",
      "        plt.plot(centers[i])"
     ],
     "language": "python",
     "metadata": {},
     "outputs": [],
     "prompt_number": 274
    },
    {
     "cell_type": "code",
     "collapsed": false,
     "input": [
      "plot(k_means.cluster_centers_)"
     ],
     "language": "python",
     "metadata": {},
     "outputs": [
      {
       "metadata": {},
       "output_type": "display_data",
       "png": "[encoded data removed]",
       "text": [
        "<matplotlib.figure.Figure at 0x39f58d0>"
       ]
      }
     ],
     "prompt_number": 275
    },
    {
     "cell_type": "heading",
     "level": 2,
     "metadata": {},
     "source": [
      "Using `numpy`"
     ]
    },
    {
     "cell_type": "code",
     "collapsed": false,
     "input": [
      "def closest_point(p, centers):  \n",
      "    dist = map(lambda x: np.sum((p - x) ** 2), centers)\n",
      "    return np.argmin(dist)"
     ],
     "language": "python",
     "metadata": {},
     "outputs": [],
     "prompt_number": 251
    },
    {
     "cell_type": "markdown",
     "metadata": {},
     "source": [
      "What is the closest center?"
     ]
    },
    {
     "cell_type": "code",
     "collapsed": false,
     "input": [
      "centers = data[:3].copy()\n",
      "closets_center = partial(closest_point, centers=centers)\n",
      "tmp = map(closets_center, data)\n",
      "\n",
      "print tmp[:10]"
     ],
     "language": "python",
     "metadata": {},
     "outputs": [
      {
       "output_type": "stream",
       "stream": "stdout",
       "text": [
        "[0, 1, 2, 0, 1, 2, 1, 1, 1, 1]\n"
       ]
      }
     ],
     "prompt_number": 276
    },
    {
     "cell_type": "markdown",
     "metadata": {},
     "source": [
      "Iterate"
     ]
    },
    {
     "cell_type": "code",
     "collapsed": false,
     "input": [
      "k_points = data[:3].copy()\n",
      "\n",
      "for i in range(30):\n",
      "    closets_center = partial(closest_point, centers=k_points)\n",
      "    tmp = np.array(map(closets_center, data))\n",
      "    for i in range(len(centers)):\n",
      "        k_points[i] = np.mean(data[tmp==i])"
     ],
     "language": "python",
     "metadata": {},
     "outputs": [],
     "prompt_number": 277
    },
    {
     "cell_type": "code",
     "collapsed": false,
     "input": [
      "plot(k_points)"
     ],
     "language": "python",
     "metadata": {},
     "outputs": [
      {
       "metadata": {},
       "output_type": "display_data",
       "png": "[encoded data removed]",
       "text": [
        "<matplotlib.figure.Figure at 0x38b7990>"
       ]
      }
     ],
     "prompt_number": 278
    },
    {
     "cell_type": "heading",
     "level": 2,
     "metadata": {},
     "source": [
      "Spark"
     ]
    },
    {
     "cell_type": "code",
     "collapsed": false,
     "input": [
      "from pyspark import  SparkContext\n",
      "SparkContext.setSystemProperty('spark.executor.memory', '20g')\n",
      "\n",
      "if 'sc' not in globals():\n",
      "    sc = SparkContext( CLUSTER_URL, 'pyspark')"
     ],
     "language": "python",
     "metadata": {},
     "outputs": [],
     "prompt_number": 279
    },
    {
     "cell_type": "markdown",
     "metadata": {},
     "source": [
      "Convert line to `numpy` array of floats."
     ]
    },
    {
     "cell_type": "code",
     "collapsed": false,
     "input": [
      "def parseVector(line):\n",
      "    return np.array([float(x) for x in line.strip().split(',')])"
     ],
     "language": "python",
     "metadata": {},
     "outputs": [],
     "prompt_number": 280
    },
    {
     "cell_type": "code",
     "collapsed": false,
     "input": [
      "lines = sc.textFile('points.txt')\n",
      "lines.take(2)"
     ],
     "language": "python",
     "metadata": {},
     "outputs": [
      {
       "metadata": {},
       "output_type": "pyout",
       "prompt_number": 281,
       "text": [
        "[u'   3.94795,   5.24514,   4.21983,   5.82014,   3.56495',\n",
        " u'   4.12071,   5.60875,   4.98164,   3.79047,   5.37827']"
       ]
      }
     ],
     "prompt_number": 281
    },
    {
     "cell_type": "code",
     "collapsed": false,
     "input": [
      "data = lines.map(parseVector).cache()\n",
      "print data.count()"
     ],
     "language": "python",
     "metadata": {},
     "outputs": [
      {
       "output_type": "stream",
       "stream": "stdout",
       "text": [
        "300\n"
       ]
      }
     ],
     "prompt_number": 282
    },
    {
     "cell_type": "code",
     "collapsed": false,
     "input": [
      "data.first()"
     ],
     "language": "python",
     "metadata": {},
     "outputs": [
      {
       "metadata": {},
       "output_type": "pyout",
       "prompt_number": 283,
       "text": [
        "array([ 3.94795,  5.24514,  4.21983,  5.82014,  3.56495])"
       ]
      }
     ],
     "prompt_number": 283
    },
    {
     "cell_type": "code",
     "collapsed": false,
     "input": [
      "k_points = data.take(3)\n",
      "temp_dist = 1.0\n",
      "\n",
      "closest = data.map(\n",
      "    lambda p : (closest_point(p, k_points), (p, 1)))\n",
      "closest.take(2)"
     ],
     "language": "python",
     "metadata": {},
     "outputs": [
      {
       "metadata": {},
       "output_type": "pyout",
       "prompt_number": 284,
       "text": [
        "[(0, (array([ 3.94795,  5.24514,  4.21983,  5.82014,  3.56495]), 1)),\n",
        " (1, (array([ 4.12071,  5.60875,  4.98164,  3.79047,  5.37827]), 1))]"
       ]
      }
     ],
     "prompt_number": 284
    },
    {
     "cell_type": "code",
     "collapsed": false,
     "input": [
      "point_stats = closest.reduceByKey(\n",
      "    lambda (x1, y1), (x2, y2): (x1 + x2, y1 + y2))\n",
      "point_stats.take(2)"
     ],
     "language": "python",
     "metadata": {},
     "outputs": [
      {
       "metadata": {},
       "output_type": "pyout",
       "prompt_number": 285,
       "text": [
        "[(0,\n",
        "  (array([ 203.28924,  195.7836 ,  188.10686,  233.8193 ,  178.81389]), 40)),\n",
        " (1,\n",
        "  (array([ 2758.36735,  2753.10089,  2742.10208,  2743.79008,  2764.49942]),\n",
        "   251))]"
       ]
      }
     ],
     "prompt_number": 285
    },
    {
     "cell_type": "code",
     "collapsed": false,
     "input": [
      "new_points = point_stats.map(\n",
      "    lambda (x, (y, z)): (x, y / z)).collect()\n",
      "print new_points"
     ],
     "language": "python",
     "metadata": {},
     "outputs": [
      {
       "output_type": "stream",
       "stream": "stdout",
       "text": [
        "[(0, array([ 5.082231  ,  4.89459   ,  4.7026715 ,  5.8454825 ,  4.47034725])), (1, array([ 10.98951135,  10.96852944,  10.92470948,  10.93143458,  11.01394191])), (2, array([ 5.15993444,  3.87556556,  4.26854111,  4.40604556,  5.57423444]))]\n"
       ]
      }
     ],
     "prompt_number": 286
    },
    {
     "cell_type": "code",
     "collapsed": false,
     "input": [
      "temp_dist = sum(map(lambda (x,y): np.sum((k_points[x] - y) ** 2), \n",
      "                new_points))\n",
      "\n",
      "for (x, y) in new_points:\n",
      "    k_points[x] = y"
     ],
     "language": "python",
     "metadata": {},
     "outputs": [],
     "prompt_number": 287
    },
    {
     "cell_type": "code",
     "collapsed": false,
     "input": [
      "for x in k_points:\n",
      "    print x[:5]"
     ],
     "language": "python",
     "metadata": {},
     "outputs": [
      {
       "output_type": "stream",
       "stream": "stdout",
       "text": [
        "[ 5.082231    4.89459     4.7026715   5.8454825   4.47034725]\n",
        "[ 10.98951135  10.96852944  10.92470948  10.93143458  11.01394191]\n",
        "[ 5.15993444  3.87556556  4.26854111  4.40604556  5.57423444]\n"
       ]
      }
     ],
     "prompt_number": 288
    },
    {
     "cell_type": "heading",
     "level": 2,
     "metadata": {},
     "source": [
      "Summary"
     ]
    },
    {
     "cell_type": "code",
     "collapsed": false,
     "input": [
      "lines = sc.textFile('points.txt')\n",
      "data = lines.map(parseVector).cache()\n",
      "\n",
      "k_points = data.take(3)\n",
      "temp_dist = 1.0\n",
      "\n",
      "while temp_dist > 0.001:\n",
      "\n",
      "    closest = data.map(\n",
      "        lambda p : (closest_point(p, k_points), (p, 1)))\n",
      "    \n",
      "    point_stats = closest.reduceByKey(\n",
      "        lambda (x1, y1), (x2, y2): (x1 + x2, y1 + y2))\n",
      "    \n",
      "    new_points = point_stats.map(\n",
      "        lambda (x, (y, z)): (x, y / z)).collect()\n",
      "\n",
      "    temp_dist = sum(map(lambda (x,y): np.sum((k_points[x] - y) ** 2), \n",
      "                    new_points))\n",
      "    \n",
      "    for (x, y) in new_points:\n",
      "        k_points[x] = y"
     ],
     "language": "python",
     "metadata": {},
     "outputs": [],
     "prompt_number": 289
    },
    {
     "cell_type": "code",
     "collapsed": false,
     "input": [
      "for x in k_points:\n",
      "    print x[:5]"
     ],
     "language": "python",
     "metadata": {},
     "outputs": [
      {
       "output_type": "stream",
       "stream": "stdout",
       "text": [
        "[ 9.9623807  9.931509   9.9043745  9.9688528  9.9388466]\n",
        "[ 15.013431   14.8657509  14.8416114  15.0812099  14.9176245]\n",
        "[ 5.1051483  5.0403859  4.9402722  5.1225752  5.0783431]\n"
       ]
      }
     ],
     "prompt_number": 290
    },
    {
     "cell_type": "code",
     "collapsed": false,
     "input": [
      "plot(k_points)"
     ],
     "language": "python",
     "metadata": {},
     "outputs": [
      {
       "metadata": {},
       "output_type": "display_data",
       "png": "[encoded data removed]",
       "text": [
        "<matplotlib.figure.Figure at 0x38b1110>"
       ]
      }
     ],
     "prompt_number": 291
    },
    {
     "cell_type": "code",
     "collapsed": false,
     "input": [],
     "language": "python",
     "metadata": {},
     "outputs": []
    }
   ],
   "metadata": {}
  }
 ]
}